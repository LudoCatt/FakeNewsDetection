{
  "cells": [
    {
      "cell_type": "markdown",
      "metadata": {
        "id": "view-in-github",
        "colab_type": "text"
      },
      "source": [
        "<a href=\"https://colab.research.google.com/github/LudoCatt/FakeNewsDetection/blob/main/Emotions.ipynb\" target=\"_parent\"><img src=\"https://colab.research.google.com/assets/colab-badge.svg\" alt=\"Open In Colab\"/></a>"
      ]
    },
    {
      "cell_type": "markdown",
      "metadata": {
        "id": "FZacYr6fo1eS"
      },
      "source": [
        "# Sentiment Analysis using Flair"
      ]
    },
    {
      "cell_type": "markdown",
      "metadata": {
        "id": "pD4x5QPJo9QF"
      },
      "source": [
        "largely inspired by [this tutorial](https://medium.com/@b.terryjack/nlp-pre-trained-sentiment-analysis-1eb52a9d742c) and [this tutorial](https://www.section.io/engineering-education/how-to-create-nlp-application-with-flair/#splitting-the-dataset) "
      ]
    },
    {
      "cell_type": "markdown",
      "metadata": {
        "id": "TacYYRI23qLu"
      },
      "source": [
        "## load dataset from [Sem-Eval 2018](https://www.scielo.org.mx/pdf/cys/v24n3/1405-5546-cys-24-03-1159.pdf) competition"
      ]
    },
    {
      "cell_type": "markdown",
      "metadata": {
        "id": "5lsEoTwk-C7m"
      },
      "source": [
        "### install libraries"
      ]
    },
    {
      "cell_type": "code",
      "execution_count": null,
      "metadata": {
        "id": "qkuixKRAVNRW"
      },
      "outputs": [],
      "source": [
        "#!pip uninstall protobuf"
      ]
    },
    {
      "cell_type": "code",
      "execution_count": null,
      "metadata": {
        "colab": {
          "base_uri": "https://localhost:8080/"
        },
        "id": "OK1JP_fnhQfA",
        "outputId": "c851a6f1-2df5-4db5-dc8f-17fa2379efeb"
      },
      "outputs": [
        {
          "output_type": "stream",
          "name": "stdout",
          "text": [
            "\u001b[2K     \u001b[90m━━━━━━━━━━━━━━━━━━━━━━━━━━━━━━━━━━━━━━━\u001b[0m \u001b[32m373.1/373.1 kB\u001b[0m \u001b[31m8.4 MB/s\u001b[0m eta \u001b[36m0:00:00\u001b[0m\n",
            "\u001b[2K     \u001b[90m━━━━━━━━━━━━━━━━━━━━━━━━━━━━━━━━━━━━━━\u001b[0m \u001b[32m788.5/788.5 kB\u001b[0m \u001b[31m34.5 MB/s\u001b[0m eta \u001b[36m0:00:00\u001b[0m\n",
            "\u001b[?25h  Preparing metadata (setup.py) ... \u001b[?25l\u001b[?25hdone\n",
            "  Preparing metadata (setup.py) ... \u001b[?25l\u001b[?25hdone\n",
            "\u001b[2K     \u001b[90m━━━━━━━━━━━━━━━━━━━━━━━━━━━━━━━━━━━━━━━\u001b[0m \u001b[32m135.6/135.6 kB\u001b[0m \u001b[31m5.5 MB/s\u001b[0m eta \u001b[36m0:00:00\u001b[0m\n",
            "\u001b[2K     \u001b[90m━━━━━━━━━━━━━━━━━━━━━━━━━━━━━━━━━━━━━━━━\u001b[0m \u001b[32m7.1/7.1 MB\u001b[0m \u001b[31m72.0 MB/s\u001b[0m eta \u001b[36m0:00:00\u001b[0m\n",
            "\u001b[2K     \u001b[90m━━━━━━━━━━━━━━━━━━━━━━━━━━━━━━━━━━━━━━\u001b[0m \u001b[32m981.5/981.5 kB\u001b[0m \u001b[31m47.5 MB/s\u001b[0m eta \u001b[36m0:00:00\u001b[0m\n",
            "\u001b[?25h  Preparing metadata (setup.py) ... \u001b[?25l\u001b[?25hdone\n",
            "\u001b[2K     \u001b[90m━━━━━━━━━━━━━━━━━━━━━━━━━━━━━━━━━━━━━━━━\u001b[0m \u001b[32m53.1/53.1 kB\u001b[0m \u001b[31m5.9 MB/s\u001b[0m eta \u001b[36m0:00:00\u001b[0m\n",
            "\u001b[2K     \u001b[90m━━━━━━━━━━━━━━━━━━━━━━━━━━━━━━━━━━━━━━━━\u001b[0m \u001b[32m19.7/19.7 MB\u001b[0m \u001b[31m57.0 MB/s\u001b[0m eta \u001b[36m0:00:00\u001b[0m\n",
            "\u001b[?25h  Installing build dependencies ... \u001b[?25l\u001b[?25hdone\n",
            "  Getting requirements to build wheel ... \u001b[?25l\u001b[?25hdone\n",
            "  Preparing metadata (pyproject.toml) ... \u001b[?25l\u001b[?25hdone\n",
            "\u001b[2K     \u001b[90m━━━━━━━━━━━━━━━━━━━━━━━━━━━━━━━━━━━━━━\u001b[0m \u001b[32m224.5/224.5 kB\u001b[0m \u001b[31m26.2 MB/s\u001b[0m eta \u001b[36m0:00:00\u001b[0m\n",
            "\u001b[?25h  Preparing metadata (setup.py) ... \u001b[?25l\u001b[?25hdone\n",
            "\u001b[2K     \u001b[90m━━━━━━━━━━━━━━━━━━━━━━━━━━━━━━━━━━━━━━━━\u001b[0m \u001b[32m1.3/1.3 MB\u001b[0m \u001b[31m63.6 MB/s\u001b[0m eta \u001b[36m0:00:00\u001b[0m\n",
            "\u001b[2K     \u001b[90m━━━━━━━━━━━━━━━━━━━━━━━━━━━━━━━━━━━━━━\u001b[0m \u001b[32m474.6/474.6 kB\u001b[0m \u001b[31m38.1 MB/s\u001b[0m eta \u001b[36m0:00:00\u001b[0m\n",
            "\u001b[2K     \u001b[90m━━━━━━━━━━━━━━━━━━━━━━━━━━━━━━━━━━━━━━━━\u001b[0m \u001b[32m7.8/7.8 MB\u001b[0m \u001b[31m88.7 MB/s\u001b[0m eta \u001b[36m0:00:00\u001b[0m\n",
            "\u001b[2K     \u001b[90m━━━━━━━━━━━━━━━━━━━━━━━━━━━━━━━━━━━━━━━━\u001b[0m \u001b[32m1.1/1.1 MB\u001b[0m \u001b[31m79.4 MB/s\u001b[0m eta \u001b[36m0:00:00\u001b[0m\n",
            "\u001b[2K     \u001b[90m━━━━━━━━━━━━━━━━━━━━━━━━━━━━━━━━━━━━━━━\u001b[0m \u001b[32m10.8/10.8 MB\u001b[0m \u001b[31m125.5 MB/s\u001b[0m eta \u001b[36m0:00:00\u001b[0m\n",
            "\u001b[2K     \u001b[90m━━━━━━━━━━━━━━━━━━━━━━━━━━━━━━━━━━━━━━━━\u001b[0m \u001b[32m79.8/79.8 kB\u001b[0m \u001b[31m10.7 MB/s\u001b[0m eta \u001b[36m0:00:00\u001b[0m\n",
            "\u001b[2K     \u001b[90m━━━━━━━━━━━━━━━━━━━━━━━━━━━━━━━━━━━━━━\u001b[0m \u001b[32m110.5/110.5 kB\u001b[0m \u001b[31m15.2 MB/s\u001b[0m eta \u001b[36m0:00:00\u001b[0m\n",
            "\u001b[2K     \u001b[90m━━━━━━━━━━━━━━━━━━━━━━━━━━━━━━━━━━━━━━\u001b[0m \u001b[32m212.5/212.5 kB\u001b[0m \u001b[31m26.4 MB/s\u001b[0m eta \u001b[36m0:00:00\u001b[0m\n",
            "\u001b[2K     \u001b[90m━━━━━━━━━━━━━━━━━━━━━━━━━━━━━━━━━━━━━━\u001b[0m \u001b[32m134.3/134.3 kB\u001b[0m \u001b[31m18.8 MB/s\u001b[0m eta \u001b[36m0:00:00\u001b[0m\n",
            "\u001b[2K     \u001b[90m━━━━━━━━━━━━━━━━━━━━━━━━━━━━━━━━━━━━━━━━\u001b[0m \u001b[32m1.0/1.0 MB\u001b[0m \u001b[31m81.9 MB/s\u001b[0m eta \u001b[36m0:00:00\u001b[0m\n",
            "\u001b[2K     \u001b[90m━━━━━━━━━━━━━━━━━━━━━━━━━━━━━━━━━━━━━━\u001b[0m \u001b[32m219.1/219.1 kB\u001b[0m \u001b[31m28.0 MB/s\u001b[0m eta \u001b[36m0:00:00\u001b[0m\n",
            "\u001b[2K     \u001b[90m━━━━━━━━━━━━━━━━━━━━━━━━━━━━━━━━━━━━━━\u001b[0m \u001b[32m114.5/114.5 kB\u001b[0m \u001b[31m15.7 MB/s\u001b[0m eta \u001b[36m0:00:00\u001b[0m\n",
            "\u001b[2K     \u001b[90m━━━━━━━━━━━━━━━━━━━━━━━━━━━━━━━━━━━━━━\u001b[0m \u001b[32m268.8/268.8 kB\u001b[0m \u001b[31m33.0 MB/s\u001b[0m eta \u001b[36m0:00:00\u001b[0m\n",
            "\u001b[2K     \u001b[90m━━━━━━━━━━━━━━━━━━━━━━━━━━━━━━━━━━━━━━\u001b[0m \u001b[32m149.6/149.6 kB\u001b[0m \u001b[31m20.7 MB/s\u001b[0m eta \u001b[36m0:00:00\u001b[0m\n",
            "\u001b[?25h  Building wheel for gdown (pyproject.toml) ... \u001b[?25l\u001b[?25hdone\n",
            "  Building wheel for mpld3 (setup.py) ... \u001b[?25l\u001b[?25hdone\n",
            "  Building wheel for sqlitedict (setup.py) ... \u001b[?25l\u001b[?25hdone\n",
            "  Building wheel for langdetect (setup.py) ... \u001b[?25l\u001b[?25hdone\n",
            "  Building wheel for pptree (setup.py) ... \u001b[?25l\u001b[?25hdone\n",
            "\u001b[31mERROR: pip's dependency resolver does not currently take into account all the packages that are installed. This behaviour is the source of the following dependency conflicts.\n",
            "tensorflow 2.12.0 requires protobuf!=4.21.0,!=4.21.1,!=4.21.2,!=4.21.3,!=4.21.4,!=4.21.5,<5.0.0dev,>=3.20.3, but you have protobuf 3.20.2 which is incompatible.\n",
            "tensorflow-metadata 1.13.1 requires protobuf<5,>=3.20.3, but you have protobuf 3.20.2 which is incompatible.\u001b[0m\u001b[31m\n",
            "\u001b[0m"
          ]
        }
      ],
      "source": [
        "!pip install protobuf==3.20.3 --quiet\n",
        "!pip install flair --quiet"
      ]
    },
    {
      "cell_type": "markdown",
      "metadata": {
        "id": "TbB9GlJW-KOQ"
      },
      "source": [
        "### import flair NLP library; visualisation of pretrained classifier"
      ]
    },
    {
      "cell_type": "code",
      "execution_count": null,
      "metadata": {
        "colab": {
          "base_uri": "https://localhost:8080/",
          "height": 236,
          "referenced_widgets": [
            "42559398dacc4b02be1d03b1efb98d0d",
            "3de274cb9e3c43d296dc68d44e1527a1",
            "07342bdd2a8e44ed8cced2c47759c289",
            "f2ba5e1cb57f401986c8fcdfa22bc466",
            "b06db541428e4e1a8a3df5957fdc9f66",
            "2873a78ad7824f8f976a440ead748d4c",
            "fda5e17324c649f1b3cdb4d273339579",
            "cda277cfc8af4a85b53db14cc6edb8a4",
            "8c624957eb8c49589ccc26904f00ca31",
            "90c78b2aa08f4b7989032a1ccc7c27e0",
            "8f23400e5dad4ccb9838b1f829b33b57",
            "4fac0bd829a643fc8125af0fc435a77c",
            "5629f7d643404c77b48d89965f0a2e59",
            "13fb3436513a4b949f799c749a62cb27",
            "636554ce1c0e4804b367e4f6568bfa07",
            "87fafc865e144c9f839ae18f2bb058a8",
            "46bc8501b5914d9aa1d6f924033ed016",
            "b04d168216974c01902fe2362d675059",
            "ca79ed144f824d30966d6d0e0528961c",
            "9ecbb6f5e9ab4ae0b3747c1ff342c74e",
            "b615103ee3ad4ecd84d257a4989a314a",
            "db9edc4aedb44561af1f196095e7dde2",
            "321bcc6fde6741819e191bdc039f5da7",
            "b757c870327f4f6186defc5474d3e563",
            "ab09fa5aaa524431bfb09fdfe304b402",
            "8804ff6104224513b688f98c71fad93e",
            "a0640463c7ec4c38b01918489627d682",
            "5ea334eed17f4a21a44acd17477f7811",
            "5d3c94809f3f4cd59eb4aa3b939e00d2",
            "281cc015fc4f4c60842529bba667ea5d",
            "5b85e596cfa84e66b3fea8836538cd2c",
            "20bcbc05814148a0b2f3ce76bd2c3463",
            "b5ef828eb30f4997b48d1896a9ac244b",
            "d3059be6494540249aa7e534e804c31e",
            "144fca85ed4a492b84035108803ae470",
            "15377394f08248c881acc99ae8493d90",
            "b879ad8177244289beb982bc4352425c",
            "8bd3d3edc7de4596b186069ae60f723d",
            "137f8c203b9a41b3811e0ffbe32a0959",
            "30f449b61d404a4ca6975137e0938340",
            "e216bdaaff3743d38eb30afe1be11613",
            "c2d9699e49be4974bf3704d4497d1324",
            "439a2f6a9acd4611bbd0cde7134ee95c",
            "f0fe31ba10744042aabcde87046f10b9"
          ]
        },
        "id": "_iXQJx61WBPh",
        "outputId": "61e83c5e-dfc3-4300-9fc8-6a454514f203"
      },
      "outputs": [
        {
          "output_type": "stream",
          "name": "stdout",
          "text": [
            "2023-05-23 12:31:00,331 https://nlp.informatik.hu-berlin.de/resources/models/sentiment-curated-distilbert/sentiment-en-mix-distillbert_4.pt not found in cache, downloading to /tmp/tmpictlw8cg\n"
          ]
        },
        {
          "output_type": "stream",
          "name": "stderr",
          "text": [
            "100%|██████████| 253M/253M [00:12<00:00, 21.7MB/s]"
          ]
        },
        {
          "output_type": "stream",
          "name": "stdout",
          "text": [
            "2023-05-23 12:31:13,010 copying /tmp/tmpictlw8cg to cache at /root/.flair/models/sentiment-en-mix-distillbert_4.pt\n"
          ]
        },
        {
          "output_type": "stream",
          "name": "stderr",
          "text": [
            "\n"
          ]
        },
        {
          "output_type": "stream",
          "name": "stdout",
          "text": [
            "2023-05-23 12:31:13,542 removing temp file /tmp/tmpictlw8cg\n"
          ]
        },
        {
          "output_type": "display_data",
          "data": {
            "text/plain": [
              "Downloading (…)okenizer_config.json:   0%|          | 0.00/28.0 [00:00<?, ?B/s]"
            ],
            "application/vnd.jupyter.widget-view+json": {
              "version_major": 2,
              "version_minor": 0,
              "model_id": "42559398dacc4b02be1d03b1efb98d0d"
            }
          },
          "metadata": {}
        },
        {
          "output_type": "display_data",
          "data": {
            "text/plain": [
              "Downloading (…)lve/main/config.json:   0%|          | 0.00/483 [00:00<?, ?B/s]"
            ],
            "application/vnd.jupyter.widget-view+json": {
              "version_major": 2,
              "version_minor": 0,
              "model_id": "4fac0bd829a643fc8125af0fc435a77c"
            }
          },
          "metadata": {}
        },
        {
          "output_type": "display_data",
          "data": {
            "text/plain": [
              "Downloading (…)solve/main/vocab.txt:   0%|          | 0.00/232k [00:00<?, ?B/s]"
            ],
            "application/vnd.jupyter.widget-view+json": {
              "version_major": 2,
              "version_minor": 0,
              "model_id": "321bcc6fde6741819e191bdc039f5da7"
            }
          },
          "metadata": {}
        },
        {
          "output_type": "display_data",
          "data": {
            "text/plain": [
              "Downloading (…)/main/tokenizer.json:   0%|          | 0.00/466k [00:00<?, ?B/s]"
            ],
            "application/vnd.jupyter.widget-view+json": {
              "version_major": 2,
              "version_minor": 0,
              "model_id": "d3059be6494540249aa7e534e804c31e"
            }
          },
          "metadata": {}
        }
      ],
      "source": [
        "import flair\n",
        "# 'en-sentiment' text classifier is a pre-trained model that classifies text \n",
        "# into two emotions, with a confidence score\n",
        "flair_sentiment = flair.models.TextClassifier.load('en-sentiment')"
      ]
    },
    {
      "cell_type": "code",
      "execution_count": null,
      "metadata": {
        "colab": {
          "base_uri": "https://localhost:8080/"
        },
        "id": "Ykynd7xCqGca",
        "outputId": "cecdae0d-bd75-4136-c0a5-f66586e56fb9"
      },
      "outputs": [
        {
          "output_type": "stream",
          "name": "stdout",
          "text": [
            "Sentence[5]: \"green apples make me angry\"\n"
          ]
        }
      ],
      "source": [
        "sentence = \"green apples make me angry\"\n",
        "s = flair.data.Sentence(sentence)\n",
        "print(s)"
      ]
    },
    {
      "cell_type": "code",
      "execution_count": null,
      "metadata": {
        "colab": {
          "base_uri": "https://localhost:8080/"
        },
        "id": "SU3RpsPxphYH",
        "outputId": "bea2b6a4-1802-4536-f060-23c89e521c1a"
      },
      "outputs": [
        {
          "output_type": "stream",
          "name": "stdout",
          "text": [
            "['Sentence[5]: \"green apples make me angry\"'/'NEGATIVE' (0.9969)]\n"
          ]
        }
      ],
      "source": [
        "flair_sentiment.predict(s)\n",
        "total_sentiment = s.labels\n",
        "print(total_sentiment)"
      ]
    },
    {
      "cell_type": "markdown",
      "metadata": {
        "id": "cs3T0aLu-u7p"
      },
      "source": [
        "### We create our own model based on a dataset with multi-label sentiment classification"
      ]
    },
    {
      "cell_type": "code",
      "execution_count": null,
      "metadata": {
        "id": "1-43cg6MylNR"
      },
      "outputs": [],
      "source": [
        "from datasets import list_datasets, load_dataset\n",
        "from pprint import pprint\n",
        "import pandas as pd"
      ]
    },
    {
      "cell_type": "markdown",
      "metadata": {
        "id": "plEaJPv4_g9i"
      },
      "source": [
        " we import a dataset from the Sem-Eval 2018 competition, containing roughly 11k tweets in English, each labeled with one of 11 emotions "
      ]
    },
    {
      "cell_type": "code",
      "execution_count": null,
      "metadata": {
        "colab": {
          "base_uri": "https://localhost:8080/",
          "height": 300,
          "referenced_widgets": [
            "78dc3f451e4544908d8ce3d57158d0dc",
            "b486c84cfa4e4fc489e8de68982f4caf",
            "fb6efeaa57774ba392a708228b910d08",
            "5f96f7a7c40b48ceaebac516bffd2c84",
            "544345cef23b4e00927a47e284dba92f",
            "42f16e1178a9474f8604a555b3e55f01",
            "7084a027a421426aae9d402281264812",
            "42f1d9ab22a34b0788d8647c50b872fa",
            "f952e0f6976148a7aa7db1921c6f1c94",
            "f2977ee643ba4b8882fe03cb04d1dced",
            "625b357abddc49e793dc78f8288cc158",
            "47de92d7d3ca4ddc8f4d1544283bceb6",
            "13f9b15ad56b492b98edbf4be0f505c0",
            "03a4a0d2641245a2809058ddf8721ff2",
            "8b0467599a454c2baee9e201429d889e",
            "f23eee1111974318900e6cffd79fb000",
            "55499e8e262945d8acde7927c965fd7f",
            "e1b3b9f6830c4685bd5ffc1fb4f402be",
            "995933225dd64a73bb9a7f2446da064e",
            "4d5133e8deff4bbd8dd8fb661df09383",
            "6648e0a35a5d4c40b634b4bb9bf5ab90",
            "fe3c49d7e00a4731941d1f2bba4a6692",
            "e2aa028d4e7049d290acf6c764aff83d",
            "5386418dc67b4d61859838078b0f5541",
            "a377eda456df44e7902fb553bda41fd7",
            "54ce6b2f792d4f52beae70e74a47fedb",
            "fe397e9b34ff4e7bab30c35ba54d1b99",
            "b9d143e1cb7b44aa91c53d592b7c86bb",
            "8b35666394344e1aa499b37dfc503cac",
            "ccc2b3a1ea794eb58ca51186afb6a6c7",
            "3754c49e13b745d48c89142ff38d422d",
            "be2fbba2e55c4f23ac0d553a3f78a992",
            "cf67320a02f24961984d2d73640ea652",
            "55bb959dc060498eb8e4819a10e012de",
            "b2bc25eb905c41ba9f443539c6a7c836",
            "30e533ecd7b24ed69d8a4f465eee05ad",
            "71a6b3243d534cae919e9f42764bf5de",
            "4dda5a4a180d483ebed777a54f960f73",
            "3d16be52062b41c88c8c7d9ce41a6689",
            "da156a20c6204d6f8acb53afd871c4f3",
            "84e7ef6efb6f44509adc34f6fac8bab4",
            "0d4851a4b8324a558ef2bff3243f7c4b",
            "4730e56c00844d4da8f6bdbf887d93b2",
            "5e3ac71d0b1d4880aeb381754a5da378",
            "0f71792e1e044ddca454bed52f7e26a3",
            "a60d63e07a864ceba08f8358ca1c62d7",
            "94d3c5f271ad4eefb28ba4f4d3eca608",
            "6233ea7d1b474fe0a39560683f0128bc",
            "c24a9e5bc70745b8a868b49b890f5fe0",
            "85c34e167b2d4cc5bb18bafc6f077dc8",
            "150d19524a874dd19fc52cb5728e7229",
            "cc632670b147466ab5e5f617053afba8",
            "2040f3ae3b004198afa19f6c501ff1ce",
            "2c948fa9c3fb4def800df8a6df0c10b2",
            "5132f850554a40779b3cee71d105891c",
            "21cc275e314742efa77257ede7381f69",
            "82ef69dd477649f2abeec7f2f71318a6",
            "67aaa4ec6e164ff0b2be3ae3568848be",
            "79265024d3e2459f8ca383ec08482b8a",
            "19b2811b49b04e5fb45aa2ad440ed0f2",
            "6bcef623e8c24a1b83d5b3e795b675c2",
            "5b49e9b9b7df44cba0a700c026b7276c",
            "d2cf0857602c4c63a8a43c9c440a4992",
            "dc366ba4d9934cd9b0575907005fb03a",
            "78edec350e984902890e4372f8f96359",
            "3e9804a875984ff3b7f0890be4ba1a32",
            "abdc8668b7d242cfb17d5008c1572d3a",
            "181de2456d59408c84d7452aab4d8604",
            "a806d9ba3064489b858871c30ffa2492",
            "ea908c2a88df488aa17a2a3ff98cd689",
            "7c5d6cc5497345ca9422d0948dba6d13",
            "7705a71fff0a431483c8443e0670ff2b",
            "0657580bf42642b9932e4af90cef4ccb",
            "565cc961d54f42219ef5986b4ba74ab1",
            "0061129ec27547d7a25daac8193db8b7",
            "b4674e8cc47545459cdef41a59c3b36a",
            "35f7ac2b20c3418eb52d10c3eb1ce6ea",
            "61e2bdcc34c14b209bb3cc1fd707adee",
            "99d4208cbfcf4c0d828ac9ffbba97a95",
            "ac840c82ed1f42b885e7d5d0cc000d61",
            "629d8d8752c4457fa7ae12e6bf281e1d",
            "63e9f03db8d94baeb53d0bb1fa114f0d",
            "069d1c2442ba4f90ab6a5064508a8063",
            "5693f05a86514954a78af450fbe3245a",
            "d7e4b44f5db542dab02bdd9848c04637",
            "12307330069e46fd86a37d7b6d1fc892",
            "c7a54923f8d84ca08ec9b1e0df8d1973",
            "a0380932920d4ccca8b9bbb58eafe288",
            "b4b25afe27ec4ee2afcc66bf16d64d73",
            "b95e6a88be134441b0593a967dd04b49",
            "256929562ef24782a027182b3805a20b",
            "b746ab50e4b34203a03e8d3002d83d37",
            "878e2a79c6b54cc4bf75aa3646f3231b",
            "35e3364134a14335b97320f9e8bc2833",
            "0b82f2441b714fb99b785529f04dc142",
            "c0bbf6d5b06847b7b49aba5973ce48fb",
            "ad4a0b88fa7543efb7e592cf5bd4fd76",
            "1f58e55ba82d4af392128eccb158a450",
            "94edaab582c94073be5dcfbe23f8dc88"
          ]
        },
        "id": "xgpx1y3Uy1fo",
        "outputId": "c87471bf-7cbc-4838-a3b0-6a35e70d4b1e"
      },
      "outputs": [
        {
          "output_type": "display_data",
          "data": {
            "text/plain": [
              "Downloading builder script:   0%|          | 0.00/6.29k [00:00<?, ?B/s]"
            ],
            "application/vnd.jupyter.widget-view+json": {
              "version_major": 2,
              "version_minor": 0,
              "model_id": "78dc3f451e4544908d8ce3d57158d0dc"
            }
          },
          "metadata": {}
        },
        {
          "output_type": "display_data",
          "data": {
            "text/plain": [
              "Downloading metadata:   0%|          | 0.00/7.76k [00:00<?, ?B/s]"
            ],
            "application/vnd.jupyter.widget-view+json": {
              "version_major": 2,
              "version_minor": 0,
              "model_id": "47de92d7d3ca4ddc8f4d1544283bceb6"
            }
          },
          "metadata": {}
        },
        {
          "output_type": "display_data",
          "data": {
            "text/plain": [
              "Downloading readme:   0%|          | 0.00/10.6k [00:00<?, ?B/s]"
            ],
            "application/vnd.jupyter.widget-view+json": {
              "version_major": 2,
              "version_minor": 0,
              "model_id": "e2aa028d4e7049d290acf6c764aff83d"
            }
          },
          "metadata": {}
        },
        {
          "output_type": "stream",
          "name": "stdout",
          "text": [
            "Downloading and preparing dataset sem_eval_2018_task_1/subtask5.english to /root/.cache/huggingface/datasets/sem_eval_2018_task_1/subtask5.english/1.1.0/a7c0de8b805f1988b118882fb289ccfbbeb9085c7820b6f046b5887e234af182...\n"
          ]
        },
        {
          "output_type": "display_data",
          "data": {
            "text/plain": [
              "Downloading data files:   0%|          | 0/1 [00:00<?, ?it/s]"
            ],
            "application/vnd.jupyter.widget-view+json": {
              "version_major": 2,
              "version_minor": 0,
              "model_id": "55bb959dc060498eb8e4819a10e012de"
            }
          },
          "metadata": {}
        },
        {
          "output_type": "display_data",
          "data": {
            "text/plain": [
              "Downloading data:   0%|          | 0.00/5.98M [00:00<?, ?B/s]"
            ],
            "application/vnd.jupyter.widget-view+json": {
              "version_major": 2,
              "version_minor": 0,
              "model_id": "0f71792e1e044ddca454bed52f7e26a3"
            }
          },
          "metadata": {}
        },
        {
          "output_type": "display_data",
          "data": {
            "text/plain": [
              "Extracting data files:   0%|          | 0/1 [00:00<?, ?it/s]"
            ],
            "application/vnd.jupyter.widget-view+json": {
              "version_major": 2,
              "version_minor": 0,
              "model_id": "21cc275e314742efa77257ede7381f69"
            }
          },
          "metadata": {}
        },
        {
          "output_type": "display_data",
          "data": {
            "text/plain": [
              "Generating train split:   0%|          | 0/6838 [00:00<?, ? examples/s]"
            ],
            "application/vnd.jupyter.widget-view+json": {
              "version_major": 2,
              "version_minor": 0,
              "model_id": "abdc8668b7d242cfb17d5008c1572d3a"
            }
          },
          "metadata": {}
        },
        {
          "output_type": "display_data",
          "data": {
            "text/plain": [
              "Generating test split:   0%|          | 0/3259 [00:00<?, ? examples/s]"
            ],
            "application/vnd.jupyter.widget-view+json": {
              "version_major": 2,
              "version_minor": 0,
              "model_id": "61e2bdcc34c14b209bb3cc1fd707adee"
            }
          },
          "metadata": {}
        },
        {
          "output_type": "display_data",
          "data": {
            "text/plain": [
              "Generating validation split:   0%|          | 0/886 [00:00<?, ? examples/s]"
            ],
            "application/vnd.jupyter.widget-view+json": {
              "version_major": 2,
              "version_minor": 0,
              "model_id": "b4b25afe27ec4ee2afcc66bf16d64d73"
            }
          },
          "metadata": {}
        },
        {
          "output_type": "stream",
          "name": "stdout",
          "text": [
            "Dataset sem_eval_2018_task_1 downloaded and prepared to /root/.cache/huggingface/datasets/sem_eval_2018_task_1/subtask5.english/1.1.0/a7c0de8b805f1988b118882fb289ccfbbeb9085c7820b6f046b5887e234af182. Subsequent calls will reuse this data.\n"
          ]
        },
        {
          "output_type": "stream",
          "name": "stderr",
          "text": [
            "WARNING:datasets.builder:Found cached dataset sem_eval_2018_task_1 (/root/.cache/huggingface/datasets/sem_eval_2018_task_1/subtask5.english/1.1.0/a7c0de8b805f1988b118882fb289ccfbbeb9085c7820b6f046b5887e234af182)\n",
            "WARNING:datasets.builder:Found cached dataset sem_eval_2018_task_1 (/root/.cache/huggingface/datasets/sem_eval_2018_task_1/subtask5.english/1.1.0/a7c0de8b805f1988b118882fb289ccfbbeb9085c7820b6f046b5887e234af182)\n"
          ]
        }
      ],
      "source": [
        "dataset_train = load_dataset(\"sem_eval_2018_task_1\", \"subtask5.english\", split=\"train\")\n",
        "dataset_val = load_dataset(\"sem_eval_2018_task_1\", \"subtask5.english\", split=\"validation\")\n",
        "dataset_test = load_dataset(\"sem_eval_2018_task_1\", \"subtask5.english\", split=\"test\")"
      ]
    },
    {
      "cell_type": "code",
      "execution_count": null,
      "metadata": {
        "id": "js_MvgAGu37_"
      },
      "outputs": [],
      "source": [
        "dataset_train.set_format(type=\"pandas\")\n",
        "dataset_val.set_format(type=\"pandas\")\n",
        "dataset_test.set_format(type=\"pandas\")"
      ]
    },
    {
      "cell_type": "code",
      "execution_count": null,
      "metadata": {
        "colab": {
          "base_uri": "https://localhost:8080/"
        },
        "id": "KrhAMGB9u7Q2",
        "outputId": "96ef0e21-d25f-4cdd-8e3b-9c6fac27f999"
      },
      "outputs": [
        {
          "output_type": "execute_result",
          "data": {
            "text/plain": [
              "Dataset({\n",
              "    features: ['ID', 'Tweet', 'anger', 'anticipation', 'disgust', 'fear', 'joy', 'love', 'optimism', 'pessimism', 'sadness', 'surprise', 'trust'],\n",
              "    num_rows: 6838\n",
              "})"
            ]
          },
          "metadata": {},
          "execution_count": 9
        }
      ],
      "source": [
        "# view the columns of the dataset\n",
        "dataset_train"
      ]
    },
    {
      "cell_type": "code",
      "execution_count": null,
      "metadata": {
        "colab": {
          "base_uri": "https://localhost:8080/"
        },
        "id": "cY98nJZLz7Yf",
        "outputId": "8f36455a-8bbe-41f1-cf74-a53b28740362"
      },
      "outputs": [
        {
          "output_type": "execute_result",
          "data": {
            "text/plain": [
              "0    False\n",
              "1    False\n",
              "2     True\n",
              "3    False\n",
              "4     True\n",
              "Name: anger, dtype: bool"
            ]
          },
          "metadata": {},
          "execution_count": 10
        }
      ],
      "source": [
        "dataset_train['anger'].head()"
      ]
    },
    {
      "cell_type": "markdown",
      "metadata": {
        "id": "ZlgPXqdd_Zi0"
      },
      "source": [
        "### preprocess the data to feed it to model"
      ]
    },
    {
      "cell_type": "code",
      "execution_count": null,
      "metadata": {
        "id": "MF6TFAn_1QDC"
      },
      "outputs": [],
      "source": [
        "df_train = pd.DataFrame(dataset_train[:])\n",
        "df_val = pd.DataFrame(dataset_val[:])\n",
        "df_test = pd.DataFrame(dataset_test[:])"
      ]
    },
    {
      "cell_type": "code",
      "execution_count": null,
      "metadata": {
        "colab": {
          "base_uri": "https://localhost:8080/"
        },
        "id": "JobARLSO4UyE",
        "outputId": "178d2713-b2a7-4863-98ae-0b1e04bb8ea7"
      },
      "outputs": [
        {
          "output_type": "stream",
          "name": "stdout",
          "text": [
            "text: No but that's so cute. Atsu was probably shy about photos before but cherry helped her out uwu\n"
          ]
        },
        {
          "output_type": "execute_result",
          "data": {
            "text/plain": [
              "ID                                                  2017-En-22190\n",
              "Tweet           No but that's so cute. Atsu was probably shy a...\n",
              "anger                                                       False\n",
              "anticipation                                                False\n",
              "disgust                                                     False\n",
              "fear                                                        False\n",
              "joy                                                          True\n",
              "love                                                        False\n",
              "optimism                                                    False\n",
              "pessimism                                                   False\n",
              "sadness                                                     False\n",
              "surprise                                                    False\n",
              "trust                                                       False\n",
              "Name: 5, dtype: object"
            ]
          },
          "metadata": {},
          "execution_count": 12
        }
      ],
      "source": [
        "# example from the dataset\n",
        "print(f\"text: {df_train.iloc[5]['Tweet']}\")\n",
        "df_train.iloc[5]"
      ]
    },
    {
      "cell_type": "code",
      "execution_count": null,
      "metadata": {
        "id": "a8aPvUtN4onX"
      },
      "outputs": [],
      "source": [
        "emotions = [\"anger\", \"anticipation\", \"disgust\", \"fear\", \"joy\", \"love\", \"optimism\", \n",
        "            \"pessimism\", \"sadness\", \"surprise\", \"trust\"]\n",
        "\n",
        "# create a single \"label\" column for each dataset\n",
        "df_train[\"label\"] = df_train[emotions].idxmax(axis=1)\n",
        "labeled_df_train = df_train.drop(emotions, axis=1)\n",
        "\n",
        "df_test[\"label\"] = df_test[emotions].idxmax(axis=1)\n",
        "labeled_df_test = df_test.drop(emotions, axis=1)\n",
        "\n",
        "df_val[\"label\"] = df_val[emotions].idxmax(axis=1)\n",
        "labeled_df_val = df_val.drop(emotions, axis=1)\n"
      ]
    },
    {
      "cell_type": "code",
      "execution_count": null,
      "metadata": {
        "id": "VkSxc7UX-PD3"
      },
      "outputs": [],
      "source": [
        "# format the columns to feed into model\n",
        "labeled_df_train['label'] = '__label__' + labeled_df_train['label'].astype(str)\n",
        "labeled_df_test['label'] = '__label__' + labeled_df_test['label'].astype(str)\n",
        "labeled_df_val['label'] = '__label__' + labeled_df_val['label'].astype(str)\n",
        "\n",
        "df_train = labeled_df_train.rename(columns={\"Tweet\": \"text\"}).drop(\"ID\", axis=1)\n",
        "df_test = labeled_df_test.rename(columns={\"Tweet\": \"text\"}).drop(\"ID\", axis=1)\n",
        "df_val = labeled_df_val.rename(columns={\"Tweet\": \"text\"}).drop(\"ID\", axis=1)"
      ]
    },
    {
      "cell_type": "code",
      "execution_count": null,
      "metadata": {
        "colab": {
          "base_uri": "https://localhost:8080/",
          "height": 206
        },
        "id": "8WiuOWRtAKAQ",
        "outputId": "4d2becf0-40da-4ebf-aa9e-d238ab8f9643"
      },
      "outputs": [
        {
          "output_type": "execute_result",
          "data": {
            "text/plain": [
              "                                                text                  label\n",
              "0  “Worry is a down payment on a problem you may ...  __label__anticipation\n",
              "1  Whatever you decide to do make sure it makes y...           __label__joy\n",
              "2  @Max_Kellerman  it also helps that the majorit...         __label__anger\n",
              "3  Accept the challenges so that you can literall...           __label__joy\n",
              "4  My roommate: it's okay that we can't spell bec...         __label__anger"
            ],
            "text/html": [
              "\n",
              "  <div id=\"df-b829451b-ed41-42e4-96cb-aca6a76e848a\">\n",
              "    <div class=\"colab-df-container\">\n",
              "      <div>\n",
              "<style scoped>\n",
              "    .dataframe tbody tr th:only-of-type {\n",
              "        vertical-align: middle;\n",
              "    }\n",
              "\n",
              "    .dataframe tbody tr th {\n",
              "        vertical-align: top;\n",
              "    }\n",
              "\n",
              "    .dataframe thead th {\n",
              "        text-align: right;\n",
              "    }\n",
              "</style>\n",
              "<table border=\"1\" class=\"dataframe\">\n",
              "  <thead>\n",
              "    <tr style=\"text-align: right;\">\n",
              "      <th></th>\n",
              "      <th>text</th>\n",
              "      <th>label</th>\n",
              "    </tr>\n",
              "  </thead>\n",
              "  <tbody>\n",
              "    <tr>\n",
              "      <th>0</th>\n",
              "      <td>“Worry is a down payment on a problem you may ...</td>\n",
              "      <td>__label__anticipation</td>\n",
              "    </tr>\n",
              "    <tr>\n",
              "      <th>1</th>\n",
              "      <td>Whatever you decide to do make sure it makes y...</td>\n",
              "      <td>__label__joy</td>\n",
              "    </tr>\n",
              "    <tr>\n",
              "      <th>2</th>\n",
              "      <td>@Max_Kellerman  it also helps that the majorit...</td>\n",
              "      <td>__label__anger</td>\n",
              "    </tr>\n",
              "    <tr>\n",
              "      <th>3</th>\n",
              "      <td>Accept the challenges so that you can literall...</td>\n",
              "      <td>__label__joy</td>\n",
              "    </tr>\n",
              "    <tr>\n",
              "      <th>4</th>\n",
              "      <td>My roommate: it's okay that we can't spell bec...</td>\n",
              "      <td>__label__anger</td>\n",
              "    </tr>\n",
              "  </tbody>\n",
              "</table>\n",
              "</div>\n",
              "      <button class=\"colab-df-convert\" onclick=\"convertToInteractive('df-b829451b-ed41-42e4-96cb-aca6a76e848a')\"\n",
              "              title=\"Convert this dataframe to an interactive table.\"\n",
              "              style=\"display:none;\">\n",
              "        \n",
              "  <svg xmlns=\"http://www.w3.org/2000/svg\" height=\"24px\"viewBox=\"0 0 24 24\"\n",
              "       width=\"24px\">\n",
              "    <path d=\"M0 0h24v24H0V0z\" fill=\"none\"/>\n",
              "    <path d=\"M18.56 5.44l.94 2.06.94-2.06 2.06-.94-2.06-.94-.94-2.06-.94 2.06-2.06.94zm-11 1L8.5 8.5l.94-2.06 2.06-.94-2.06-.94L8.5 2.5l-.94 2.06-2.06.94zm10 10l.94 2.06.94-2.06 2.06-.94-2.06-.94-.94-2.06-.94 2.06-2.06.94z\"/><path d=\"M17.41 7.96l-1.37-1.37c-.4-.4-.92-.59-1.43-.59-.52 0-1.04.2-1.43.59L10.3 9.45l-7.72 7.72c-.78.78-.78 2.05 0 2.83L4 21.41c.39.39.9.59 1.41.59.51 0 1.02-.2 1.41-.59l7.78-7.78 2.81-2.81c.8-.78.8-2.07 0-2.86zM5.41 20L4 18.59l7.72-7.72 1.47 1.35L5.41 20z\"/>\n",
              "  </svg>\n",
              "      </button>\n",
              "      \n",
              "  <style>\n",
              "    .colab-df-container {\n",
              "      display:flex;\n",
              "      flex-wrap:wrap;\n",
              "      gap: 12px;\n",
              "    }\n",
              "\n",
              "    .colab-df-convert {\n",
              "      background-color: #E8F0FE;\n",
              "      border: none;\n",
              "      border-radius: 50%;\n",
              "      cursor: pointer;\n",
              "      display: none;\n",
              "      fill: #1967D2;\n",
              "      height: 32px;\n",
              "      padding: 0 0 0 0;\n",
              "      width: 32px;\n",
              "    }\n",
              "\n",
              "    .colab-df-convert:hover {\n",
              "      background-color: #E2EBFA;\n",
              "      box-shadow: 0px 1px 2px rgba(60, 64, 67, 0.3), 0px 1px 3px 1px rgba(60, 64, 67, 0.15);\n",
              "      fill: #174EA6;\n",
              "    }\n",
              "\n",
              "    [theme=dark] .colab-df-convert {\n",
              "      background-color: #3B4455;\n",
              "      fill: #D2E3FC;\n",
              "    }\n",
              "\n",
              "    [theme=dark] .colab-df-convert:hover {\n",
              "      background-color: #434B5C;\n",
              "      box-shadow: 0px 1px 3px 1px rgba(0, 0, 0, 0.15);\n",
              "      filter: drop-shadow(0px 1px 2px rgba(0, 0, 0, 0.3));\n",
              "      fill: #FFFFFF;\n",
              "    }\n",
              "  </style>\n",
              "\n",
              "      <script>\n",
              "        const buttonEl =\n",
              "          document.querySelector('#df-b829451b-ed41-42e4-96cb-aca6a76e848a button.colab-df-convert');\n",
              "        buttonEl.style.display =\n",
              "          google.colab.kernel.accessAllowed ? 'block' : 'none';\n",
              "\n",
              "        async function convertToInteractive(key) {\n",
              "          const element = document.querySelector('#df-b829451b-ed41-42e4-96cb-aca6a76e848a');\n",
              "          const dataTable =\n",
              "            await google.colab.kernel.invokeFunction('convertToInteractive',\n",
              "                                                     [key], {});\n",
              "          if (!dataTable) return;\n",
              "\n",
              "          const docLinkHtml = 'Like what you see? Visit the ' +\n",
              "            '<a target=\"_blank\" href=https://colab.research.google.com/notebooks/data_table.ipynb>data table notebook</a>'\n",
              "            + ' to learn more about interactive tables.';\n",
              "          element.innerHTML = '';\n",
              "          dataTable['output_type'] = 'display_data';\n",
              "          await google.colab.output.renderOutput(dataTable, element);\n",
              "          const docLink = document.createElement('div');\n",
              "          docLink.innerHTML = docLinkHtml;\n",
              "          element.appendChild(docLink);\n",
              "        }\n",
              "      </script>\n",
              "    </div>\n",
              "  </div>\n",
              "  "
            ]
          },
          "metadata": {},
          "execution_count": 15
        }
      ],
      "source": [
        "df_train.head()"
      ]
    },
    {
      "cell_type": "markdown",
      "metadata": {
        "id": "HOolT7DI4ELD"
      },
      "source": [
        "## Model training on multilabel dataset"
      ]
    },
    {
      "cell_type": "code",
      "execution_count": null,
      "metadata": {
        "id": "nTaIwMnQI5mT"
      },
      "outputs": [],
      "source": [
        "!mkdir -p data_fst"
      ]
    },
    {
      "cell_type": "code",
      "execution_count": null,
      "metadata": {
        "id": "tvj-6rDy69Un"
      },
      "outputs": [],
      "source": [
        "df_train.to_csv(\"data_fst/train.csv\")\n",
        "df_test.to_csv(\"data_fst/test.csv\")\n",
        "df_val.to_csv(\"data_fst/dev.csv\")"
      ]
    },
    {
      "cell_type": "code",
      "execution_count": null,
      "metadata": {
        "id": "CM2iNv5P6n0b"
      },
      "outputs": [],
      "source": [
        "from flair.data import Corpus\n",
        "from flair.embeddings import WordEmbeddings, FlairEmbeddings, DocumentRNNEmbeddings\n",
        "from flair.models import TextClassifier\n",
        "from flair.trainers import ModelTrainer\n",
        "from pathlib import Path\n",
        "from datasets import Dataset\n",
        "from flair.datasets import CSVClassificationCorpus"
      ]
    },
    {
      "cell_type": "code",
      "execution_count": null,
      "metadata": {
        "colab": {
          "base_uri": "https://localhost:8080/"
        },
        "id": "xAM54iTqJSbL",
        "outputId": "ef4c118c-8eba-4432-c082-eb9ff0f3d7bf"
      },
      "outputs": [
        {
          "output_type": "stream",
          "name": "stdout",
          "text": [
            "2023-05-23 12:32:06,081 Reading data from data_fst\n",
            "2023-05-23 12:32:06,082 Train: data_fst/train.csv\n",
            "2023-05-23 12:32:06,083 Dev: data_fst/dev.csv\n",
            "2023-05-23 12:32:06,084 Test: data_fst/test.csv\n"
          ]
        }
      ],
      "source": [
        "# load the datasets\n",
        "data_folder = 'data_fst/'\n",
        "column_name_map = {2:\"label_topic\",1:\"text\"}\n",
        "# create a corpus class instance from our data to then feed into the model\n",
        "corpus_csv = CSVClassificationCorpus(data_folder, \n",
        "                                     column_name_map=column_name_map,\n",
        "                                     skip_header=True,\n",
        "                                     delimiter=',',\n",
        "                                     label_type='question_class')"
      ]
    },
    {
      "cell_type": "code",
      "execution_count": null,
      "metadata": {
        "colab": {
          "base_uri": "https://localhost:8080/"
        },
        "id": "LiiwEzRgJwUN",
        "outputId": "090a82c1-e768-4b87-9982-605a3d99991a"
      },
      "outputs": [
        {
          "output_type": "stream",
          "name": "stdout",
          "text": [
            "2023-05-23 12:32:06,132 Computing label dictionary. Progress:\n"
          ]
        },
        {
          "output_type": "stream",
          "name": "stderr",
          "text": [
            "6838it [00:03, 2001.31it/s]"
          ]
        },
        {
          "output_type": "stream",
          "name": "stdout",
          "text": [
            "2023-05-23 12:32:09,561 Dictionary created for label 'question_class' with 11 values: __label__anger (seen 2748 times), __label__joy (seen 1660 times), __label__anticipation (seen 811 times), __label__fear (seen 569 times), __label__disgust (seen 452 times), __label__pessimism (seen 194 times), __label__optimism (seen 180 times), __label__sadness (seen 180 times), __label__love (seen 27 times), __label__surprise (seen 17 times)\n",
            "Dictionary with 11 tags: <unk>, __label__anger, __label__joy, __label__anticipation, __label__fear, __label__disgust, __label__pessimism, __label__optimism, __label__sadness, __label__love, __label__surprise\n"
          ]
        },
        {
          "output_type": "stream",
          "name": "stderr",
          "text": [
            "\n"
          ]
        }
      ],
      "source": [
        "# create a label dictionary from our data\n",
        "label_dict_csv = corpus_csv.make_label_dictionary(label_type='question_class')\n",
        "print(label_dict_csv)"
      ]
    },
    {
      "cell_type": "code",
      "execution_count": null,
      "metadata": {
        "colab": {
          "base_uri": "https://localhost:8080/"
        },
        "id": "HRrXxHI77UfS",
        "outputId": "7eddfbea-df79-4627-9553-3078ccd52728"
      },
      "outputs": [
        {
          "output_type": "stream",
          "name": "stdout",
          "text": [
            "2023-05-23 12:32:10,227 https://flair.informatik.hu-berlin.de/resources/embeddings/flair/lm-news-english-forward-1024-v0.2rc.pt not found in cache, downloading to /tmp/tmphz8pxr83\n"
          ]
        },
        {
          "output_type": "stream",
          "name": "stderr",
          "text": [
            "100%|██████████| 18.8M/18.8M [00:01<00:00, 10.1MB/s]"
          ]
        },
        {
          "output_type": "stream",
          "name": "stdout",
          "text": [
            "2023-05-23 12:32:12,587 copying /tmp/tmphz8pxr83 to cache at /root/.flair/embeddings/lm-news-english-forward-1024-v0.2rc.pt\n",
            "2023-05-23 12:32:12,607 removing temp file /tmp/tmphz8pxr83\n"
          ]
        },
        {
          "output_type": "stream",
          "name": "stderr",
          "text": [
            "\n"
          ]
        },
        {
          "output_type": "stream",
          "name": "stdout",
          "text": [
            "2023-05-23 12:32:14,004 https://flair.informatik.hu-berlin.de/resources/embeddings/flair/lm-news-english-backward-1024-v0.2rc.pt not found in cache, downloading to /tmp/tmpt2cxredy\n"
          ]
        },
        {
          "output_type": "stream",
          "name": "stderr",
          "text": [
            "100%|██████████| 18.8M/18.8M [00:01<00:00, 10.7MB/s]"
          ]
        },
        {
          "output_type": "stream",
          "name": "stdout",
          "text": [
            "2023-05-23 12:32:16,234 copying /tmp/tmpt2cxredy to cache at /root/.flair/embeddings/lm-news-english-backward-1024-v0.2rc.pt\n",
            "2023-05-23 12:32:16,251 removing temp file /tmp/tmpt2cxredy\n"
          ]
        },
        {
          "output_type": "stream",
          "name": "stderr",
          "text": [
            "\n"
          ]
        }
      ],
      "source": [
        "# Word embeddings provide methods that combine words and documents in different ways.\n",
        "word_embeddings = [FlairEmbeddings('news-forward-fast'), FlairEmbeddings('news-backward-fast')]\n",
        "# DocumentEmbeddings which embed an entire text or sentence\n",
        "document_embeddings = DocumentRNNEmbeddings(word_embeddings, hidden_size=512, reproject_words=True, reproject_words_dimension=256)\n"
      ]
    },
    {
      "cell_type": "code",
      "execution_count": null,
      "metadata": {
        "id": "9dKC6c1P7WGV"
      },
      "outputs": [],
      "source": [
        "# we define the classifier model by creating a TextClassifier instance\n",
        "classifier = TextClassifier(document_embeddings, label_dictionary=label_dict_csv,\n",
        "                            label_type='question_class', multi_label=True)\n",
        "trainer = ModelTrainer(classifier, corpus_csv)"
      ]
    },
    {
      "cell_type": "code",
      "source": [],
      "metadata": {
        "id": "oeRr2OXiYY4r"
      },
      "execution_count": null,
      "outputs": []
    },
    {
      "cell_type": "code",
      "execution_count": null,
      "metadata": {
        "colab": {
          "base_uri": "https://localhost:8080/"
        },
        "id": "Hk4cui4eBHIz",
        "outputId": "e3ef8091-811d-4520-da35-50667997081e"
      },
      "outputs": [
        {
          "metadata": {
            "tags": null
          },
          "name": "stdout",
          "output_type": "stream",
          "text": [
            "2023-05-23 12:32:16,343 ----------------------------------------------------------------------------------------------------\n",
            "2023-05-23 12:32:16,345 Model: \"TextClassifier(\n",
            "  (embeddings): DocumentRNNEmbeddings(\n",
            "    (embeddings): StackedEmbeddings(\n",
            "      (list_embedding_0): FlairEmbeddings(\n",
            "        (lm): LanguageModel(\n",
            "          (drop): Dropout(p=0.25, inplace=False)\n",
            "          (encoder): Embedding(275, 100)\n",
            "          (rnn): LSTM(100, 1024)\n",
            "        )\n",
            "      )\n",
            "      (list_embedding_1): FlairEmbeddings(\n",
            "        (lm): LanguageModel(\n",
            "          (drop): Dropout(p=0.25, inplace=False)\n",
            "          (encoder): Embedding(275, 100)\n",
            "          (rnn): LSTM(100, 1024)\n",
            "        )\n",
            "      )\n",
            "    )\n",
            "    (word_reprojection_map): Linear(in_features=2048, out_features=256, bias=True)\n",
            "    (rnn): GRU(256, 512, batch_first=True)\n",
            "    (dropout): Dropout(p=0.5, inplace=False)\n",
            "  )\n",
            "  (decoder): Linear(in_features=512, out_features=11, bias=True)\n",
            "  (dropout): Dropout(p=0.0, inplace=False)\n",
            "  (locked_dropout): LockedDropout(p=0.0)\n",
            "  (word_dropout): WordDropout(p=0.0)\n",
            "  (loss_function): BCEWithLogitsLoss()\n",
            "  (weights): None\n",
            "  (weight_tensor) None\n",
            ")\"\n",
            "2023-05-23 12:32:16,347 ----------------------------------------------------------------------------------------------------\n",
            "2023-05-23 12:32:16,348 Corpus: \"Corpus: 6838 train + 886 dev + 3259 test sentences\"\n",
            "2023-05-23 12:32:16,349 ----------------------------------------------------------------------------------------------------\n",
            "2023-05-23 12:32:16,350 Parameters:\n",
            "2023-05-23 12:32:16,351  - learning_rate: \"0.001000\"\n",
            "2023-05-23 12:32:16,352  - mini_batch_size: \"16\"\n",
            "2023-05-23 12:32:16,353  - patience: \"3\"\n",
            "2023-05-23 12:32:16,354  - anneal_factor: \"0.5\"\n",
            "2023-05-23 12:32:16,355  - max_epochs: \"50\"\n",
            "2023-05-23 12:32:16,356  - shuffle: \"True\"\n",
            "2023-05-23 12:32:16,357  - train_with_dev: \"False\"\n",
            "2023-05-23 12:32:16,358  - batch_growth_annealing: \"False\"\n",
            "2023-05-23 12:32:16,359 ----------------------------------------------------------------------------------------------------\n",
            "2023-05-23 12:32:16,360 Model training base path: \"data_fst\"\n",
            "2023-05-23 12:32:16,361 ----------------------------------------------------------------------------------------------------\n",
            "2023-05-23 12:32:16,362 Device: cuda:0\n",
            "2023-05-23 12:32:16,363 ----------------------------------------------------------------------------------------------------\n",
            "2023-05-23 12:32:16,364 Embeddings storage mode: cpu\n",
            "2023-05-23 12:32:16,365 ----------------------------------------------------------------------------------------------------\n",
            "2023-05-23 12:32:20,317 epoch 1 - iter 42/428 - loss 3.36411802 - time (sec): 3.95 - samples/sec: 170.07 - lr: 0.001000\n",
            "2023-05-23 12:32:25,004 epoch 1 - iter 84/428 - loss 3.05577751 - time (sec): 8.64 - samples/sec: 155.59 - lr: 0.001000\n",
            "2023-05-23 12:32:28,049 epoch 1 - iter 126/428 - loss 2.95571578 - time (sec): 11.68 - samples/sec: 172.55 - lr: 0.001000\n",
            "2023-05-23 12:32:31,087 epoch 1 - iter 168/428 - loss 2.89321174 - time (sec): 14.72 - samples/sec: 182.59 - lr: 0.001000\n",
            "2023-05-23 12:32:34,141 epoch 1 - iter 210/428 - loss 2.84672240 - time (sec): 17.78 - samples/sec: 189.03 - lr: 0.001000\n",
            "2023-05-23 12:32:38,264 epoch 1 - iter 252/428 - loss 2.79917454 - time (sec): 21.90 - samples/sec: 184.13 - lr: 0.001000\n",
            "2023-05-23 12:32:41,489 epoch 1 - iter 294/428 - loss 2.74987246 - time (sec): 25.12 - samples/sec: 187.24 - lr: 0.001000\n",
            "2023-05-23 12:32:44,423 epoch 1 - iter 336/428 - loss 2.72638101 - time (sec): 28.06 - samples/sec: 191.61 - lr: 0.001000\n",
            "2023-05-23 12:32:47,400 epoch 1 - iter 378/428 - loss 2.70752023 - time (sec): 31.03 - samples/sec: 194.88 - lr: 0.001000\n",
            "2023-05-23 12:32:50,391 epoch 1 - iter 420/428 - loss 2.68595242 - time (sec): 34.03 - samples/sec: 197.50 - lr: 0.001000\n",
            "2023-05-23 12:32:51,020 ----------------------------------------------------------------------------------------------------\n",
            "2023-05-23 12:32:51,027 EPOCH 1 done: loss 2.6793 - lr 0.001000\n"
          ]
        },
        {
          "metadata": {
            "tags": null
          },
          "name": "stderr",
          "output_type": "stream",
          "text": [
            "100%|██████████| 56/56 [00:05<00:00, 10.74it/s]"
          ]
        },
        {
          "metadata": {
            "tags": null
          },
          "name": "stdout",
          "output_type": "stream",
          "text": [
            "2023-05-23 12:32:56,252 Evaluating as a multi-label problem: False\n",
            "2023-05-23 12:32:56,269 DEV : loss 2.39920711517334 - f1-score (micro avg)  0.381\n"
          ]
        },
        {
          "metadata": {
            "tags": null
          },
          "name": "stderr",
          "output_type": "stream",
          "text": [
            "\n"
          ]
        },
        {
          "metadata": {
            "tags": null
          },
          "name": "stdout",
          "output_type": "stream",
          "text": [
            "2023-05-23 12:32:56,553 BAD EPOCHS (no improvement): 0\n",
            "2023-05-23 12:32:56,555 saving best model\n",
            "2023-05-23 12:32:56,629 ----------------------------------------------------------------------------------------------------\n",
            "2023-05-23 12:32:59,591 epoch 2 - iter 42/428 - loss 2.39651133 - time (sec): 2.96 - samples/sec: 226.95 - lr: 0.001000\n",
            "2023-05-23 12:33:02,591 epoch 2 - iter 84/428 - loss 2.37764266 - time (sec): 5.96 - samples/sec: 225.48 - lr: 0.001000\n",
            "2023-05-23 12:33:06,267 epoch 2 - iter 126/428 - loss 2.35983649 - time (sec): 9.64 - samples/sec: 209.20 - lr: 0.001000\n",
            "2023-05-23 12:33:09,692 epoch 2 - iter 168/428 - loss 2.36651862 - time (sec): 13.06 - samples/sec: 205.80 - lr: 0.001000\n",
            "2023-05-23 12:33:12,734 epoch 2 - iter 210/428 - loss 2.37481027 - time (sec): 16.10 - samples/sec: 208.65 - lr: 0.001000\n",
            "2023-05-23 12:33:15,740 epoch 2 - iter 252/428 - loss 2.36979537 - time (sec): 19.11 - samples/sec: 211.00 - lr: 0.001000\n",
            "2023-05-23 12:33:19,410 epoch 2 - iter 294/428 - loss 2.36402580 - time (sec): 22.78 - samples/sec: 206.50 - lr: 0.001000\n",
            "2023-05-23 12:33:23,299 epoch 2 - iter 336/428 - loss 2.35365063 - time (sec): 26.67 - samples/sec: 201.59 - lr: 0.001000\n",
            "2023-05-23 12:33:26,325 epoch 2 - iter 378/428 - loss 2.34146154 - time (sec): 29.69 - samples/sec: 203.67 - lr: 0.001000\n",
            "2023-05-23 12:33:29,406 epoch 2 - iter 420/428 - loss 2.33393257 - time (sec): 32.78 - samples/sec: 205.03 - lr: 0.001000\n",
            "2023-05-23 12:33:29,962 ----------------------------------------------------------------------------------------------------\n",
            "2023-05-23 12:33:29,963 EPOCH 2 done: loss 2.3353 - lr 0.001000\n"
          ]
        },
        {
          "metadata": {
            "tags": null
          },
          "name": "stderr",
          "output_type": "stream",
          "text": [
            "100%|██████████| 56/56 [00:05<00:00, 10.07it/s]"
          ]
        },
        {
          "metadata": {
            "tags": null
          },
          "name": "stdout",
          "output_type": "stream",
          "text": [
            "2023-05-23 12:33:35,541 Evaluating as a multi-label problem: False\n",
            "2023-05-23 12:33:35,569 DEV : loss 2.187305212020874 - f1-score (micro avg)  0.4517\n"
          ]
        },
        {
          "metadata": {
            "tags": null
          },
          "name": "stderr",
          "output_type": "stream",
          "text": [
            "\n"
          ]
        },
        {
          "metadata": {
            "tags": null
          },
          "name": "stdout",
          "output_type": "stream",
          "text": [
            "2023-05-23 12:33:36,060 BAD EPOCHS (no improvement): 0\n",
            "2023-05-23 12:33:36,063 saving best model\n",
            "2023-05-23 12:33:36,186 ----------------------------------------------------------------------------------------------------\n",
            "2023-05-23 12:33:39,622 epoch 3 - iter 42/428 - loss 2.22016976 - time (sec): 3.43 - samples/sec: 195.77 - lr: 0.001000\n",
            "2023-05-23 12:33:42,807 epoch 3 - iter 84/428 - loss 2.22741128 - time (sec): 6.62 - samples/sec: 203.09 - lr: 0.001000\n",
            "2023-05-23 12:33:45,875 epoch 3 - iter 126/428 - loss 2.20576352 - time (sec): 9.69 - samples/sec: 208.14 - lr: 0.001000\n",
            "2023-05-23 12:33:49,779 epoch 3 - iter 168/428 - loss 2.21419727 - time (sec): 13.59 - samples/sec: 197.79 - lr: 0.001000\n",
            "2023-05-23 12:33:53,150 epoch 3 - iter 210/428 - loss 2.18870742 - time (sec): 16.96 - samples/sec: 198.10 - lr: 0.001000\n",
            "2023-05-23 12:33:56,192 epoch 3 - iter 252/428 - loss 2.19207144 - time (sec): 20.00 - samples/sec: 201.57 - lr: 0.001000\n",
            "2023-05-23 12:33:59,219 epoch 3 - iter 294/428 - loss 2.18697623 - time (sec): 23.03 - samples/sec: 204.26 - lr: 0.001000\n",
            "2023-05-23 12:34:02,244 epoch 3 - iter 336/428 - loss 2.17555702 - time (sec): 26.05 - samples/sec: 206.34 - lr: 0.001000\n",
            "2023-05-23 12:34:06,541 epoch 3 - iter 378/428 - loss 2.16368389 - time (sec): 30.35 - samples/sec: 199.26 - lr: 0.001000\n",
            "2023-05-23 12:34:09,548 epoch 3 - iter 420/428 - loss 2.16171241 - time (sec): 33.36 - samples/sec: 201.45 - lr: 0.001000\n",
            "2023-05-23 12:34:10,079 ----------------------------------------------------------------------------------------------------\n",
            "2023-05-23 12:34:10,080 EPOCH 3 done: loss 2.1630 - lr 0.001000\n"
          ]
        },
        {
          "metadata": {
            "tags": null
          },
          "name": "stderr",
          "output_type": "stream",
          "text": [
            "100%|██████████| 56/56 [00:04<00:00, 13.74it/s]"
          ]
        },
        {
          "metadata": {
            "tags": null
          },
          "name": "stdout",
          "output_type": "stream",
          "text": [
            "2023-05-23 12:34:14,172 Evaluating as a multi-label problem: True\n",
            "2023-05-23 12:34:14,218 DEV : loss 2.0205698013305664 - f1-score (micro avg)  0.486\n"
          ]
        },
        {
          "metadata": {
            "tags": null
          },
          "name": "stderr",
          "output_type": "stream",
          "text": [
            "\n"
          ]
        },
        {
          "metadata": {
            "tags": null
          },
          "name": "stdout",
          "output_type": "stream",
          "text": [
            "2023-05-23 12:34:14,970 BAD EPOCHS (no improvement): 0\n",
            "2023-05-23 12:34:14,972 saving best model\n",
            "2023-05-23 12:34:15,071 ----------------------------------------------------------------------------------------------------\n",
            "2023-05-23 12:34:18,384 epoch 4 - iter 42/428 - loss 2.07872371 - time (sec): 3.31 - samples/sec: 202.96 - lr: 0.001000\n",
            "2023-05-23 12:34:21,767 epoch 4 - iter 84/428 - loss 2.09706441 - time (sec): 6.69 - samples/sec: 200.76 - lr: 0.001000\n",
            "2023-05-23 12:34:24,746 epoch 4 - iter 126/428 - loss 2.09102628 - time (sec): 9.67 - samples/sec: 208.42 - lr: 0.001000\n",
            "2023-05-23 12:34:27,775 epoch 4 - iter 168/428 - loss 2.09130881 - time (sec): 12.70 - samples/sec: 211.61 - lr: 0.001000\n",
            "2023-05-23 12:34:31,475 epoch 4 - iter 210/428 - loss 2.09377178 - time (sec): 16.40 - samples/sec: 204.86 - lr: 0.001000\n",
            "2023-05-23 12:34:35,013 epoch 4 - iter 252/428 - loss 2.07334146 - time (sec): 19.94 - samples/sec: 202.21 - lr: 0.001000\n",
            "2023-05-23 12:34:38,131 epoch 4 - iter 294/428 - loss 2.08346845 - time (sec): 23.06 - samples/sec: 204.01 - lr: 0.001000\n",
            "2023-05-23 12:34:41,149 epoch 4 - iter 336/428 - loss 2.07594906 - time (sec): 26.08 - samples/sec: 206.16 - lr: 0.001000\n",
            "2023-05-23 12:34:44,206 epoch 4 - iter 378/428 - loss 2.07350515 - time (sec): 29.13 - samples/sec: 207.60 - lr: 0.001000\n",
            "2023-05-23 12:34:48,213 epoch 4 - iter 420/428 - loss 2.08612632 - time (sec): 33.14 - samples/sec: 202.77 - lr: 0.001000\n",
            "2023-05-23 12:34:48,868 ----------------------------------------------------------------------------------------------------\n",
            "2023-05-23 12:34:48,874 EPOCH 4 done: loss 2.0929 - lr 0.001000\n"
          ]
        },
        {
          "metadata": {
            "tags": null
          },
          "name": "stderr",
          "output_type": "stream",
          "text": [
            "100%|██████████| 56/56 [00:04<00:00, 13.21it/s]"
          ]
        },
        {
          "metadata": {
            "tags": null
          },
          "name": "stdout",
          "output_type": "stream",
          "text": [
            "2023-05-23 12:34:53,126 Evaluating as a multi-label problem: False\n",
            "2023-05-23 12:34:53,143 DEV : loss 2.039571523666382 - f1-score (micro avg)  0.4459\n"
          ]
        },
        {
          "metadata": {
            "tags": null
          },
          "name": "stderr",
          "output_type": "stream",
          "text": [
            "\n"
          ]
        },
        {
          "metadata": {
            "tags": null
          },
          "name": "stdout",
          "output_type": "stream",
          "text": [
            "2023-05-23 12:34:53,421 BAD EPOCHS (no improvement): 1\n",
            "2023-05-23 12:34:53,422 ----------------------------------------------------------------------------------------------------\n",
            "2023-05-23 12:34:57,021 epoch 5 - iter 42/428 - loss 1.97466031 - time (sec): 3.60 - samples/sec: 186.88 - lr: 0.001000\n",
            "2023-05-23 12:35:00,123 epoch 5 - iter 84/428 - loss 1.95844950 - time (sec): 6.70 - samples/sec: 200.66 - lr: 0.001000\n",
            "2023-05-23 12:35:03,585 epoch 5 - iter 126/428 - loss 1.99406543 - time (sec): 10.16 - samples/sec: 198.42 - lr: 0.001000\n",
            "2023-05-23 12:35:06,726 epoch 5 - iter 168/428 - loss 2.01156936 - time (sec): 13.30 - samples/sec: 202.09 - lr: 0.001000\n",
            "2023-05-23 12:35:09,792 epoch 5 - iter 210/428 - loss 2.01162042 - time (sec): 16.37 - samples/sec: 205.28 - lr: 0.001000\n",
            "2023-05-23 12:35:13,433 epoch 5 - iter 252/428 - loss 2.02013459 - time (sec): 20.01 - samples/sec: 201.52 - lr: 0.001000\n",
            "2023-05-23 12:35:16,773 epoch 5 - iter 294/428 - loss 2.01887779 - time (sec): 23.35 - samples/sec: 201.47 - lr: 0.001000\n",
            "2023-05-23 12:35:20,070 epoch 5 - iter 336/428 - loss 2.01165729 - time (sec): 26.65 - samples/sec: 201.76 - lr: 0.001000\n",
            "2023-05-23 12:35:23,141 epoch 5 - iter 378/428 - loss 2.00241811 - time (sec): 29.72 - samples/sec: 203.52 - lr: 0.001000\n",
            "2023-05-23 12:35:26,110 epoch 5 - iter 420/428 - loss 2.00295666 - time (sec): 32.68 - samples/sec: 205.60 - lr: 0.001000\n",
            "2023-05-23 12:35:27,256 ----------------------------------------------------------------------------------------------------\n",
            "2023-05-23 12:35:27,257 EPOCH 5 done: loss 2.0032 - lr 0.001000\n"
          ]
        },
        {
          "metadata": {
            "tags": null
          },
          "name": "stderr",
          "output_type": "stream",
          "text": [
            "100%|██████████| 56/56 [00:04<00:00, 12.19it/s]"
          ]
        },
        {
          "metadata": {
            "tags": null
          },
          "name": "stdout",
          "output_type": "stream",
          "text": [
            "2023-05-23 12:35:31,869 Evaluating as a multi-label problem: True\n"
          ]
        },
        {
          "metadata": {
            "tags": null
          },
          "name": "stderr",
          "output_type": "stream",
          "text": [
            "\n"
          ]
        },
        {
          "metadata": {
            "tags": null
          },
          "name": "stdout",
          "output_type": "stream",
          "text": [
            "2023-05-23 12:35:31,932 DEV : loss 1.9613715410232544 - f1-score (micro avg)  0.5292\n",
            "2023-05-23 12:35:32,427 BAD EPOCHS (no improvement): 0\n",
            "2023-05-23 12:35:32,431 saving best model\n",
            "2023-05-23 12:35:32,557 ----------------------------------------------------------------------------------------------------\n",
            "2023-05-23 12:35:35,717 epoch 6 - iter 42/428 - loss 1.93138262 - time (sec): 3.16 - samples/sec: 212.90 - lr: 0.001000\n",
            "2023-05-23 12:35:39,302 epoch 6 - iter 84/428 - loss 1.96096347 - time (sec): 6.74 - samples/sec: 199.37 - lr: 0.001000\n",
            "2023-05-23 12:35:42,411 epoch 6 - iter 126/428 - loss 1.94602751 - time (sec): 9.85 - samples/sec: 204.66 - lr: 0.001000\n",
            "2023-05-23 12:35:45,763 epoch 6 - iter 168/428 - loss 1.96862693 - time (sec): 13.20 - samples/sec: 203.60 - lr: 0.001000\n",
            "2023-05-23 12:35:49,027 epoch 6 - iter 210/428 - loss 1.95214656 - time (sec): 16.47 - samples/sec: 204.04 - lr: 0.001000\n",
            "2023-05-23 12:35:52,107 epoch 6 - iter 252/428 - loss 1.96101228 - time (sec): 19.55 - samples/sec: 206.27 - lr: 0.001000\n",
            "2023-05-23 12:35:55,823 epoch 6 - iter 294/428 - loss 1.95678784 - time (sec): 23.26 - samples/sec: 202.21 - lr: 0.001000\n",
            "2023-05-23 12:35:59,060 epoch 6 - iter 336/428 - loss 1.96541129 - time (sec): 26.50 - samples/sec: 202.87 - lr: 0.001000\n",
            "2023-05-23 12:36:02,492 epoch 6 - iter 378/428 - loss 1.96803411 - time (sec): 29.93 - samples/sec: 202.06 - lr: 0.001000\n",
            "2023-05-23 12:36:05,495 epoch 6 - iter 420/428 - loss 1.96996691 - time (sec): 32.94 - samples/sec: 204.04 - lr: 0.001000\n",
            "2023-05-23 12:36:06,049 ----------------------------------------------------------------------------------------------------\n",
            "2023-05-23 12:36:06,050 EPOCH 6 done: loss 1.9700 - lr 0.001000\n"
          ]
        },
        {
          "metadata": {
            "tags": null
          },
          "name": "stderr",
          "output_type": "stream",
          "text": [
            "100%|██████████| 56/56 [00:04<00:00, 11.87it/s]"
          ]
        },
        {
          "metadata": {
            "tags": null
          },
          "name": "stdout",
          "output_type": "stream",
          "text": [
            "2023-05-23 12:36:10,785 Evaluating as a multi-label problem: True\n",
            "2023-05-23 12:36:10,820 DEV : loss 2.008732318878174 - f1-score (micro avg)  0.5254\n"
          ]
        },
        {
          "metadata": {
            "tags": null
          },
          "name": "stderr",
          "output_type": "stream",
          "text": [
            "\n"
          ]
        },
        {
          "metadata": {
            "tags": null
          },
          "name": "stdout",
          "output_type": "stream",
          "text": [
            "2023-05-23 12:36:11,098 BAD EPOCHS (no improvement): 1\n",
            "2023-05-23 12:36:11,099 ----------------------------------------------------------------------------------------------------\n",
            "2023-05-23 12:36:14,445 epoch 7 - iter 42/428 - loss 1.91467122 - time (sec): 3.34 - samples/sec: 200.97 - lr: 0.001000\n",
            "2023-05-23 12:36:17,717 epoch 7 - iter 84/428 - loss 1.93474520 - time (sec): 6.62 - samples/sec: 203.17 - lr: 0.001000\n",
            "2023-05-23 12:36:21,280 epoch 7 - iter 126/428 - loss 1.96481416 - time (sec): 10.18 - samples/sec: 198.06 - lr: 0.001000\n",
            "2023-05-23 12:36:24,311 epoch 7 - iter 168/428 - loss 1.93228840 - time (sec): 13.21 - samples/sec: 203.48 - lr: 0.001000\n",
            "2023-05-23 12:36:27,552 epoch 7 - iter 210/428 - loss 1.93100298 - time (sec): 16.45 - samples/sec: 204.25 - lr: 0.001000\n",
            "2023-05-23 12:36:31,002 epoch 7 - iter 252/428 - loss 1.93193160 - time (sec): 19.90 - samples/sec: 202.60 - lr: 0.001000\n",
            "2023-05-23 12:36:34,066 epoch 7 - iter 294/428 - loss 1.92058797 - time (sec): 22.96 - samples/sec: 204.84 - lr: 0.001000\n",
            "2023-05-23 12:36:37,702 epoch 7 - iter 336/428 - loss 1.91260031 - time (sec): 26.60 - samples/sec: 202.10 - lr: 0.001000\n",
            "2023-05-23 12:36:40,759 epoch 7 - iter 378/428 - loss 1.90782210 - time (sec): 29.66 - samples/sec: 203.93 - lr: 0.001000\n",
            "2023-05-23 12:36:44,297 epoch 7 - iter 420/428 - loss 1.91038990 - time (sec): 33.20 - samples/sec: 202.44 - lr: 0.001000\n",
            "2023-05-23 12:36:44,944 ----------------------------------------------------------------------------------------------------\n",
            "2023-05-23 12:36:44,946 EPOCH 7 done: loss 1.9144 - lr 0.001000\n"
          ]
        },
        {
          "metadata": {
            "tags": null
          },
          "name": "stderr",
          "output_type": "stream",
          "text": [
            "100%|██████████| 56/56 [00:04<00:00, 13.54it/s]"
          ]
        },
        {
          "metadata": {
            "tags": null
          },
          "name": "stdout",
          "output_type": "stream",
          "text": [
            "2023-05-23 12:36:49,095 Evaluating as a multi-label problem: False\n",
            "2023-05-23 12:36:49,112 DEV : loss 1.9906941652297974 - f1-score (micro avg)  0.5257\n"
          ]
        },
        {
          "metadata": {
            "tags": null
          },
          "name": "stderr",
          "output_type": "stream",
          "text": [
            "\n"
          ]
        },
        {
          "metadata": {
            "tags": null
          },
          "name": "stdout",
          "output_type": "stream",
          "text": [
            "2023-05-23 12:36:49,875 BAD EPOCHS (no improvement): 2\n",
            "2023-05-23 12:36:49,877 ----------------------------------------------------------------------------------------------------\n",
            "2023-05-23 12:36:52,975 epoch 8 - iter 42/428 - loss 1.82936975 - time (sec): 3.10 - samples/sec: 217.06 - lr: 0.001000\n",
            "2023-05-23 12:36:56,107 epoch 8 - iter 84/428 - loss 1.81872621 - time (sec): 6.23 - samples/sec: 215.80 - lr: 0.001000\n",
            "2023-05-23 12:36:59,661 epoch 8 - iter 126/428 - loss 1.84851393 - time (sec): 9.78 - samples/sec: 206.10 - lr: 0.001000\n",
            "2023-05-23 12:37:03,233 epoch 8 - iter 168/428 - loss 1.84108864 - time (sec): 13.35 - samples/sec: 201.28 - lr: 0.001000\n",
            "2023-05-23 12:37:06,243 epoch 8 - iter 210/428 - loss 1.85396464 - time (sec): 16.36 - samples/sec: 205.32 - lr: 0.001000\n",
            "2023-05-23 12:37:09,279 epoch 8 - iter 252/428 - loss 1.87410328 - time (sec): 19.40 - samples/sec: 207.83 - lr: 0.001000\n",
            "2023-05-23 12:37:12,797 epoch 8 - iter 294/428 - loss 1.87180204 - time (sec): 22.92 - samples/sec: 205.25 - lr: 0.001000\n",
            "2023-05-23 12:37:16,041 epoch 8 - iter 336/428 - loss 1.87630518 - time (sec): 26.16 - samples/sec: 205.49 - lr: 0.001000\n",
            "2023-05-23 12:37:19,729 epoch 8 - iter 378/428 - loss 1.88265409 - time (sec): 29.85 - samples/sec: 202.61 - lr: 0.001000\n",
            "2023-05-23 12:37:22,801 epoch 8 - iter 420/428 - loss 1.87919533 - time (sec): 32.92 - samples/sec: 204.12 - lr: 0.001000\n",
            "2023-05-23 12:37:23,349 ----------------------------------------------------------------------------------------------------\n",
            "2023-05-23 12:37:23,350 EPOCH 8 done: loss 1.8842 - lr 0.001000\n"
          ]
        },
        {
          "metadata": {
            "tags": null
          },
          "name": "stderr",
          "output_type": "stream",
          "text": [
            "100%|██████████| 56/56 [00:04<00:00, 12.05it/s]"
          ]
        },
        {
          "metadata": {
            "tags": null
          },
          "name": "stdout",
          "output_type": "stream",
          "text": [
            "2023-05-23 12:37:28,018 Evaluating as a multi-label problem: False\n",
            "2023-05-23 12:37:28,044 DEV : loss 1.9675838947296143 - f1-score (micro avg)  0.5371\n"
          ]
        },
        {
          "metadata": {
            "tags": null
          },
          "name": "stderr",
          "output_type": "stream",
          "text": [
            "\n"
          ]
        },
        {
          "metadata": {
            "tags": null
          },
          "name": "stdout",
          "output_type": "stream",
          "text": [
            "2023-05-23 12:37:29,055 BAD EPOCHS (no improvement): 0\n",
            "2023-05-23 12:37:29,062 saving best model\n",
            "2023-05-23 12:37:29,162 ----------------------------------------------------------------------------------------------------\n",
            "2023-05-23 12:37:32,271 epoch 9 - iter 42/428 - loss 1.79058003 - time (sec): 3.11 - samples/sec: 216.29 - lr: 0.001000\n",
            "2023-05-23 12:37:35,292 epoch 9 - iter 84/428 - loss 1.79484985 - time (sec): 6.13 - samples/sec: 219.34 - lr: 0.001000\n",
            "2023-05-23 12:37:38,302 epoch 9 - iter 126/428 - loss 1.79552568 - time (sec): 9.14 - samples/sec: 220.64 - lr: 0.001000\n",
            "2023-05-23 12:37:41,718 epoch 9 - iter 168/428 - loss 1.79983061 - time (sec): 12.55 - samples/sec: 214.12 - lr: 0.001000\n",
            "2023-05-23 12:37:45,615 epoch 9 - iter 210/428 - loss 1.79548844 - time (sec): 16.45 - samples/sec: 204.25 - lr: 0.001000\n",
            "2023-05-23 12:37:48,790 epoch 9 - iter 252/428 - loss 1.81299393 - time (sec): 19.63 - samples/sec: 205.45 - lr: 0.001000\n",
            "2023-05-23 12:37:51,816 epoch 9 - iter 294/428 - loss 1.81692878 - time (sec): 22.65 - samples/sec: 207.67 - lr: 0.001000\n",
            "2023-05-23 12:37:55,095 epoch 9 - iter 336/428 - loss 1.82333380 - time (sec): 25.93 - samples/sec: 207.32 - lr: 0.001000\n",
            "2023-05-23 12:37:58,501 epoch 9 - iter 378/428 - loss 1.83609638 - time (sec): 29.34 - samples/sec: 206.16 - lr: 0.001000\n",
            "2023-05-23 12:38:02,153 epoch 9 - iter 420/428 - loss 1.83501352 - time (sec): 32.99 - samples/sec: 203.71 - lr: 0.001000\n",
            "2023-05-23 12:38:02,706 ----------------------------------------------------------------------------------------------------\n",
            "2023-05-23 12:38:02,708 EPOCH 9 done: loss 1.8411 - lr 0.001000\n"
          ]
        },
        {
          "metadata": {
            "tags": null
          },
          "name": "stderr",
          "output_type": "stream",
          "text": [
            "100%|██████████| 56/56 [00:04<00:00, 13.82it/s]"
          ]
        },
        {
          "metadata": {
            "tags": null
          },
          "name": "stdout",
          "output_type": "stream",
          "text": [
            "2023-05-23 12:38:06,778 Evaluating as a multi-label problem: True\n",
            "2023-05-23 12:38:06,815 DEV : loss 1.986078143119812 - f1-score (micro avg)  0.5148\n"
          ]
        },
        {
          "metadata": {
            "tags": null
          },
          "name": "stderr",
          "output_type": "stream",
          "text": [
            "\n"
          ]
        },
        {
          "metadata": {
            "tags": null
          },
          "name": "stdout",
          "output_type": "stream",
          "text": [
            "2023-05-23 12:38:07,079 BAD EPOCHS (no improvement): 1\n",
            "2023-05-23 12:38:07,081 ----------------------------------------------------------------------------------------------------\n",
            "2023-05-23 12:38:10,490 epoch 10 - iter 42/428 - loss 1.77352553 - time (sec): 3.41 - samples/sec: 197.31 - lr: 0.001000\n",
            "2023-05-23 12:38:14,325 epoch 10 - iter 84/428 - loss 1.76602150 - time (sec): 7.24 - samples/sec: 185.60 - lr: 0.001000\n",
            "2023-05-23 12:38:17,312 epoch 10 - iter 126/428 - loss 1.78906243 - time (sec): 10.23 - samples/sec: 197.09 - lr: 0.001000\n",
            "2023-05-23 12:38:20,340 epoch 10 - iter 168/428 - loss 1.78707887 - time (sec): 13.26 - samples/sec: 202.77 - lr: 0.001000\n",
            "2023-05-23 12:38:23,558 epoch 10 - iter 210/428 - loss 1.79985516 - time (sec): 16.47 - samples/sec: 203.95 - lr: 0.001000\n",
            "2023-05-23 12:38:27,554 epoch 10 - iter 252/428 - loss 1.81268065 - time (sec): 20.47 - samples/sec: 196.97 - lr: 0.001000\n",
            "2023-05-23 12:38:30,569 epoch 10 - iter 294/428 - loss 1.80969644 - time (sec): 23.48 - samples/sec: 200.30 - lr: 0.001000\n",
            "2023-05-23 12:38:33,630 epoch 10 - iter 336/428 - loss 1.81703275 - time (sec): 26.55 - samples/sec: 202.51 - lr: 0.001000\n",
            "2023-05-23 12:38:36,684 epoch 10 - iter 378/428 - loss 1.82988293 - time (sec): 29.60 - samples/sec: 204.33 - lr: 0.001000\n",
            "2023-05-23 12:38:40,147 epoch 10 - iter 420/428 - loss 1.82357800 - time (sec): 33.06 - samples/sec: 203.25 - lr: 0.001000\n",
            "2023-05-23 12:38:40,791 ----------------------------------------------------------------------------------------------------\n",
            "2023-05-23 12:38:40,793 EPOCH 10 done: loss 1.8240 - lr 0.001000\n"
          ]
        },
        {
          "metadata": {
            "tags": null
          },
          "name": "stderr",
          "output_type": "stream",
          "text": [
            "100%|██████████| 56/56 [00:04<00:00, 11.90it/s]"
          ]
        },
        {
          "metadata": {
            "tags": null
          },
          "name": "stdout",
          "output_type": "stream",
          "text": [
            "2023-05-23 12:38:45,512 Evaluating as a multi-label problem: True\n",
            "2023-05-23 12:38:45,542 DEV : loss 1.9659820795059204 - f1-score (micro avg)  0.5515\n"
          ]
        },
        {
          "metadata": {
            "tags": null
          },
          "name": "stderr",
          "output_type": "stream",
          "text": [
            "\n"
          ]
        },
        {
          "metadata": {
            "tags": null
          },
          "name": "stdout",
          "output_type": "stream",
          "text": [
            "2023-05-23 12:38:45,816 BAD EPOCHS (no improvement): 0\n",
            "2023-05-23 12:38:45,817 saving best model\n",
            "2023-05-23 12:38:45,899 ----------------------------------------------------------------------------------------------------\n",
            "2023-05-23 12:38:48,968 epoch 11 - iter 42/428 - loss 1.71553803 - time (sec): 3.07 - samples/sec: 219.16 - lr: 0.001000\n",
            "2023-05-23 12:38:52,883 epoch 11 - iter 84/428 - loss 1.76226138 - time (sec): 6.98 - samples/sec: 192.51 - lr: 0.001000\n",
            "2023-05-23 12:38:56,180 epoch 11 - iter 126/428 - loss 1.76661322 - time (sec): 10.28 - samples/sec: 196.16 - lr: 0.001000\n",
            "2023-05-23 12:38:59,222 epoch 11 - iter 168/428 - loss 1.75837706 - time (sec): 13.32 - samples/sec: 201.80 - lr: 0.001000\n",
            "2023-05-23 12:39:02,227 epoch 11 - iter 210/428 - loss 1.75817344 - time (sec): 16.32 - samples/sec: 205.82 - lr: 0.001000\n",
            "2023-05-23 12:39:05,324 epoch 11 - iter 252/428 - loss 1.75212540 - time (sec): 19.42 - samples/sec: 207.60 - lr: 0.001000\n",
            "2023-05-23 12:39:09,649 epoch 11 - iter 294/428 - loss 1.76426122 - time (sec): 23.75 - samples/sec: 198.09 - lr: 0.001000\n",
            "2023-05-23 12:39:12,655 epoch 11 - iter 336/428 - loss 1.76257184 - time (sec): 26.75 - samples/sec: 200.95 - lr: 0.001000\n",
            "2023-05-23 12:39:15,727 epoch 11 - iter 378/428 - loss 1.76967266 - time (sec): 29.82 - samples/sec: 202.78 - lr: 0.001000\n",
            "2023-05-23 12:39:18,792 epoch 11 - iter 420/428 - loss 1.77209741 - time (sec): 32.89 - samples/sec: 204.32 - lr: 0.001000\n",
            "2023-05-23 12:39:19,339 ----------------------------------------------------------------------------------------------------\n",
            "2023-05-23 12:39:19,341 EPOCH 11 done: loss 1.7693 - lr 0.001000\n"
          ]
        },
        {
          "metadata": {
            "tags": null
          },
          "name": "stderr",
          "output_type": "stream",
          "text": [
            "100%|██████████| 56/56 [00:05<00:00, 10.11it/s]"
          ]
        },
        {
          "metadata": {
            "tags": null
          },
          "name": "stdout",
          "output_type": "stream",
          "text": [
            "2023-05-23 12:39:24,891 Evaluating as a multi-label problem: True\n",
            "2023-05-23 12:39:24,927 DEV : loss 1.963733434677124 - f1-score (micro avg)  0.5651\n"
          ]
        },
        {
          "metadata": {
            "tags": null
          },
          "name": "stderr",
          "output_type": "stream",
          "text": [
            "\n"
          ]
        },
        {
          "metadata": {
            "tags": null
          },
          "name": "stdout",
          "output_type": "stream",
          "text": [
            "2023-05-23 12:39:25,197 BAD EPOCHS (no improvement): 0\n",
            "2023-05-23 12:39:25,201 saving best model\n",
            "2023-05-23 12:39:25,288 ----------------------------------------------------------------------------------------------------\n",
            "2023-05-23 12:39:28,318 epoch 12 - iter 42/428 - loss 1.74068641 - time (sec): 3.03 - samples/sec: 221.97 - lr: 0.001000\n",
            "2023-05-23 12:39:31,341 epoch 12 - iter 84/428 - loss 1.67438968 - time (sec): 6.05 - samples/sec: 222.11 - lr: 0.001000\n",
            "2023-05-23 12:39:35,060 epoch 12 - iter 126/428 - loss 1.69127247 - time (sec): 9.77 - samples/sec: 206.36 - lr: 0.001000\n",
            "2023-05-23 12:39:38,548 epoch 12 - iter 168/428 - loss 1.70081159 - time (sec): 13.26 - samples/sec: 202.74 - lr: 0.001000\n",
            "2023-05-23 12:39:41,575 epoch 12 - iter 210/428 - loss 1.71772906 - time (sec): 16.28 - samples/sec: 206.33 - lr: 0.001000\n",
            "2023-05-23 12:39:44,625 epoch 12 - iter 252/428 - loss 1.71521563 - time (sec): 19.33 - samples/sec: 208.54 - lr: 0.001000\n",
            "2023-05-23 12:39:47,683 epoch 12 - iter 294/428 - loss 1.73017909 - time (sec): 22.39 - samples/sec: 210.07 - lr: 0.001000\n",
            "2023-05-23 12:39:51,827 epoch 12 - iter 336/428 - loss 1.73461809 - time (sec): 26.54 - samples/sec: 202.59 - lr: 0.001000\n",
            "2023-05-23 12:39:54,912 epoch 12 - iter 378/428 - loss 1.74902547 - time (sec): 29.62 - samples/sec: 204.18 - lr: 0.001000\n",
            "2023-05-23 12:39:57,933 epoch 12 - iter 420/428 - loss 1.75115250 - time (sec): 32.64 - samples/sec: 205.86 - lr: 0.001000\n",
            "2023-05-23 12:39:58,488 ----------------------------------------------------------------------------------------------------\n",
            "2023-05-23 12:39:58,489 EPOCH 12 done: loss 1.7548 - lr 0.001000\n"
          ]
        },
        {
          "metadata": {
            "tags": null
          },
          "name": "stderr",
          "output_type": "stream",
          "text": [
            "100%|██████████| 56/56 [00:04<00:00, 13.82it/s]"
          ]
        },
        {
          "metadata": {
            "tags": null
          },
          "name": "stdout",
          "output_type": "stream",
          "text": [
            "2023-05-23 12:40:02,556 Evaluating as a multi-label problem: True\n",
            "2023-05-23 12:40:02,609 DEV : loss 1.9898380041122437 - f1-score (micro avg)  0.5469\n"
          ]
        },
        {
          "metadata": {
            "tags": null
          },
          "name": "stderr",
          "output_type": "stream",
          "text": [
            "\n"
          ]
        },
        {
          "metadata": {
            "tags": null
          },
          "name": "stdout",
          "output_type": "stream",
          "text": [
            "2023-05-23 12:40:03,751 BAD EPOCHS (no improvement): 1\n",
            "2023-05-23 12:40:03,753 ----------------------------------------------------------------------------------------------------\n",
            "2023-05-23 12:40:07,308 epoch 13 - iter 42/428 - loss 1.73209752 - time (sec): 3.55 - samples/sec: 189.11 - lr: 0.001000\n",
            "2023-05-23 12:40:10,308 epoch 13 - iter 84/428 - loss 1.71901194 - time (sec): 6.55 - samples/sec: 205.07 - lr: 0.001000\n",
            "2023-05-23 12:40:13,299 epoch 13 - iter 126/428 - loss 1.72878577 - time (sec): 9.54 - samples/sec: 211.22 - lr: 0.001000\n",
            "2023-05-23 12:40:16,853 epoch 13 - iter 168/428 - loss 1.71942394 - time (sec): 13.10 - samples/sec: 205.21 - lr: 0.001000\n",
            "2023-05-23 12:40:20,347 epoch 13 - iter 210/428 - loss 1.69672327 - time (sec): 16.59 - samples/sec: 202.50 - lr: 0.001000\n",
            "2023-05-23 12:40:23,538 epoch 13 - iter 252/428 - loss 1.69930948 - time (sec): 19.78 - samples/sec: 203.81 - lr: 0.001000\n",
            "2023-05-23 12:40:26,516 epoch 13 - iter 294/428 - loss 1.70216324 - time (sec): 22.76 - samples/sec: 206.66 - lr: 0.001000\n",
            "2023-05-23 12:40:30,120 epoch 13 - iter 336/428 - loss 1.70056758 - time (sec): 26.37 - samples/sec: 203.90 - lr: 0.001000\n",
            "2023-05-23 12:40:33,379 epoch 13 - iter 378/428 - loss 1.70130676 - time (sec): 29.62 - samples/sec: 204.16 - lr: 0.001000\n",
            "2023-05-23 12:40:36,725 epoch 13 - iter 420/428 - loss 1.71307509 - time (sec): 32.97 - samples/sec: 203.82 - lr: 0.001000\n",
            "2023-05-23 12:40:37,301 ----------------------------------------------------------------------------------------------------\n",
            "2023-05-23 12:40:37,302 EPOCH 13 done: loss 1.7125 - lr 0.001000\n"
          ]
        },
        {
          "metadata": {
            "tags": null
          },
          "name": "stderr",
          "output_type": "stream",
          "text": [
            "100%|██████████| 56/56 [00:04<00:00, 13.81it/s]"
          ]
        },
        {
          "metadata": {
            "tags": null
          },
          "name": "stdout",
          "output_type": "stream",
          "text": [
            "2023-05-23 12:40:41,372 Evaluating as a multi-label problem: True\n",
            "2023-05-23 12:40:41,403 DEV : loss 1.9912744760513306 - f1-score (micro avg)  0.5448\n"
          ]
        },
        {
          "metadata": {
            "tags": null
          },
          "name": "stderr",
          "output_type": "stream",
          "text": [
            "\n"
          ]
        },
        {
          "metadata": {
            "tags": null
          },
          "name": "stdout",
          "output_type": "stream",
          "text": [
            "2023-05-23 12:40:42,191 BAD EPOCHS (no improvement): 2\n",
            "2023-05-23 12:40:42,193 ----------------------------------------------------------------------------------------------------\n",
            "2023-05-23 12:40:45,316 epoch 14 - iter 42/428 - loss 1.57514710 - time (sec): 3.12 - samples/sec: 215.51 - lr: 0.001000\n",
            "2023-05-23 12:40:48,725 epoch 14 - iter 84/428 - loss 1.63848866 - time (sec): 6.53 - samples/sec: 205.89 - lr: 0.001000\n",
            "2023-05-23 12:40:51,902 epoch 14 - iter 126/428 - loss 1.65431599 - time (sec): 9.70 - samples/sec: 207.74 - lr: 0.001000\n",
            "2023-05-23 12:40:55,499 epoch 14 - iter 168/428 - loss 1.64262016 - time (sec): 13.30 - samples/sec: 202.09 - lr: 0.001000\n",
            "2023-05-23 12:40:58,528 epoch 14 - iter 210/428 - loss 1.65626655 - time (sec): 16.33 - samples/sec: 205.75 - lr: 0.001000\n",
            "2023-05-23 12:41:01,788 epoch 14 - iter 252/428 - loss 1.65082092 - time (sec): 19.59 - samples/sec: 205.81 - lr: 0.001000\n",
            "2023-05-23 12:41:05,207 epoch 14 - iter 294/428 - loss 1.65883514 - time (sec): 23.01 - samples/sec: 204.44 - lr: 0.001000\n",
            "2023-05-23 12:41:08,278 epoch 14 - iter 336/428 - loss 1.66609911 - time (sec): 26.08 - samples/sec: 206.13 - lr: 0.001000\n",
            "2023-05-23 12:41:11,981 epoch 14 - iter 378/428 - loss 1.67210053 - time (sec): 29.78 - samples/sec: 203.07 - lr: 0.001000\n",
            "2023-05-23 12:41:15,213 epoch 14 - iter 420/428 - loss 1.68991921 - time (sec): 33.02 - samples/sec: 203.54 - lr: 0.001000\n",
            "2023-05-23 12:41:15,875 ----------------------------------------------------------------------------------------------------\n",
            "2023-05-23 12:41:15,877 EPOCH 14 done: loss 1.6890 - lr 0.001000\n"
          ]
        },
        {
          "metadata": {
            "tags": null
          },
          "name": "stderr",
          "output_type": "stream",
          "text": [
            "100%|██████████| 56/56 [00:04<00:00, 12.18it/s]"
          ]
        },
        {
          "metadata": {
            "tags": null
          },
          "name": "stdout",
          "output_type": "stream",
          "text": [
            "2023-05-23 12:41:20,493 Evaluating as a multi-label problem: True\n",
            "2023-05-23 12:41:20,529 DEV : loss 1.9482636451721191 - f1-score (micro avg)  0.5621\n"
          ]
        },
        {
          "metadata": {
            "tags": null
          },
          "name": "stderr",
          "output_type": "stream",
          "text": [
            "\n"
          ]
        },
        {
          "metadata": {
            "tags": null
          },
          "name": "stdout",
          "output_type": "stream",
          "text": [
            "2023-05-23 12:41:21,275 BAD EPOCHS (no improvement): 3\n",
            "2023-05-23 12:41:21,280 ----------------------------------------------------------------------------------------------------\n",
            "2023-05-23 12:41:24,430 epoch 15 - iter 42/428 - loss 1.58750966 - time (sec): 3.15 - samples/sec: 213.62 - lr: 0.001000\n",
            "2023-05-23 12:41:27,513 epoch 15 - iter 84/428 - loss 1.60256910 - time (sec): 6.23 - samples/sec: 215.76 - lr: 0.001000\n",
            "2023-05-23 12:41:30,812 epoch 15 - iter 126/428 - loss 1.58822467 - time (sec): 9.53 - samples/sec: 211.59 - lr: 0.001000\n",
            "2023-05-23 12:41:34,270 epoch 15 - iter 168/428 - loss 1.59951493 - time (sec): 12.99 - samples/sec: 206.99 - lr: 0.001000\n",
            "2023-05-23 12:41:38,023 epoch 15 - iter 210/428 - loss 1.59858718 - time (sec): 16.74 - samples/sec: 200.73 - lr: 0.001000\n",
            "2023-05-23 12:41:41,159 epoch 15 - iter 252/428 - loss 1.62245118 - time (sec): 19.87 - samples/sec: 202.87 - lr: 0.001000\n",
            "2023-05-23 12:41:44,393 epoch 15 - iter 294/428 - loss 1.61852223 - time (sec): 23.11 - samples/sec: 203.56 - lr: 0.001000\n",
            "2023-05-23 12:41:47,977 epoch 15 - iter 336/428 - loss 1.63179579 - time (sec): 26.69 - samples/sec: 201.40 - lr: 0.001000\n",
            "2023-05-23 12:41:51,558 epoch 15 - iter 378/428 - loss 1.63699652 - time (sec): 30.27 - samples/sec: 199.78 - lr: 0.001000\n",
            "2023-05-23 12:41:54,552 epoch 15 - iter 420/428 - loss 1.64082947 - time (sec): 33.27 - samples/sec: 202.00 - lr: 0.001000\n",
            "2023-05-23 12:41:55,096 ----------------------------------------------------------------------------------------------------\n",
            "2023-05-23 12:41:55,098 EPOCH 15 done: loss 1.6432 - lr 0.001000\n"
          ]
        },
        {
          "metadata": {
            "tags": null
          },
          "name": "stderr",
          "output_type": "stream",
          "text": [
            "100%|██████████| 56/56 [00:04<00:00, 13.12it/s]"
          ]
        },
        {
          "metadata": {
            "tags": null
          },
          "name": "stdout",
          "output_type": "stream",
          "text": [
            "2023-05-23 12:41:59,382 Evaluating as a multi-label problem: True\n"
          ]
        },
        {
          "metadata": {
            "tags": null
          },
          "name": "stderr",
          "output_type": "stream",
          "text": [
            "\n"
          ]
        },
        {
          "metadata": {
            "tags": null
          },
          "name": "stdout",
          "output_type": "stream",
          "text": [
            "2023-05-23 12:41:59,442 DEV : loss 2.04893159866333 - f1-score (micro avg)  0.5468\n",
            "2023-05-23 12:41:59,905 Epoch    15: reducing learning rate of group 0 to 5.0000e-04.\n",
            "2023-05-23 12:41:59,909 BAD EPOCHS (no improvement): 4\n",
            "2023-05-23 12:41:59,911 ----------------------------------------------------------------------------------------------------\n",
            "2023-05-23 12:42:03,913 epoch 16 - iter 42/428 - loss 1.54100920 - time (sec): 4.00 - samples/sec: 167.98 - lr: 0.000500\n",
            "2023-05-23 12:42:06,928 epoch 16 - iter 84/428 - loss 1.44914411 - time (sec): 7.02 - samples/sec: 191.58 - lr: 0.000500\n",
            "2023-05-23 12:42:09,985 epoch 16 - iter 126/428 - loss 1.49812336 - time (sec): 10.07 - samples/sec: 200.15 - lr: 0.000500\n",
            "2023-05-23 12:42:13,072 epoch 16 - iter 168/428 - loss 1.51090670 - time (sec): 13.16 - samples/sec: 204.27 - lr: 0.000500\n",
            "2023-05-23 12:42:17,270 epoch 16 - iter 210/428 - loss 1.52883316 - time (sec): 17.36 - samples/sec: 193.58 - lr: 0.000500\n",
            "2023-05-23 12:42:20,246 epoch 16 - iter 252/428 - loss 1.52323934 - time (sec): 20.33 - samples/sec: 198.29 - lr: 0.000500\n",
            "2023-05-23 12:42:23,294 epoch 16 - iter 294/428 - loss 1.53774622 - time (sec): 23.38 - samples/sec: 201.19 - lr: 0.000500\n",
            "2023-05-23 12:42:26,311 epoch 16 - iter 336/428 - loss 1.55119471 - time (sec): 26.40 - samples/sec: 203.65 - lr: 0.000500\n",
            "2023-05-23 12:42:29,722 epoch 16 - iter 378/428 - loss 1.53410560 - time (sec): 29.81 - samples/sec: 202.89 - lr: 0.000500\n",
            "2023-05-23 12:42:33,537 epoch 16 - iter 420/428 - loss 1.53838572 - time (sec): 33.62 - samples/sec: 199.86 - lr: 0.000500\n",
            "2023-05-23 12:42:34,097 ----------------------------------------------------------------------------------------------------\n",
            "2023-05-23 12:42:34,098 EPOCH 16 done: loss 1.5429 - lr 0.000500\n"
          ]
        },
        {
          "metadata": {
            "tags": null
          },
          "name": "stderr",
          "output_type": "stream",
          "text": [
            "100%|██████████| 56/56 [00:04<00:00, 13.80it/s]"
          ]
        },
        {
          "metadata": {
            "tags": null
          },
          "name": "stdout",
          "output_type": "stream",
          "text": [
            "2023-05-23 12:42:38,178 Evaluating as a multi-label problem: True\n",
            "2023-05-23 12:42:38,212 DEV : loss 2.030203104019165 - f1-score (micro avg)  0.5354\n"
          ]
        },
        {
          "metadata": {
            "tags": null
          },
          "name": "stderr",
          "output_type": "stream",
          "text": [
            "\n"
          ]
        },
        {
          "metadata": {
            "tags": null
          },
          "name": "stdout",
          "output_type": "stream",
          "text": [
            "2023-05-23 12:42:38,507 BAD EPOCHS (no improvement): 1\n",
            "2023-05-23 12:42:38,509 ----------------------------------------------------------------------------------------------------\n",
            "2023-05-23 12:42:41,554 epoch 17 - iter 42/428 - loss 1.42168542 - time (sec): 3.04 - samples/sec: 221.00 - lr: 0.000500\n",
            "2023-05-23 12:42:45,696 epoch 17 - iter 84/428 - loss 1.41389597 - time (sec): 7.18 - samples/sec: 187.12 - lr: 0.000500\n",
            "2023-05-23 12:42:48,747 epoch 17 - iter 126/428 - loss 1.41910080 - time (sec): 10.23 - samples/sec: 196.99 - lr: 0.000500\n",
            "2023-05-23 12:42:51,802 epoch 17 - iter 168/428 - loss 1.44149446 - time (sec): 13.29 - samples/sec: 202.28 - lr: 0.000500\n",
            "2023-05-23 12:42:54,840 epoch 17 - iter 210/428 - loss 1.44389473 - time (sec): 16.33 - samples/sec: 205.80 - lr: 0.000500\n",
            "2023-05-23 12:42:59,040 epoch 17 - iter 252/428 - loss 1.46745523 - time (sec): 20.53 - samples/sec: 196.43 - lr: 0.000500\n",
            "2023-05-23 12:43:02,131 epoch 17 - iter 294/428 - loss 1.47459200 - time (sec): 23.62 - samples/sec: 199.17 - lr: 0.000500\n",
            "2023-05-23 12:43:05,213 epoch 17 - iter 336/428 - loss 1.47941009 - time (sec): 26.70 - samples/sec: 201.35 - lr: 0.000500\n",
            "2023-05-23 12:43:08,264 epoch 17 - iter 378/428 - loss 1.49256630 - time (sec): 29.75 - samples/sec: 203.29 - lr: 0.000500\n",
            "2023-05-23 12:43:12,480 epoch 17 - iter 420/428 - loss 1.50275763 - time (sec): 33.97 - samples/sec: 197.84 - lr: 0.000500\n",
            "2023-05-23 12:43:13,130 ----------------------------------------------------------------------------------------------------\n",
            "2023-05-23 12:43:13,133 EPOCH 17 done: loss 1.5031 - lr 0.000500\n"
          ]
        },
        {
          "metadata": {
            "tags": null
          },
          "name": "stderr",
          "output_type": "stream",
          "text": [
            "100%|██████████| 56/56 [00:04<00:00, 13.30it/s]"
          ]
        },
        {
          "metadata": {
            "tags": null
          },
          "name": "stdout",
          "output_type": "stream",
          "text": [
            "2023-05-23 12:43:17,360 Evaluating as a multi-label problem: True\n",
            "2023-05-23 12:43:17,391 DEV : loss 2.0385875701904297 - f1-score (micro avg)  0.5686\n"
          ]
        },
        {
          "metadata": {
            "tags": null
          },
          "name": "stderr",
          "output_type": "stream",
          "text": [
            "\n"
          ]
        },
        {
          "metadata": {
            "tags": null
          },
          "name": "stdout",
          "output_type": "stream",
          "text": [
            "2023-05-23 12:43:17,674 BAD EPOCHS (no improvement): 0\n",
            "2023-05-23 12:43:17,676 saving best model\n",
            "2023-05-23 12:43:17,763 ----------------------------------------------------------------------------------------------------\n",
            "2023-05-23 12:43:20,810 epoch 18 - iter 42/428 - loss 1.38990946 - time (sec): 3.04 - samples/sec: 220.99 - lr: 0.000500\n",
            "2023-05-23 12:43:24,431 epoch 18 - iter 84/428 - loss 1.37810132 - time (sec): 6.66 - samples/sec: 201.75 - lr: 0.000500\n",
            "2023-05-23 12:43:27,979 epoch 18 - iter 126/428 - loss 1.39503641 - time (sec): 10.21 - samples/sec: 197.45 - lr: 0.000500\n",
            "2023-05-23 12:43:31,043 epoch 18 - iter 168/428 - loss 1.41495305 - time (sec): 13.27 - samples/sec: 202.51 - lr: 0.000500\n",
            "2023-05-23 12:43:34,068 epoch 18 - iter 210/428 - loss 1.43064558 - time (sec): 16.30 - samples/sec: 206.15 - lr: 0.000500\n",
            "2023-05-23 12:43:37,715 epoch 18 - iter 252/428 - loss 1.45209466 - time (sec): 19.95 - samples/sec: 202.15 - lr: 0.000500\n",
            "2023-05-23 12:43:41,098 epoch 18 - iter 294/428 - loss 1.44983682 - time (sec): 23.33 - samples/sec: 201.64 - lr: 0.000500\n",
            "2023-05-23 12:43:44,329 epoch 18 - iter 336/428 - loss 1.44924709 - time (sec): 26.56 - samples/sec: 202.41 - lr: 0.000500\n",
            "2023-05-23 12:43:47,342 epoch 18 - iter 378/428 - loss 1.43936863 - time (sec): 29.57 - samples/sec: 204.51 - lr: 0.000500\n",
            "2023-05-23 12:43:50,367 epoch 18 - iter 420/428 - loss 1.44617873 - time (sec): 32.60 - samples/sec: 206.15 - lr: 0.000500\n",
            "2023-05-23 12:43:50,920 ----------------------------------------------------------------------------------------------------\n",
            "2023-05-23 12:43:50,922 EPOCH 18 done: loss 1.4446 - lr 0.000500\n"
          ]
        },
        {
          "metadata": {
            "tags": null
          },
          "name": "stderr",
          "output_type": "stream",
          "text": [
            "100%|██████████| 56/56 [00:05<00:00, 10.57it/s]"
          ]
        },
        {
          "metadata": {
            "tags": null
          },
          "name": "stdout",
          "output_type": "stream",
          "text": [
            "2023-05-23 12:43:56,234 Evaluating as a multi-label problem: True\n",
            "2023-05-23 12:43:56,285 DEV : loss 2.106293201446533 - f1-score (micro avg)  0.5674\n"
          ]
        },
        {
          "metadata": {
            "tags": null
          },
          "name": "stderr",
          "output_type": "stream",
          "text": [
            "\n"
          ]
        },
        {
          "output_type": "stream",
          "name": "stdout",
          "text": [
            "2023-05-23 12:43:56,788 BAD EPOCHS (no improvement): 1\n",
            "2023-05-23 12:43:56,791 ----------------------------------------------------------------------------------------------------\n",
            "2023-05-23 12:43:59,818 epoch 19 - iter 42/428 - loss 1.36377330 - time (sec): 3.03 - samples/sec: 222.14 - lr: 0.000500\n",
            "2023-05-23 12:44:02,839 epoch 19 - iter 84/428 - loss 1.42869591 - time (sec): 6.05 - samples/sec: 222.28 - lr: 0.000500\n",
            "2023-05-23 12:44:06,408 epoch 19 - iter 126/428 - loss 1.38814493 - time (sec): 9.62 - samples/sec: 209.66 - lr: 0.000500\n",
            "2023-05-23 12:44:09,846 epoch 19 - iter 168/428 - loss 1.38901966 - time (sec): 13.05 - samples/sec: 205.92 - lr: 0.000500\n",
            "2023-05-23 12:44:12,970 epoch 19 - iter 210/428 - loss 1.38166408 - time (sec): 16.18 - samples/sec: 207.70 - lr: 0.000500\n",
            "2023-05-23 12:44:16,015 epoch 19 - iter 252/428 - loss 1.38455515 - time (sec): 19.22 - samples/sec: 209.75 - lr: 0.000500\n",
            "2023-05-23 12:44:19,622 epoch 19 - iter 294/428 - loss 1.39713035 - time (sec): 22.83 - samples/sec: 206.05 - lr: 0.000500\n",
            "2023-05-23 12:44:22,967 epoch 19 - iter 336/428 - loss 1.40534198 - time (sec): 26.17 - samples/sec: 205.40 - lr: 0.000500\n",
            "2023-05-23 12:44:26,157 epoch 19 - iter 378/428 - loss 1.40261268 - time (sec): 29.36 - samples/sec: 205.97 - lr: 0.000500\n",
            "2023-05-23 12:44:29,135 epoch 19 - iter 420/428 - loss 1.40085820 - time (sec): 32.34 - samples/sec: 207.77 - lr: 0.000500\n",
            "2023-05-23 12:44:29,694 ----------------------------------------------------------------------------------------------------\n",
            "2023-05-23 12:44:29,696 EPOCH 19 done: loss 1.4032 - lr 0.000500\n"
          ]
        },
        {
          "output_type": "stream",
          "name": "stderr",
          "text": [
            "100%|██████████| 56/56 [00:04<00:00, 11.81it/s]"
          ]
        },
        {
          "output_type": "stream",
          "name": "stdout",
          "text": [
            "2023-05-23 12:44:34,454 Evaluating as a multi-label problem: True\n"
          ]
        },
        {
          "output_type": "stream",
          "name": "stderr",
          "text": [
            "\n"
          ]
        },
        {
          "output_type": "stream",
          "name": "stdout",
          "text": [
            "2023-05-23 12:44:34,510 DEV : loss 2.119152069091797 - f1-score (micro avg)  0.551\n",
            "2023-05-23 12:44:34,963 BAD EPOCHS (no improvement): 2\n",
            "2023-05-23 12:44:34,967 ----------------------------------------------------------------------------------------------------\n",
            "2023-05-23 12:44:38,365 epoch 20 - iter 42/428 - loss 1.24780105 - time (sec): 3.40 - samples/sec: 197.90 - lr: 0.000500\n",
            "2023-05-23 12:44:41,365 epoch 20 - iter 84/428 - loss 1.33658324 - time (sec): 6.40 - samples/sec: 210.13 - lr: 0.000500\n",
            "2023-05-23 12:44:44,941 epoch 20 - iter 126/428 - loss 1.36590402 - time (sec): 9.97 - samples/sec: 202.15 - lr: 0.000500\n",
            "2023-05-23 12:44:47,912 epoch 20 - iter 168/428 - loss 1.38877647 - time (sec): 12.94 - samples/sec: 207.68 - lr: 0.000500\n",
            "2023-05-23 12:44:51,377 epoch 20 - iter 210/428 - loss 1.37286587 - time (sec): 16.41 - samples/sec: 204.78 - lr: 0.000500\n",
            "2023-05-23 12:44:54,370 epoch 20 - iter 252/428 - loss 1.36159615 - time (sec): 19.40 - samples/sec: 207.82 - lr: 0.000500\n",
            "2023-05-23 12:44:57,431 epoch 20 - iter 294/428 - loss 1.35601630 - time (sec): 22.46 - samples/sec: 209.42 - lr: 0.000500\n",
            "2023-05-23 12:45:01,082 epoch 20 - iter 336/428 - loss 1.35302318 - time (sec): 26.11 - samples/sec: 205.87 - lr: 0.000500\n",
            "2023-05-23 12:45:04,549 epoch 20 - iter 378/428 - loss 1.37143061 - time (sec): 29.58 - samples/sec: 204.46 - lr: 0.000500\n",
            "2023-05-23 12:45:07,606 epoch 20 - iter 420/428 - loss 1.37142806 - time (sec): 32.64 - samples/sec: 205.90 - lr: 0.000500\n",
            "2023-05-23 12:45:08,168 ----------------------------------------------------------------------------------------------------\n",
            "2023-05-23 12:45:08,170 EPOCH 20 done: loss 1.3759 - lr 0.000500\n"
          ]
        },
        {
          "output_type": "stream",
          "name": "stderr",
          "text": [
            "100%|██████████| 56/56 [00:04<00:00, 13.69it/s]"
          ]
        },
        {
          "output_type": "stream",
          "name": "stdout",
          "text": [
            "2023-05-23 12:45:12,279 Evaluating as a multi-label problem: True\n",
            "2023-05-23 12:45:12,310 DEV : loss 2.159588575363159 - f1-score (micro avg)  0.5461\n"
          ]
        },
        {
          "output_type": "stream",
          "name": "stderr",
          "text": [
            "\n"
          ]
        },
        {
          "output_type": "stream",
          "name": "stdout",
          "text": [
            "2023-05-23 12:45:13,101 BAD EPOCHS (no improvement): 3\n",
            "2023-05-23 12:45:13,104 ----------------------------------------------------------------------------------------------------\n",
            "2023-05-23 12:45:16,441 epoch 21 - iter 42/428 - loss 1.29421930 - time (sec): 3.33 - samples/sec: 201.86 - lr: 0.000500\n",
            "2023-05-23 12:45:19,746 epoch 21 - iter 84/428 - loss 1.31943493 - time (sec): 6.63 - samples/sec: 202.58 - lr: 0.000500\n",
            "2023-05-23 12:45:22,759 epoch 21 - iter 126/428 - loss 1.30429303 - time (sec): 9.65 - samples/sec: 208.97 - lr: 0.000500\n",
            "2023-05-23 12:45:26,372 epoch 21 - iter 168/428 - loss 1.34433825 - time (sec): 13.26 - samples/sec: 202.72 - lr: 0.000500\n",
            "2023-05-23 12:45:29,532 epoch 21 - iter 210/428 - loss 1.35556835 - time (sec): 16.42 - samples/sec: 204.63 - lr: 0.000500\n",
            "2023-05-23 12:45:32,916 epoch 21 - iter 252/428 - loss 1.34930024 - time (sec): 19.80 - samples/sec: 203.60 - lr: 0.000500\n",
            "2023-05-23 12:45:35,952 epoch 21 - iter 294/428 - loss 1.34476739 - time (sec): 22.84 - samples/sec: 205.96 - lr: 0.000500\n",
            "2023-05-23 12:45:38,969 epoch 21 - iter 336/428 - loss 1.34976135 - time (sec): 25.86 - samples/sec: 207.91 - lr: 0.000500\n",
            "2023-05-23 12:45:42,726 epoch 21 - iter 378/428 - loss 1.35216921 - time (sec): 29.61 - samples/sec: 204.23 - lr: 0.000500\n",
            "2023-05-23 12:45:46,189 epoch 21 - iter 420/428 - loss 1.36411186 - time (sec): 33.08 - samples/sec: 203.16 - lr: 0.000500\n",
            "2023-05-23 12:45:46,750 ----------------------------------------------------------------------------------------------------\n",
            "2023-05-23 12:45:46,752 EPOCH 21 done: loss 1.3650 - lr 0.000500\n"
          ]
        },
        {
          "output_type": "stream",
          "name": "stderr",
          "text": [
            "100%|██████████| 56/56 [00:04<00:00, 13.63it/s]"
          ]
        },
        {
          "output_type": "stream",
          "name": "stdout",
          "text": [
            "2023-05-23 12:45:50,873 Evaluating as a multi-label problem: True\n",
            "2023-05-23 12:45:50,906 DEV : loss 2.0870018005371094 - f1-score (micro avg)  0.5654\n"
          ]
        },
        {
          "output_type": "stream",
          "name": "stderr",
          "text": [
            "\n"
          ]
        },
        {
          "output_type": "stream",
          "name": "stdout",
          "text": [
            "2023-05-23 12:45:51,669 Epoch    21: reducing learning rate of group 0 to 2.5000e-04.\n",
            "2023-05-23 12:45:51,673 BAD EPOCHS (no improvement): 4\n",
            "2023-05-23 12:45:51,681 ----------------------------------------------------------------------------------------------------\n",
            "2023-05-23 12:45:54,815 epoch 22 - iter 42/428 - loss 1.27131705 - time (sec): 3.13 - samples/sec: 214.64 - lr: 0.000250\n",
            "2023-05-23 12:45:58,228 epoch 22 - iter 84/428 - loss 1.27449861 - time (sec): 6.54 - samples/sec: 205.39 - lr: 0.000250\n",
            "2023-05-23 12:46:01,401 epoch 22 - iter 126/428 - loss 1.26855700 - time (sec): 9.72 - samples/sec: 207.47 - lr: 0.000250\n",
            "2023-05-23 12:46:04,413 epoch 22 - iter 168/428 - loss 1.25684416 - time (sec): 12.73 - samples/sec: 211.18 - lr: 0.000250\n",
            "2023-05-23 12:46:07,991 epoch 22 - iter 210/428 - loss 1.26252720 - time (sec): 16.31 - samples/sec: 206.05 - lr: 0.000250\n",
            "2023-05-23 12:46:11,253 epoch 22 - iter 252/428 - loss 1.25660905 - time (sec): 19.57 - samples/sec: 206.04 - lr: 0.000250\n",
            "2023-05-23 12:46:14,524 epoch 22 - iter 294/428 - loss 1.25102621 - time (sec): 22.84 - samples/sec: 205.95 - lr: 0.000250\n",
            "2023-05-23 12:46:17,543 epoch 22 - iter 336/428 - loss 1.25232145 - time (sec): 25.86 - samples/sec: 207.90 - lr: 0.000250\n",
            "2023-05-23 12:46:20,587 epoch 22 - iter 378/428 - loss 1.25093398 - time (sec): 28.90 - samples/sec: 209.25 - lr: 0.000250\n",
            "2023-05-23 12:46:24,443 epoch 22 - iter 420/428 - loss 1.25789829 - time (sec): 32.76 - samples/sec: 205.14 - lr: 0.000250\n",
            "2023-05-23 12:46:25,079 ----------------------------------------------------------------------------------------------------\n",
            "2023-05-23 12:46:25,083 EPOCH 22 done: loss 1.2582 - lr 0.000250\n"
          ]
        },
        {
          "output_type": "stream",
          "name": "stderr",
          "text": [
            "100%|██████████| 56/56 [00:04<00:00, 13.00it/s]"
          ]
        },
        {
          "output_type": "stream",
          "name": "stdout",
          "text": [
            "2023-05-23 12:46:29,408 Evaluating as a multi-label problem: True\n",
            "2023-05-23 12:46:29,441 DEV : loss 2.1754400730133057 - f1-score (micro avg)  0.5683\n"
          ]
        },
        {
          "output_type": "stream",
          "name": "stderr",
          "text": [
            "\n"
          ]
        },
        {
          "output_type": "stream",
          "name": "stdout",
          "text": [
            "2023-05-23 12:46:29,716 BAD EPOCHS (no improvement): 1\n",
            "2023-05-23 12:46:29,718 ----------------------------------------------------------------------------------------------------\n",
            "2023-05-23 12:46:33,248 epoch 23 - iter 42/428 - loss 1.17395907 - time (sec): 3.53 - samples/sec: 190.53 - lr: 0.000250\n",
            "2023-05-23 12:46:36,294 epoch 23 - iter 84/428 - loss 1.21230033 - time (sec): 6.57 - samples/sec: 204.47 - lr: 0.000250\n",
            "2023-05-23 12:46:39,754 epoch 23 - iter 126/428 - loss 1.21139878 - time (sec): 10.03 - samples/sec: 200.94 - lr: 0.000250\n",
            "2023-05-23 12:46:42,847 epoch 23 - iter 168/428 - loss 1.20985182 - time (sec): 13.13 - samples/sec: 204.78 - lr: 0.000250\n",
            "2023-05-23 12:46:46,512 epoch 23 - iter 210/428 - loss 1.21611415 - time (sec): 16.79 - samples/sec: 200.10 - lr: 0.000250\n",
            "2023-05-23 12:46:49,485 epoch 23 - iter 252/428 - loss 1.23384307 - time (sec): 19.76 - samples/sec: 204.01 - lr: 0.000250\n",
            "2023-05-23 12:46:52,899 epoch 23 - iter 294/428 - loss 1.24197978 - time (sec): 23.18 - samples/sec: 202.95 - lr: 0.000250\n",
            "2023-05-23 12:46:56,041 epoch 23 - iter 336/428 - loss 1.24825508 - time (sec): 26.32 - samples/sec: 204.26 - lr: 0.000250\n",
            "2023-05-23 12:46:59,013 epoch 23 - iter 378/428 - loss 1.24911294 - time (sec): 29.29 - samples/sec: 206.47 - lr: 0.000250\n",
            "2023-05-23 12:47:02,651 epoch 23 - iter 420/428 - loss 1.24271227 - time (sec): 32.93 - samples/sec: 204.07 - lr: 0.000250\n",
            "2023-05-23 12:47:03,183 ----------------------------------------------------------------------------------------------------\n",
            "2023-05-23 12:47:03,184 EPOCH 23 done: loss 1.2413 - lr 0.000250\n"
          ]
        },
        {
          "output_type": "stream",
          "name": "stderr",
          "text": [
            "100%|██████████| 56/56 [00:04<00:00, 12.15it/s]"
          ]
        },
        {
          "output_type": "stream",
          "name": "stdout",
          "text": [
            "2023-05-23 12:47:07,811 Evaluating as a multi-label problem: True\n",
            "2023-05-23 12:47:07,841 DEV : loss 2.1913187503814697 - f1-score (micro avg)  0.5606\n"
          ]
        },
        {
          "output_type": "stream",
          "name": "stderr",
          "text": [
            "\n"
          ]
        },
        {
          "output_type": "stream",
          "name": "stdout",
          "text": [
            "2023-05-23 12:47:08,109 BAD EPOCHS (no improvement): 2\n",
            "2023-05-23 12:47:08,111 ----------------------------------------------------------------------------------------------------\n",
            "2023-05-23 12:47:11,664 epoch 24 - iter 42/428 - loss 1.15071005 - time (sec): 3.55 - samples/sec: 189.36 - lr: 0.000250\n",
            "2023-05-23 12:47:14,665 epoch 24 - iter 84/428 - loss 1.20289959 - time (sec): 6.55 - samples/sec: 205.18 - lr: 0.000250\n",
            "2023-05-23 12:47:17,722 epoch 24 - iter 126/428 - loss 1.21852847 - time (sec): 9.61 - samples/sec: 209.84 - lr: 0.000250\n",
            "2023-05-23 12:47:21,160 epoch 24 - iter 168/428 - loss 1.20868317 - time (sec): 13.05 - samples/sec: 206.05 - lr: 0.000250\n",
            "2023-05-23 12:47:24,178 epoch 24 - iter 210/428 - loss 1.19575918 - time (sec): 16.06 - samples/sec: 209.17 - lr: 0.000250\n",
            "2023-05-23 12:47:27,792 epoch 24 - iter 252/428 - loss 1.20183222 - time (sec): 19.68 - samples/sec: 204.91 - lr: 0.000250\n",
            "2023-05-23 12:47:30,823 epoch 24 - iter 294/428 - loss 1.20284656 - time (sec): 22.71 - samples/sec: 207.15 - lr: 0.000250\n",
            "2023-05-23 12:47:34,258 epoch 24 - iter 336/428 - loss 1.20651415 - time (sec): 26.14 - samples/sec: 205.63 - lr: 0.000250\n",
            "2023-05-23 12:47:37,304 epoch 24 - iter 378/428 - loss 1.20515231 - time (sec): 29.19 - samples/sec: 207.20 - lr: 0.000250\n",
            "2023-05-23 12:47:40,292 epoch 24 - iter 420/428 - loss 1.20642631 - time (sec): 32.18 - samples/sec: 208.84 - lr: 0.000250\n",
            "2023-05-23 12:47:40,860 ----------------------------------------------------------------------------------------------------\n",
            "2023-05-23 12:47:40,861 EPOCH 24 done: loss 1.2100 - lr 0.000250\n"
          ]
        },
        {
          "output_type": "stream",
          "name": "stderr",
          "text": [
            "100%|██████████| 56/56 [00:04<00:00, 11.64it/s]"
          ]
        },
        {
          "output_type": "stream",
          "name": "stdout",
          "text": [
            "2023-05-23 12:47:45,688 Evaluating as a multi-label problem: True\n",
            "2023-05-23 12:47:45,738 DEV : loss 2.2344441413879395 - f1-score (micro avg)  0.5553\n"
          ]
        },
        {
          "output_type": "stream",
          "name": "stderr",
          "text": [
            "\n"
          ]
        },
        {
          "output_type": "stream",
          "name": "stdout",
          "text": [
            "2023-05-23 12:47:46,216 BAD EPOCHS (no improvement): 3\n",
            "2023-05-23 12:47:46,219 ----------------------------------------------------------------------------------------------------\n",
            "2023-05-23 12:47:49,487 epoch 25 - iter 42/428 - loss 1.27491760 - time (sec): 3.27 - samples/sec: 205.75 - lr: 0.000250\n",
            "2023-05-23 12:47:52,498 epoch 25 - iter 84/428 - loss 1.20959468 - time (sec): 6.28 - samples/sec: 214.11 - lr: 0.000250\n",
            "2023-05-23 12:47:56,085 epoch 25 - iter 126/428 - loss 1.21579155 - time (sec): 9.86 - samples/sec: 204.38 - lr: 0.000250\n",
            "2023-05-23 12:47:59,183 epoch 25 - iter 168/428 - loss 1.23064799 - time (sec): 12.96 - samples/sec: 207.38 - lr: 0.000250\n",
            "2023-05-23 12:48:02,532 epoch 25 - iter 210/428 - loss 1.22945604 - time (sec): 16.31 - samples/sec: 206.00 - lr: 0.000250\n",
            "2023-05-23 12:48:05,577 epoch 25 - iter 252/428 - loss 1.21040737 - time (sec): 19.36 - samples/sec: 208.31 - lr: 0.000250\n",
            "2023-05-23 12:48:08,611 epoch 25 - iter 294/428 - loss 1.21948337 - time (sec): 22.39 - samples/sec: 210.10 - lr: 0.000250\n",
            "2023-05-23 12:48:12,342 epoch 25 - iter 336/428 - loss 1.21681096 - time (sec): 26.12 - samples/sec: 205.81 - lr: 0.000250\n",
            "2023-05-23 12:48:15,774 epoch 25 - iter 378/428 - loss 1.20964919 - time (sec): 29.55 - samples/sec: 204.65 - lr: 0.000250\n",
            "2023-05-23 12:48:18,779 epoch 25 - iter 420/428 - loss 1.20995719 - time (sec): 32.56 - samples/sec: 206.40 - lr: 0.000250\n",
            "2023-05-23 12:48:19,328 ----------------------------------------------------------------------------------------------------\n",
            "2023-05-23 12:48:19,329 EPOCH 25 done: loss 1.2066 - lr 0.000250\n"
          ]
        },
        {
          "output_type": "stream",
          "name": "stderr",
          "text": [
            "100%|██████████| 56/56 [00:04<00:00, 11.75it/s]"
          ]
        },
        {
          "output_type": "stream",
          "name": "stdout",
          "text": [
            "2023-05-23 12:48:24,114 Evaluating as a multi-label problem: True\n",
            "2023-05-23 12:48:24,147 DEV : loss 2.2455615997314453 - f1-score (micro avg)  0.5564\n"
          ]
        },
        {
          "output_type": "stream",
          "name": "stderr",
          "text": [
            "\n"
          ]
        },
        {
          "output_type": "stream",
          "name": "stdout",
          "text": [
            "2023-05-23 12:48:24,423 Epoch    25: reducing learning rate of group 0 to 1.2500e-04.\n",
            "2023-05-23 12:48:24,425 BAD EPOCHS (no improvement): 4\n",
            "2023-05-23 12:48:24,429 ----------------------------------------------------------------------------------------------------\n",
            "2023-05-23 12:48:27,779 epoch 26 - iter 42/428 - loss 1.07435248 - time (sec): 3.35 - samples/sec: 200.66 - lr: 0.000125\n",
            "2023-05-23 12:48:30,940 epoch 26 - iter 84/428 - loss 1.11658505 - time (sec): 6.51 - samples/sec: 206.47 - lr: 0.000125\n",
            "2023-05-23 12:48:33,977 epoch 26 - iter 126/428 - loss 1.12960278 - time (sec): 9.55 - samples/sec: 211.17 - lr: 0.000125\n",
            "2023-05-23 12:48:37,572 epoch 26 - iter 168/428 - loss 1.11982320 - time (sec): 13.14 - samples/sec: 204.54 - lr: 0.000125\n",
            "2023-05-23 12:48:40,881 epoch 26 - iter 210/428 - loss 1.12105509 - time (sec): 16.45 - samples/sec: 204.25 - lr: 0.000125\n",
            "2023-05-23 12:48:44,121 epoch 26 - iter 252/428 - loss 1.12707524 - time (sec): 19.69 - samples/sec: 204.77 - lr: 0.000125\n",
            "2023-05-23 12:48:47,106 epoch 26 - iter 294/428 - loss 1.14421342 - time (sec): 22.68 - samples/sec: 207.45 - lr: 0.000125\n",
            "2023-05-23 12:48:50,724 epoch 26 - iter 336/428 - loss 1.14385646 - time (sec): 26.29 - samples/sec: 204.46 - lr: 0.000125\n",
            "2023-05-23 12:48:53,943 epoch 26 - iter 378/428 - loss 1.14457167 - time (sec): 29.51 - samples/sec: 204.93 - lr: 0.000125\n",
            "2023-05-23 12:48:57,294 epoch 26 - iter 420/428 - loss 1.14799861 - time (sec): 32.86 - samples/sec: 204.48 - lr: 0.000125\n",
            "2023-05-23 12:48:57,853 ----------------------------------------------------------------------------------------------------\n",
            "2023-05-23 12:48:57,854 EPOCH 26 done: loss 1.1470 - lr 0.000125\n"
          ]
        },
        {
          "output_type": "stream",
          "name": "stderr",
          "text": [
            "100%|██████████| 56/56 [00:04<00:00, 13.64it/s]"
          ]
        },
        {
          "output_type": "stream",
          "name": "stdout",
          "text": [
            "2023-05-23 12:49:01,975 Evaluating as a multi-label problem: True\n",
            "2023-05-23 12:49:02,006 DEV : loss 2.2323734760284424 - f1-score (micro avg)  0.5619\n"
          ]
        },
        {
          "output_type": "stream",
          "name": "stderr",
          "text": [
            "\n"
          ]
        },
        {
          "output_type": "stream",
          "name": "stdout",
          "text": [
            "2023-05-23 12:49:02,791 BAD EPOCHS (no improvement): 1\n",
            "2023-05-23 12:49:02,798 ----------------------------------------------------------------------------------------------------\n",
            "2023-05-23 12:49:05,916 epoch 27 - iter 42/428 - loss 1.16829394 - time (sec): 3.12 - samples/sec: 215.69 - lr: 0.000125\n",
            "2023-05-23 12:49:09,381 epoch 27 - iter 84/428 - loss 1.13539895 - time (sec): 6.58 - samples/sec: 204.23 - lr: 0.000125\n",
            "2023-05-23 12:49:12,459 epoch 27 - iter 126/428 - loss 1.11352138 - time (sec): 9.66 - samples/sec: 208.74 - lr: 0.000125\n",
            "2023-05-23 12:49:15,555 epoch 27 - iter 168/428 - loss 1.11926377 - time (sec): 12.75 - samples/sec: 210.75 - lr: 0.000125\n",
            "2023-05-23 12:49:19,196 epoch 27 - iter 210/428 - loss 1.11349876 - time (sec): 16.40 - samples/sec: 204.94 - lr: 0.000125\n",
            "2023-05-23 12:49:22,617 epoch 27 - iter 252/428 - loss 1.11135773 - time (sec): 19.82 - samples/sec: 203.47 - lr: 0.000125\n",
            "2023-05-23 12:49:25,713 epoch 27 - iter 294/428 - loss 1.12990772 - time (sec): 22.91 - samples/sec: 205.31 - lr: 0.000125\n",
            "2023-05-23 12:49:28,757 epoch 27 - iter 336/428 - loss 1.14167045 - time (sec): 25.96 - samples/sec: 207.11 - lr: 0.000125\n",
            "2023-05-23 12:49:32,395 epoch 27 - iter 378/428 - loss 1.13401843 - time (sec): 29.59 - samples/sec: 204.36 - lr: 0.000125\n",
            "2023-05-23 12:49:35,772 epoch 27 - iter 420/428 - loss 1.13755821 - time (sec): 32.97 - samples/sec: 203.81 - lr: 0.000125\n",
            "2023-05-23 12:49:36,401 ----------------------------------------------------------------------------------------------------\n",
            "2023-05-23 12:49:36,404 EPOCH 27 done: loss 1.1368 - lr 0.000125\n"
          ]
        },
        {
          "output_type": "stream",
          "name": "stderr",
          "text": [
            "100%|██████████| 56/56 [00:04<00:00, 13.43it/s]"
          ]
        },
        {
          "output_type": "stream",
          "name": "stdout",
          "text": [
            "2023-05-23 12:49:40,592 Evaluating as a multi-label problem: True\n",
            "2023-05-23 12:49:40,631 DEV : loss 2.2462480068206787 - f1-score (micro avg)  0.5589\n"
          ]
        },
        {
          "output_type": "stream",
          "name": "stderr",
          "text": [
            "\n"
          ]
        },
        {
          "output_type": "stream",
          "name": "stdout",
          "text": [
            "2023-05-23 12:49:40,904 BAD EPOCHS (no improvement): 2\n",
            "2023-05-23 12:49:40,906 ----------------------------------------------------------------------------------------------------\n",
            "2023-05-23 12:49:44,498 epoch 28 - iter 42/428 - loss 1.09621649 - time (sec): 3.59 - samples/sec: 187.20 - lr: 0.000125\n",
            "2023-05-23 12:49:47,626 epoch 28 - iter 84/428 - loss 1.11123014 - time (sec): 6.72 - samples/sec: 200.06 - lr: 0.000125\n",
            "2023-05-23 12:49:51,040 epoch 28 - iter 126/428 - loss 1.10912815 - time (sec): 10.13 - samples/sec: 198.97 - lr: 0.000125\n",
            "2023-05-23 12:49:54,050 epoch 28 - iter 168/428 - loss 1.12080869 - time (sec): 13.14 - samples/sec: 204.54 - lr: 0.000125\n",
            "2023-05-23 12:49:57,640 epoch 28 - iter 210/428 - loss 1.12560749 - time (sec): 16.73 - samples/sec: 200.82 - lr: 0.000125\n",
            "2023-05-23 12:50:00,663 epoch 28 - iter 252/428 - loss 1.13385848 - time (sec): 19.75 - samples/sec: 204.11 - lr: 0.000125\n",
            "2023-05-23 12:50:04,120 epoch 28 - iter 294/428 - loss 1.12708016 - time (sec): 23.21 - samples/sec: 202.65 - lr: 0.000125\n",
            "2023-05-23 12:50:07,113 epoch 28 - iter 336/428 - loss 1.13439465 - time (sec): 26.20 - samples/sec: 205.15 - lr: 0.000125\n",
            "2023-05-23 12:50:10,113 epoch 28 - iter 378/428 - loss 1.12739315 - time (sec): 29.20 - samples/sec: 207.09 - lr: 0.000125\n",
            "2023-05-23 12:50:13,792 epoch 28 - iter 420/428 - loss 1.11701270 - time (sec): 32.88 - samples/sec: 204.36 - lr: 0.000125\n",
            "2023-05-23 12:50:14,415 ----------------------------------------------------------------------------------------------------\n",
            "2023-05-23 12:50:14,422 EPOCH 28 done: loss 1.1132 - lr 0.000125\n"
          ]
        },
        {
          "output_type": "stream",
          "name": "stderr",
          "text": [
            "100%|██████████| 56/56 [00:04<00:00, 12.22it/s]"
          ]
        },
        {
          "output_type": "stream",
          "name": "stdout",
          "text": [
            "2023-05-23 12:50:19,018 Evaluating as a multi-label problem: True\n",
            "2023-05-23 12:50:19,049 DEV : loss 2.3105244636535645 - f1-score (micro avg)  0.552\n"
          ]
        },
        {
          "output_type": "stream",
          "name": "stderr",
          "text": [
            "\n"
          ]
        },
        {
          "output_type": "stream",
          "name": "stdout",
          "text": [
            "2023-05-23 12:50:19,331 BAD EPOCHS (no improvement): 3\n",
            "2023-05-23 12:50:19,333 ----------------------------------------------------------------------------------------------------\n",
            "2023-05-23 12:50:22,375 epoch 29 - iter 42/428 - loss 1.06874142 - time (sec): 3.04 - samples/sec: 221.08 - lr: 0.000125\n",
            "2023-05-23 12:50:25,918 epoch 29 - iter 84/428 - loss 1.09057317 - time (sec): 6.58 - samples/sec: 204.18 - lr: 0.000125\n",
            "2023-05-23 12:50:29,113 epoch 29 - iter 126/428 - loss 1.09201170 - time (sec): 9.78 - samples/sec: 206.18 - lr: 0.000125\n",
            "2023-05-23 12:50:32,422 epoch 29 - iter 168/428 - loss 1.08813491 - time (sec): 13.09 - samples/sec: 205.39 - lr: 0.000125\n",
            "2023-05-23 12:50:35,448 epoch 29 - iter 210/428 - loss 1.09309612 - time (sec): 16.11 - samples/sec: 208.53 - lr: 0.000125\n",
            "2023-05-23 12:50:39,113 epoch 29 - iter 252/428 - loss 1.10451405 - time (sec): 19.78 - samples/sec: 203.86 - lr: 0.000125\n",
            "2023-05-23 12:50:42,267 epoch 29 - iter 294/428 - loss 1.10575512 - time (sec): 22.93 - samples/sec: 205.13 - lr: 0.000125\n",
            "2023-05-23 12:50:45,654 epoch 29 - iter 336/428 - loss 1.09525351 - time (sec): 26.32 - samples/sec: 204.26 - lr: 0.000125\n",
            "2023-05-23 12:50:48,678 epoch 29 - iter 378/428 - loss 1.10325005 - time (sec): 29.34 - samples/sec: 206.11 - lr: 0.000125\n",
            "2023-05-23 12:50:51,680 epoch 29 - iter 420/428 - loss 1.10680784 - time (sec): 32.34 - samples/sec: 207.76 - lr: 0.000125\n",
            "2023-05-23 12:50:52,235 ----------------------------------------------------------------------------------------------------\n",
            "2023-05-23 12:50:52,236 EPOCH 29 done: loss 1.1054 - lr 0.000125\n"
          ]
        },
        {
          "output_type": "stream",
          "name": "stderr",
          "text": [
            "100%|██████████| 56/56 [00:05<00:00, 11.10it/s]"
          ]
        },
        {
          "output_type": "stream",
          "name": "stdout",
          "text": [
            "2023-05-23 12:50:57,300 Evaluating as a multi-label problem: True\n"
          ]
        },
        {
          "output_type": "stream",
          "name": "stderr",
          "text": [
            "\n"
          ]
        },
        {
          "output_type": "stream",
          "name": "stdout",
          "text": [
            "2023-05-23 12:50:57,360 DEV : loss 2.3183412551879883 - f1-score (micro avg)  0.5506\n",
            "2023-05-23 12:50:57,869 Epoch    29: reducing learning rate of group 0 to 6.2500e-05.\n",
            "2023-05-23 12:50:57,875 BAD EPOCHS (no improvement): 4\n",
            "2023-05-23 12:50:57,877 ----------------------------------------------------------------------------------------------------\n",
            "2023-05-23 12:50:57,880 ----------------------------------------------------------------------------------------------------\n",
            "2023-05-23 12:50:57,882 learning rate too small - quitting training!\n",
            "2023-05-23 12:50:57,884 ----------------------------------------------------------------------------------------------------\n",
            "2023-05-23 12:50:57,982 ----------------------------------------------------------------------------------------------------\n"
          ]
        },
        {
          "output_type": "stream",
          "name": "stderr",
          "text": [
            "100%|██████████| 204/204 [00:13<00:00, 15.12it/s]"
          ]
        },
        {
          "output_type": "stream",
          "name": "stdout",
          "text": [
            "2023-05-23 12:51:11,723 Evaluating as a multi-label problem: True\n"
          ]
        },
        {
          "output_type": "stream",
          "name": "stderr",
          "text": [
            "\n"
          ]
        },
        {
          "output_type": "stream",
          "name": "stdout",
          "text": [
            "2023-05-23 12:51:11,851 0.6993\t0.4931\t0.5784\t0.4863\n",
            "2023-05-23 12:51:11,854 \n",
            "Results:\n",
            "- F-score (micro) 0.5784\n",
            "- F-score (macro) 0.2245\n",
            "- Accuracy 0.4863\n",
            "\n",
            "By class:\n",
            "                       precision    recall  f1-score   support\n",
            "\n",
            "       __label__anger     0.7193    0.6624    0.6897      1176\n",
            "         __label__joy     0.7397    0.6483    0.6910      1052\n",
            "__label__anticipation     0.4079    0.0914    0.1494       339\n",
            "        __label__fear     0.6357    0.3787    0.4747       235\n",
            "     __label__disgust     0.2500    0.0102    0.0196       196\n",
            "   __label__pessimism     0.5000    0.1860    0.2712        86\n",
            "     __label__sadness     0.0000    0.0000    0.0000        86\n",
            "    __label__optimism     0.3636    0.1143    0.1739        70\n",
            "        __label__love     0.0000    0.0000    0.0000        14\n",
            "    __label__surprise     0.0000    0.0000    0.0000         4\n",
            "       __label__trust     0.0000    0.0000    0.0000         1\n",
            "\n",
            "            micro avg     0.6993    0.4931    0.5784      3259\n",
            "            macro avg     0.3287    0.1901    0.2245      3259\n",
            "         weighted avg     0.6226    0.4931    0.5338      3259\n",
            "          samples avg     0.4896    0.4931    0.4908      3259\n",
            "\n",
            "2023-05-23 12:51:11,856 ----------------------------------------------------------------------------------------------------\n"
          ]
        },
        {
          "output_type": "execute_result",
          "data": {
            "text/plain": [
              "{'test_score': 0.5783696238977866,\n",
              " 'dev_score_history': [0.381020848310568,\n",
              "  0.45170660856935363,\n",
              "  0.48600883652430044,\n",
              "  0.44588045234248785,\n",
              "  0.5292479108635098,\n",
              "  0.5253648366921474,\n",
              "  0.5257142857142858,\n",
              "  0.5370629370629371,\n",
              "  0.514822848879248,\n",
              "  0.5515358361774745,\n",
              "  0.5651006711409395,\n",
              "  0.5469277515192439,\n",
              "  0.5448323066392882,\n",
              "  0.5620827770360481,\n",
              "  0.546831955922865,\n",
              "  0.5354439091534756,\n",
              "  0.5685752330226365,\n",
              "  0.5674121405750798,\n",
              "  0.5510071474983755,\n",
              "  0.5460526315789475,\n",
              "  0.5653896961690885,\n",
              "  0.5682560418027434,\n",
              "  0.5605670103092784,\n",
              "  0.5553372626064178,\n",
              "  0.5563517915309446,\n",
              "  0.5618556701030929,\n",
              "  0.5588615782664942,\n",
              "  0.5519897304236201,\n",
              "  0.5505761843790012],\n",
              " 'train_loss_history': [2.6792705183874346,\n",
              "  2.335255660240885,\n",
              "  2.1629621679234066,\n",
              "  2.092928094799737,\n",
              "  2.003150710239505,\n",
              "  1.970020895291574,\n",
              "  1.9144010635871362,\n",
              "  1.8842396075072154,\n",
              "  1.8410915942107002,\n",
              "  1.8239836784858179,\n",
              "  1.7693277292343634,\n",
              "  1.7548125390596436,\n",
              "  1.7125222162044198,\n",
              "  1.6889739491221987,\n",
              "  1.643228036334341,\n",
              "  1.542903426377597,\n",
              "  1.5030755611775597,\n",
              "  1.4445881787082822,\n",
              "  1.403186311914266,\n",
              "  1.3758941674378924,\n",
              "  1.3649941986504617,\n",
              "  1.2581813811349325,\n",
              "  1.2413044269407796,\n",
              "  1.2099863759744025,\n",
              "  1.2065559455127386,\n",
              "  1.1469982376081898,\n",
              "  1.1367710681294934,\n",
              "  1.1132237903553688,\n",
              "  1.1053954667952997],\n",
              " 'dev_loss_history': [2.39920711517334,\n",
              "  2.187305212020874,\n",
              "  2.0205698013305664,\n",
              "  2.039571523666382,\n",
              "  1.9613715410232544,\n",
              "  2.008732318878174,\n",
              "  1.9906941652297974,\n",
              "  1.9675838947296143,\n",
              "  1.986078143119812,\n",
              "  1.9659820795059204,\n",
              "  1.963733434677124,\n",
              "  1.9898380041122437,\n",
              "  1.9912744760513306,\n",
              "  1.9482636451721191,\n",
              "  2.04893159866333,\n",
              "  2.030203104019165,\n",
              "  2.0385875701904297,\n",
              "  2.106293201446533,\n",
              "  2.119152069091797,\n",
              "  2.159588575363159,\n",
              "  2.0870018005371094,\n",
              "  2.1754400730133057,\n",
              "  2.1913187503814697,\n",
              "  2.2344441413879395,\n",
              "  2.2455615997314453,\n",
              "  2.2323734760284424,\n",
              "  2.2462480068206787,\n",
              "  2.3105244636535645,\n",
              "  2.3183412551879883]}"
            ]
          },
          "metadata": {},
          "execution_count": 23
        }
      ],
      "source": [
        "# train the model using Adam optimizer\n",
        "import torch\n",
        "trainer.train('data_fst/',\n",
        "              max_epochs=50,\n",
        "              optimizer=torch.optim.Adam,\n",
        "              learning_rate=1.0e-3,\n",
        "              mini_batch_size=16, \n",
        "              )"
      ]
    },
    {
      "cell_type": "markdown",
      "metadata": {
        "id": "UDxY7tZMKxXv"
      },
      "source": [
        "## making predictions"
      ]
    },
    {
      "cell_type": "code",
      "execution_count": null,
      "metadata": {
        "id": "LrwuXBrRFQLN"
      },
      "outputs": [],
      "source": [
        "new_clf = TextClassifier.load('data_fst/best-model.pt')\n",
        "from flair.data import Sentence\n"
      ]
    },
    {
      "cell_type": "code",
      "source": [
        "s1 = Sentence(\"I just finished watching Shrek for the third time! It's the small things in life...\")"
      ],
      "metadata": {
        "id": "s-Ev-QhNqo5g"
      },
      "execution_count": null,
      "outputs": []
    },
    {
      "cell_type": "code",
      "source": [
        "s2 = Sentence(\"I'm really looking forward to moving to Zurich! Can't wait to see some old friends\")"
      ],
      "metadata": {
        "id": "LZUQ-jqSq8kl"
      },
      "execution_count": null,
      "outputs": []
    },
    {
      "cell_type": "code",
      "source": [
        "s3 = Sentence(\"Bruh the current president is a clown\")"
      ],
      "metadata": {
        "id": "t-wAODwJrrZU"
      },
      "execution_count": null,
      "outputs": []
    },
    {
      "cell_type": "code",
      "source": [
        "s4 = Sentence(\"With things as they currently stand, I'm afraid I don't see a future for our kids\")"
      ],
      "metadata": {
        "id": "YVyZ68gUs-Qo"
      },
      "execution_count": null,
      "outputs": []
    },
    {
      "cell_type": "code",
      "source": [
        "sentences = [s1, s2, s3, s4]"
      ],
      "metadata": {
        "id": "6--D_1n3rj9M"
      },
      "execution_count": null,
      "outputs": []
    },
    {
      "cell_type": "code",
      "source": [
        "for s in sentences:\n",
        "  new_clf.predict(s)\n",
        "  print(s.labels)"
      ],
      "metadata": {
        "colab": {
          "base_uri": "https://localhost:8080/"
        },
        "id": "ZD6GYG07rfsy",
        "outputId": "0e430d29-5128-4821-ba63-f946b73f6b1a"
      },
      "execution_count": null,
      "outputs": [
        {
          "output_type": "stream",
          "name": "stdout",
          "text": [
            "['Sentence[18]: \"I just finished watching Shrek for the third time! It's the small things in life...\"'/'__label__joy' (0.6652)]\n",
            "['Sentence[18]: \"I'm really looking forward to moving to Zurich! Can't wait to see some old friends\"'/'__label__anticipation' (0.6501)]\n",
            "['Sentence[7]: \"Bruh the current president is a clown\"'/'__label__anger' (0.7535)]\n",
            "['Sentence[19]: \"With things as they currently stand, I'm afraid I don't see a future for our kids\"'/'__label__fear' (0.7026)]\n"
          ]
        }
      ]
    },
    {
      "cell_type": "code",
      "source": [],
      "metadata": {
        "id": "HFmOwKGwrr-A"
      },
      "execution_count": null,
      "outputs": []
    }
  ],
  "metadata": {
    "colab": {
      "collapsed_sections": [
        "5lsEoTwk-C7m",
        "TbB9GlJW-KOQ",
        "cs3T0aLu-u7p",
        "ZlgPXqdd_Zi0"
      ],
      "provenance": [],
      "gpuType": "T4",
      "include_colab_link": true
    },
    "kernelspec": {
      "display_name": "Python 3",
      "name": "python3"
    },
    "language_info": {
      "name": "python"
    },
    "widgets": {
      "application/vnd.jupyter.widget-state+json": {
        "42559398dacc4b02be1d03b1efb98d0d": {
          "model_module": "@jupyter-widgets/controls",
          "model_name": "HBoxModel",
          "model_module_version": "1.5.0",
          "state": {
            "_dom_classes": [],
            "_model_module": "@jupyter-widgets/controls",
            "_model_module_version": "1.5.0",
            "_model_name": "HBoxModel",
            "_view_count": null,
            "_view_module": "@jupyter-widgets/controls",
            "_view_module_version": "1.5.0",
            "_view_name": "HBoxView",
            "box_style": "",
            "children": [
              "IPY_MODEL_3de274cb9e3c43d296dc68d44e1527a1",
              "IPY_MODEL_07342bdd2a8e44ed8cced2c47759c289",
              "IPY_MODEL_f2ba5e1cb57f401986c8fcdfa22bc466"
            ],
            "layout": "IPY_MODEL_b06db541428e4e1a8a3df5957fdc9f66"
          }
        },
        "3de274cb9e3c43d296dc68d44e1527a1": {
          "model_module": "@jupyter-widgets/controls",
          "model_name": "HTMLModel",
          "model_module_version": "1.5.0",
          "state": {
            "_dom_classes": [],
            "_model_module": "@jupyter-widgets/controls",
            "_model_module_version": "1.5.0",
            "_model_name": "HTMLModel",
            "_view_count": null,
            "_view_module": "@jupyter-widgets/controls",
            "_view_module_version": "1.5.0",
            "_view_name": "HTMLView",
            "description": "",
            "description_tooltip": null,
            "layout": "IPY_MODEL_2873a78ad7824f8f976a440ead748d4c",
            "placeholder": "​",
            "style": "IPY_MODEL_fda5e17324c649f1b3cdb4d273339579",
            "value": "Downloading (…)okenizer_config.json: 100%"
          }
        },
        "07342bdd2a8e44ed8cced2c47759c289": {
          "model_module": "@jupyter-widgets/controls",
          "model_name": "FloatProgressModel",
          "model_module_version": "1.5.0",
          "state": {
            "_dom_classes": [],
            "_model_module": "@jupyter-widgets/controls",
            "_model_module_version": "1.5.0",
            "_model_name": "FloatProgressModel",
            "_view_count": null,
            "_view_module": "@jupyter-widgets/controls",
            "_view_module_version": "1.5.0",
            "_view_name": "ProgressView",
            "bar_style": "success",
            "description": "",
            "description_tooltip": null,
            "layout": "IPY_MODEL_cda277cfc8af4a85b53db14cc6edb8a4",
            "max": 28,
            "min": 0,
            "orientation": "horizontal",
            "style": "IPY_MODEL_8c624957eb8c49589ccc26904f00ca31",
            "value": 28
          }
        },
        "f2ba5e1cb57f401986c8fcdfa22bc466": {
          "model_module": "@jupyter-widgets/controls",
          "model_name": "HTMLModel",
          "model_module_version": "1.5.0",
          "state": {
            "_dom_classes": [],
            "_model_module": "@jupyter-widgets/controls",
            "_model_module_version": "1.5.0",
            "_model_name": "HTMLModel",
            "_view_count": null,
            "_view_module": "@jupyter-widgets/controls",
            "_view_module_version": "1.5.0",
            "_view_name": "HTMLView",
            "description": "",
            "description_tooltip": null,
            "layout": "IPY_MODEL_90c78b2aa08f4b7989032a1ccc7c27e0",
            "placeholder": "​",
            "style": "IPY_MODEL_8f23400e5dad4ccb9838b1f829b33b57",
            "value": " 28.0/28.0 [00:00&lt;00:00, 1.64kB/s]"
          }
        },
        "b06db541428e4e1a8a3df5957fdc9f66": {
          "model_module": "@jupyter-widgets/base",
          "model_name": "LayoutModel",
          "model_module_version": "1.2.0",
          "state": {
            "_model_module": "@jupyter-widgets/base",
            "_model_module_version": "1.2.0",
            "_model_name": "LayoutModel",
            "_view_count": null,
            "_view_module": "@jupyter-widgets/base",
            "_view_module_version": "1.2.0",
            "_view_name": "LayoutView",
            "align_content": null,
            "align_items": null,
            "align_self": null,
            "border": null,
            "bottom": null,
            "display": null,
            "flex": null,
            "flex_flow": null,
            "grid_area": null,
            "grid_auto_columns": null,
            "grid_auto_flow": null,
            "grid_auto_rows": null,
            "grid_column": null,
            "grid_gap": null,
            "grid_row": null,
            "grid_template_areas": null,
            "grid_template_columns": null,
            "grid_template_rows": null,
            "height": null,
            "justify_content": null,
            "justify_items": null,
            "left": null,
            "margin": null,
            "max_height": null,
            "max_width": null,
            "min_height": null,
            "min_width": null,
            "object_fit": null,
            "object_position": null,
            "order": null,
            "overflow": null,
            "overflow_x": null,
            "overflow_y": null,
            "padding": null,
            "right": null,
            "top": null,
            "visibility": null,
            "width": null
          }
        },
        "2873a78ad7824f8f976a440ead748d4c": {
          "model_module": "@jupyter-widgets/base",
          "model_name": "LayoutModel",
          "model_module_version": "1.2.0",
          "state": {
            "_model_module": "@jupyter-widgets/base",
            "_model_module_version": "1.2.0",
            "_model_name": "LayoutModel",
            "_view_count": null,
            "_view_module": "@jupyter-widgets/base",
            "_view_module_version": "1.2.0",
            "_view_name": "LayoutView",
            "align_content": null,
            "align_items": null,
            "align_self": null,
            "border": null,
            "bottom": null,
            "display": null,
            "flex": null,
            "flex_flow": null,
            "grid_area": null,
            "grid_auto_columns": null,
            "grid_auto_flow": null,
            "grid_auto_rows": null,
            "grid_column": null,
            "grid_gap": null,
            "grid_row": null,
            "grid_template_areas": null,
            "grid_template_columns": null,
            "grid_template_rows": null,
            "height": null,
            "justify_content": null,
            "justify_items": null,
            "left": null,
            "margin": null,
            "max_height": null,
            "max_width": null,
            "min_height": null,
            "min_width": null,
            "object_fit": null,
            "object_position": null,
            "order": null,
            "overflow": null,
            "overflow_x": null,
            "overflow_y": null,
            "padding": null,
            "right": null,
            "top": null,
            "visibility": null,
            "width": null
          }
        },
        "fda5e17324c649f1b3cdb4d273339579": {
          "model_module": "@jupyter-widgets/controls",
          "model_name": "DescriptionStyleModel",
          "model_module_version": "1.5.0",
          "state": {
            "_model_module": "@jupyter-widgets/controls",
            "_model_module_version": "1.5.0",
            "_model_name": "DescriptionStyleModel",
            "_view_count": null,
            "_view_module": "@jupyter-widgets/base",
            "_view_module_version": "1.2.0",
            "_view_name": "StyleView",
            "description_width": ""
          }
        },
        "cda277cfc8af4a85b53db14cc6edb8a4": {
          "model_module": "@jupyter-widgets/base",
          "model_name": "LayoutModel",
          "model_module_version": "1.2.0",
          "state": {
            "_model_module": "@jupyter-widgets/base",
            "_model_module_version": "1.2.0",
            "_model_name": "LayoutModel",
            "_view_count": null,
            "_view_module": "@jupyter-widgets/base",
            "_view_module_version": "1.2.0",
            "_view_name": "LayoutView",
            "align_content": null,
            "align_items": null,
            "align_self": null,
            "border": null,
            "bottom": null,
            "display": null,
            "flex": null,
            "flex_flow": null,
            "grid_area": null,
            "grid_auto_columns": null,
            "grid_auto_flow": null,
            "grid_auto_rows": null,
            "grid_column": null,
            "grid_gap": null,
            "grid_row": null,
            "grid_template_areas": null,
            "grid_template_columns": null,
            "grid_template_rows": null,
            "height": null,
            "justify_content": null,
            "justify_items": null,
            "left": null,
            "margin": null,
            "max_height": null,
            "max_width": null,
            "min_height": null,
            "min_width": null,
            "object_fit": null,
            "object_position": null,
            "order": null,
            "overflow": null,
            "overflow_x": null,
            "overflow_y": null,
            "padding": null,
            "right": null,
            "top": null,
            "visibility": null,
            "width": null
          }
        },
        "8c624957eb8c49589ccc26904f00ca31": {
          "model_module": "@jupyter-widgets/controls",
          "model_name": "ProgressStyleModel",
          "model_module_version": "1.5.0",
          "state": {
            "_model_module": "@jupyter-widgets/controls",
            "_model_module_version": "1.5.0",
            "_model_name": "ProgressStyleModel",
            "_view_count": null,
            "_view_module": "@jupyter-widgets/base",
            "_view_module_version": "1.2.0",
            "_view_name": "StyleView",
            "bar_color": null,
            "description_width": ""
          }
        },
        "90c78b2aa08f4b7989032a1ccc7c27e0": {
          "model_module": "@jupyter-widgets/base",
          "model_name": "LayoutModel",
          "model_module_version": "1.2.0",
          "state": {
            "_model_module": "@jupyter-widgets/base",
            "_model_module_version": "1.2.0",
            "_model_name": "LayoutModel",
            "_view_count": null,
            "_view_module": "@jupyter-widgets/base",
            "_view_module_version": "1.2.0",
            "_view_name": "LayoutView",
            "align_content": null,
            "align_items": null,
            "align_self": null,
            "border": null,
            "bottom": null,
            "display": null,
            "flex": null,
            "flex_flow": null,
            "grid_area": null,
            "grid_auto_columns": null,
            "grid_auto_flow": null,
            "grid_auto_rows": null,
            "grid_column": null,
            "grid_gap": null,
            "grid_row": null,
            "grid_template_areas": null,
            "grid_template_columns": null,
            "grid_template_rows": null,
            "height": null,
            "justify_content": null,
            "justify_items": null,
            "left": null,
            "margin": null,
            "max_height": null,
            "max_width": null,
            "min_height": null,
            "min_width": null,
            "object_fit": null,
            "object_position": null,
            "order": null,
            "overflow": null,
            "overflow_x": null,
            "overflow_y": null,
            "padding": null,
            "right": null,
            "top": null,
            "visibility": null,
            "width": null
          }
        },
        "8f23400e5dad4ccb9838b1f829b33b57": {
          "model_module": "@jupyter-widgets/controls",
          "model_name": "DescriptionStyleModel",
          "model_module_version": "1.5.0",
          "state": {
            "_model_module": "@jupyter-widgets/controls",
            "_model_module_version": "1.5.0",
            "_model_name": "DescriptionStyleModel",
            "_view_count": null,
            "_view_module": "@jupyter-widgets/base",
            "_view_module_version": "1.2.0",
            "_view_name": "StyleView",
            "description_width": ""
          }
        },
        "4fac0bd829a643fc8125af0fc435a77c": {
          "model_module": "@jupyter-widgets/controls",
          "model_name": "HBoxModel",
          "model_module_version": "1.5.0",
          "state": {
            "_dom_classes": [],
            "_model_module": "@jupyter-widgets/controls",
            "_model_module_version": "1.5.0",
            "_model_name": "HBoxModel",
            "_view_count": null,
            "_view_module": "@jupyter-widgets/controls",
            "_view_module_version": "1.5.0",
            "_view_name": "HBoxView",
            "box_style": "",
            "children": [
              "IPY_MODEL_5629f7d643404c77b48d89965f0a2e59",
              "IPY_MODEL_13fb3436513a4b949f799c749a62cb27",
              "IPY_MODEL_636554ce1c0e4804b367e4f6568bfa07"
            ],
            "layout": "IPY_MODEL_87fafc865e144c9f839ae18f2bb058a8"
          }
        },
        "5629f7d643404c77b48d89965f0a2e59": {
          "model_module": "@jupyter-widgets/controls",
          "model_name": "HTMLModel",
          "model_module_version": "1.5.0",
          "state": {
            "_dom_classes": [],
            "_model_module": "@jupyter-widgets/controls",
            "_model_module_version": "1.5.0",
            "_model_name": "HTMLModel",
            "_view_count": null,
            "_view_module": "@jupyter-widgets/controls",
            "_view_module_version": "1.5.0",
            "_view_name": "HTMLView",
            "description": "",
            "description_tooltip": null,
            "layout": "IPY_MODEL_46bc8501b5914d9aa1d6f924033ed016",
            "placeholder": "​",
            "style": "IPY_MODEL_b04d168216974c01902fe2362d675059",
            "value": "Downloading (…)lve/main/config.json: 100%"
          }
        },
        "13fb3436513a4b949f799c749a62cb27": {
          "model_module": "@jupyter-widgets/controls",
          "model_name": "FloatProgressModel",
          "model_module_version": "1.5.0",
          "state": {
            "_dom_classes": [],
            "_model_module": "@jupyter-widgets/controls",
            "_model_module_version": "1.5.0",
            "_model_name": "FloatProgressModel",
            "_view_count": null,
            "_view_module": "@jupyter-widgets/controls",
            "_view_module_version": "1.5.0",
            "_view_name": "ProgressView",
            "bar_style": "success",
            "description": "",
            "description_tooltip": null,
            "layout": "IPY_MODEL_ca79ed144f824d30966d6d0e0528961c",
            "max": 483,
            "min": 0,
            "orientation": "horizontal",
            "style": "IPY_MODEL_9ecbb6f5e9ab4ae0b3747c1ff342c74e",
            "value": 483
          }
        },
        "636554ce1c0e4804b367e4f6568bfa07": {
          "model_module": "@jupyter-widgets/controls",
          "model_name": "HTMLModel",
          "model_module_version": "1.5.0",
          "state": {
            "_dom_classes": [],
            "_model_module": "@jupyter-widgets/controls",
            "_model_module_version": "1.5.0",
            "_model_name": "HTMLModel",
            "_view_count": null,
            "_view_module": "@jupyter-widgets/controls",
            "_view_module_version": "1.5.0",
            "_view_name": "HTMLView",
            "description": "",
            "description_tooltip": null,
            "layout": "IPY_MODEL_b615103ee3ad4ecd84d257a4989a314a",
            "placeholder": "​",
            "style": "IPY_MODEL_db9edc4aedb44561af1f196095e7dde2",
            "value": " 483/483 [00:00&lt;00:00, 37.4kB/s]"
          }
        },
        "87fafc865e144c9f839ae18f2bb058a8": {
          "model_module": "@jupyter-widgets/base",
          "model_name": "LayoutModel",
          "model_module_version": "1.2.0",
          "state": {
            "_model_module": "@jupyter-widgets/base",
            "_model_module_version": "1.2.0",
            "_model_name": "LayoutModel",
            "_view_count": null,
            "_view_module": "@jupyter-widgets/base",
            "_view_module_version": "1.2.0",
            "_view_name": "LayoutView",
            "align_content": null,
            "align_items": null,
            "align_self": null,
            "border": null,
            "bottom": null,
            "display": null,
            "flex": null,
            "flex_flow": null,
            "grid_area": null,
            "grid_auto_columns": null,
            "grid_auto_flow": null,
            "grid_auto_rows": null,
            "grid_column": null,
            "grid_gap": null,
            "grid_row": null,
            "grid_template_areas": null,
            "grid_template_columns": null,
            "grid_template_rows": null,
            "height": null,
            "justify_content": null,
            "justify_items": null,
            "left": null,
            "margin": null,
            "max_height": null,
            "max_width": null,
            "min_height": null,
            "min_width": null,
            "object_fit": null,
            "object_position": null,
            "order": null,
            "overflow": null,
            "overflow_x": null,
            "overflow_y": null,
            "padding": null,
            "right": null,
            "top": null,
            "visibility": null,
            "width": null
          }
        },
        "46bc8501b5914d9aa1d6f924033ed016": {
          "model_module": "@jupyter-widgets/base",
          "model_name": "LayoutModel",
          "model_module_version": "1.2.0",
          "state": {
            "_model_module": "@jupyter-widgets/base",
            "_model_module_version": "1.2.0",
            "_model_name": "LayoutModel",
            "_view_count": null,
            "_view_module": "@jupyter-widgets/base",
            "_view_module_version": "1.2.0",
            "_view_name": "LayoutView",
            "align_content": null,
            "align_items": null,
            "align_self": null,
            "border": null,
            "bottom": null,
            "display": null,
            "flex": null,
            "flex_flow": null,
            "grid_area": null,
            "grid_auto_columns": null,
            "grid_auto_flow": null,
            "grid_auto_rows": null,
            "grid_column": null,
            "grid_gap": null,
            "grid_row": null,
            "grid_template_areas": null,
            "grid_template_columns": null,
            "grid_template_rows": null,
            "height": null,
            "justify_content": null,
            "justify_items": null,
            "left": null,
            "margin": null,
            "max_height": null,
            "max_width": null,
            "min_height": null,
            "min_width": null,
            "object_fit": null,
            "object_position": null,
            "order": null,
            "overflow": null,
            "overflow_x": null,
            "overflow_y": null,
            "padding": null,
            "right": null,
            "top": null,
            "visibility": null,
            "width": null
          }
        },
        "b04d168216974c01902fe2362d675059": {
          "model_module": "@jupyter-widgets/controls",
          "model_name": "DescriptionStyleModel",
          "model_module_version": "1.5.0",
          "state": {
            "_model_module": "@jupyter-widgets/controls",
            "_model_module_version": "1.5.0",
            "_model_name": "DescriptionStyleModel",
            "_view_count": null,
            "_view_module": "@jupyter-widgets/base",
            "_view_module_version": "1.2.0",
            "_view_name": "StyleView",
            "description_width": ""
          }
        },
        "ca79ed144f824d30966d6d0e0528961c": {
          "model_module": "@jupyter-widgets/base",
          "model_name": "LayoutModel",
          "model_module_version": "1.2.0",
          "state": {
            "_model_module": "@jupyter-widgets/base",
            "_model_module_version": "1.2.0",
            "_model_name": "LayoutModel",
            "_view_count": null,
            "_view_module": "@jupyter-widgets/base",
            "_view_module_version": "1.2.0",
            "_view_name": "LayoutView",
            "align_content": null,
            "align_items": null,
            "align_self": null,
            "border": null,
            "bottom": null,
            "display": null,
            "flex": null,
            "flex_flow": null,
            "grid_area": null,
            "grid_auto_columns": null,
            "grid_auto_flow": null,
            "grid_auto_rows": null,
            "grid_column": null,
            "grid_gap": null,
            "grid_row": null,
            "grid_template_areas": null,
            "grid_template_columns": null,
            "grid_template_rows": null,
            "height": null,
            "justify_content": null,
            "justify_items": null,
            "left": null,
            "margin": null,
            "max_height": null,
            "max_width": null,
            "min_height": null,
            "min_width": null,
            "object_fit": null,
            "object_position": null,
            "order": null,
            "overflow": null,
            "overflow_x": null,
            "overflow_y": null,
            "padding": null,
            "right": null,
            "top": null,
            "visibility": null,
            "width": null
          }
        },
        "9ecbb6f5e9ab4ae0b3747c1ff342c74e": {
          "model_module": "@jupyter-widgets/controls",
          "model_name": "ProgressStyleModel",
          "model_module_version": "1.5.0",
          "state": {
            "_model_module": "@jupyter-widgets/controls",
            "_model_module_version": "1.5.0",
            "_model_name": "ProgressStyleModel",
            "_view_count": null,
            "_view_module": "@jupyter-widgets/base",
            "_view_module_version": "1.2.0",
            "_view_name": "StyleView",
            "bar_color": null,
            "description_width": ""
          }
        },
        "b615103ee3ad4ecd84d257a4989a314a": {
          "model_module": "@jupyter-widgets/base",
          "model_name": "LayoutModel",
          "model_module_version": "1.2.0",
          "state": {
            "_model_module": "@jupyter-widgets/base",
            "_model_module_version": "1.2.0",
            "_model_name": "LayoutModel",
            "_view_count": null,
            "_view_module": "@jupyter-widgets/base",
            "_view_module_version": "1.2.0",
            "_view_name": "LayoutView",
            "align_content": null,
            "align_items": null,
            "align_self": null,
            "border": null,
            "bottom": null,
            "display": null,
            "flex": null,
            "flex_flow": null,
            "grid_area": null,
            "grid_auto_columns": null,
            "grid_auto_flow": null,
            "grid_auto_rows": null,
            "grid_column": null,
            "grid_gap": null,
            "grid_row": null,
            "grid_template_areas": null,
            "grid_template_columns": null,
            "grid_template_rows": null,
            "height": null,
            "justify_content": null,
            "justify_items": null,
            "left": null,
            "margin": null,
            "max_height": null,
            "max_width": null,
            "min_height": null,
            "min_width": null,
            "object_fit": null,
            "object_position": null,
            "order": null,
            "overflow": null,
            "overflow_x": null,
            "overflow_y": null,
            "padding": null,
            "right": null,
            "top": null,
            "visibility": null,
            "width": null
          }
        },
        "db9edc4aedb44561af1f196095e7dde2": {
          "model_module": "@jupyter-widgets/controls",
          "model_name": "DescriptionStyleModel",
          "model_module_version": "1.5.0",
          "state": {
            "_model_module": "@jupyter-widgets/controls",
            "_model_module_version": "1.5.0",
            "_model_name": "DescriptionStyleModel",
            "_view_count": null,
            "_view_module": "@jupyter-widgets/base",
            "_view_module_version": "1.2.0",
            "_view_name": "StyleView",
            "description_width": ""
          }
        },
        "321bcc6fde6741819e191bdc039f5da7": {
          "model_module": "@jupyter-widgets/controls",
          "model_name": "HBoxModel",
          "model_module_version": "1.5.0",
          "state": {
            "_dom_classes": [],
            "_model_module": "@jupyter-widgets/controls",
            "_model_module_version": "1.5.0",
            "_model_name": "HBoxModel",
            "_view_count": null,
            "_view_module": "@jupyter-widgets/controls",
            "_view_module_version": "1.5.0",
            "_view_name": "HBoxView",
            "box_style": "",
            "children": [
              "IPY_MODEL_b757c870327f4f6186defc5474d3e563",
              "IPY_MODEL_ab09fa5aaa524431bfb09fdfe304b402",
              "IPY_MODEL_8804ff6104224513b688f98c71fad93e"
            ],
            "layout": "IPY_MODEL_a0640463c7ec4c38b01918489627d682"
          }
        },
        "b757c870327f4f6186defc5474d3e563": {
          "model_module": "@jupyter-widgets/controls",
          "model_name": "HTMLModel",
          "model_module_version": "1.5.0",
          "state": {
            "_dom_classes": [],
            "_model_module": "@jupyter-widgets/controls",
            "_model_module_version": "1.5.0",
            "_model_name": "HTMLModel",
            "_view_count": null,
            "_view_module": "@jupyter-widgets/controls",
            "_view_module_version": "1.5.0",
            "_view_name": "HTMLView",
            "description": "",
            "description_tooltip": null,
            "layout": "IPY_MODEL_5ea334eed17f4a21a44acd17477f7811",
            "placeholder": "​",
            "style": "IPY_MODEL_5d3c94809f3f4cd59eb4aa3b939e00d2",
            "value": "Downloading (…)solve/main/vocab.txt: 100%"
          }
        },
        "ab09fa5aaa524431bfb09fdfe304b402": {
          "model_module": "@jupyter-widgets/controls",
          "model_name": "FloatProgressModel",
          "model_module_version": "1.5.0",
          "state": {
            "_dom_classes": [],
            "_model_module": "@jupyter-widgets/controls",
            "_model_module_version": "1.5.0",
            "_model_name": "FloatProgressModel",
            "_view_count": null,
            "_view_module": "@jupyter-widgets/controls",
            "_view_module_version": "1.5.0",
            "_view_name": "ProgressView",
            "bar_style": "success",
            "description": "",
            "description_tooltip": null,
            "layout": "IPY_MODEL_281cc015fc4f4c60842529bba667ea5d",
            "max": 231508,
            "min": 0,
            "orientation": "horizontal",
            "style": "IPY_MODEL_5b85e596cfa84e66b3fea8836538cd2c",
            "value": 231508
          }
        },
        "8804ff6104224513b688f98c71fad93e": {
          "model_module": "@jupyter-widgets/controls",
          "model_name": "HTMLModel",
          "model_module_version": "1.5.0",
          "state": {
            "_dom_classes": [],
            "_model_module": "@jupyter-widgets/controls",
            "_model_module_version": "1.5.0",
            "_model_name": "HTMLModel",
            "_view_count": null,
            "_view_module": "@jupyter-widgets/controls",
            "_view_module_version": "1.5.0",
            "_view_name": "HTMLView",
            "description": "",
            "description_tooltip": null,
            "layout": "IPY_MODEL_20bcbc05814148a0b2f3ce76bd2c3463",
            "placeholder": "​",
            "style": "IPY_MODEL_b5ef828eb30f4997b48d1896a9ac244b",
            "value": " 232k/232k [00:00&lt;00:00, 4.67MB/s]"
          }
        },
        "a0640463c7ec4c38b01918489627d682": {
          "model_module": "@jupyter-widgets/base",
          "model_name": "LayoutModel",
          "model_module_version": "1.2.0",
          "state": {
            "_model_module": "@jupyter-widgets/base",
            "_model_module_version": "1.2.0",
            "_model_name": "LayoutModel",
            "_view_count": null,
            "_view_module": "@jupyter-widgets/base",
            "_view_module_version": "1.2.0",
            "_view_name": "LayoutView",
            "align_content": null,
            "align_items": null,
            "align_self": null,
            "border": null,
            "bottom": null,
            "display": null,
            "flex": null,
            "flex_flow": null,
            "grid_area": null,
            "grid_auto_columns": null,
            "grid_auto_flow": null,
            "grid_auto_rows": null,
            "grid_column": null,
            "grid_gap": null,
            "grid_row": null,
            "grid_template_areas": null,
            "grid_template_columns": null,
            "grid_template_rows": null,
            "height": null,
            "justify_content": null,
            "justify_items": null,
            "left": null,
            "margin": null,
            "max_height": null,
            "max_width": null,
            "min_height": null,
            "min_width": null,
            "object_fit": null,
            "object_position": null,
            "order": null,
            "overflow": null,
            "overflow_x": null,
            "overflow_y": null,
            "padding": null,
            "right": null,
            "top": null,
            "visibility": null,
            "width": null
          }
        },
        "5ea334eed17f4a21a44acd17477f7811": {
          "model_module": "@jupyter-widgets/base",
          "model_name": "LayoutModel",
          "model_module_version": "1.2.0",
          "state": {
            "_model_module": "@jupyter-widgets/base",
            "_model_module_version": "1.2.0",
            "_model_name": "LayoutModel",
            "_view_count": null,
            "_view_module": "@jupyter-widgets/base",
            "_view_module_version": "1.2.0",
            "_view_name": "LayoutView",
            "align_content": null,
            "align_items": null,
            "align_self": null,
            "border": null,
            "bottom": null,
            "display": null,
            "flex": null,
            "flex_flow": null,
            "grid_area": null,
            "grid_auto_columns": null,
            "grid_auto_flow": null,
            "grid_auto_rows": null,
            "grid_column": null,
            "grid_gap": null,
            "grid_row": null,
            "grid_template_areas": null,
            "grid_template_columns": null,
            "grid_template_rows": null,
            "height": null,
            "justify_content": null,
            "justify_items": null,
            "left": null,
            "margin": null,
            "max_height": null,
            "max_width": null,
            "min_height": null,
            "min_width": null,
            "object_fit": null,
            "object_position": null,
            "order": null,
            "overflow": null,
            "overflow_x": null,
            "overflow_y": null,
            "padding": null,
            "right": null,
            "top": null,
            "visibility": null,
            "width": null
          }
        },
        "5d3c94809f3f4cd59eb4aa3b939e00d2": {
          "model_module": "@jupyter-widgets/controls",
          "model_name": "DescriptionStyleModel",
          "model_module_version": "1.5.0",
          "state": {
            "_model_module": "@jupyter-widgets/controls",
            "_model_module_version": "1.5.0",
            "_model_name": "DescriptionStyleModel",
            "_view_count": null,
            "_view_module": "@jupyter-widgets/base",
            "_view_module_version": "1.2.0",
            "_view_name": "StyleView",
            "description_width": ""
          }
        },
        "281cc015fc4f4c60842529bba667ea5d": {
          "model_module": "@jupyter-widgets/base",
          "model_name": "LayoutModel",
          "model_module_version": "1.2.0",
          "state": {
            "_model_module": "@jupyter-widgets/base",
            "_model_module_version": "1.2.0",
            "_model_name": "LayoutModel",
            "_view_count": null,
            "_view_module": "@jupyter-widgets/base",
            "_view_module_version": "1.2.0",
            "_view_name": "LayoutView",
            "align_content": null,
            "align_items": null,
            "align_self": null,
            "border": null,
            "bottom": null,
            "display": null,
            "flex": null,
            "flex_flow": null,
            "grid_area": null,
            "grid_auto_columns": null,
            "grid_auto_flow": null,
            "grid_auto_rows": null,
            "grid_column": null,
            "grid_gap": null,
            "grid_row": null,
            "grid_template_areas": null,
            "grid_template_columns": null,
            "grid_template_rows": null,
            "height": null,
            "justify_content": null,
            "justify_items": null,
            "left": null,
            "margin": null,
            "max_height": null,
            "max_width": null,
            "min_height": null,
            "min_width": null,
            "object_fit": null,
            "object_position": null,
            "order": null,
            "overflow": null,
            "overflow_x": null,
            "overflow_y": null,
            "padding": null,
            "right": null,
            "top": null,
            "visibility": null,
            "width": null
          }
        },
        "5b85e596cfa84e66b3fea8836538cd2c": {
          "model_module": "@jupyter-widgets/controls",
          "model_name": "ProgressStyleModel",
          "model_module_version": "1.5.0",
          "state": {
            "_model_module": "@jupyter-widgets/controls",
            "_model_module_version": "1.5.0",
            "_model_name": "ProgressStyleModel",
            "_view_count": null,
            "_view_module": "@jupyter-widgets/base",
            "_view_module_version": "1.2.0",
            "_view_name": "StyleView",
            "bar_color": null,
            "description_width": ""
          }
        },
        "20bcbc05814148a0b2f3ce76bd2c3463": {
          "model_module": "@jupyter-widgets/base",
          "model_name": "LayoutModel",
          "model_module_version": "1.2.0",
          "state": {
            "_model_module": "@jupyter-widgets/base",
            "_model_module_version": "1.2.0",
            "_model_name": "LayoutModel",
            "_view_count": null,
            "_view_module": "@jupyter-widgets/base",
            "_view_module_version": "1.2.0",
            "_view_name": "LayoutView",
            "align_content": null,
            "align_items": null,
            "align_self": null,
            "border": null,
            "bottom": null,
            "display": null,
            "flex": null,
            "flex_flow": null,
            "grid_area": null,
            "grid_auto_columns": null,
            "grid_auto_flow": null,
            "grid_auto_rows": null,
            "grid_column": null,
            "grid_gap": null,
            "grid_row": null,
            "grid_template_areas": null,
            "grid_template_columns": null,
            "grid_template_rows": null,
            "height": null,
            "justify_content": null,
            "justify_items": null,
            "left": null,
            "margin": null,
            "max_height": null,
            "max_width": null,
            "min_height": null,
            "min_width": null,
            "object_fit": null,
            "object_position": null,
            "order": null,
            "overflow": null,
            "overflow_x": null,
            "overflow_y": null,
            "padding": null,
            "right": null,
            "top": null,
            "visibility": null,
            "width": null
          }
        },
        "b5ef828eb30f4997b48d1896a9ac244b": {
          "model_module": "@jupyter-widgets/controls",
          "model_name": "DescriptionStyleModel",
          "model_module_version": "1.5.0",
          "state": {
            "_model_module": "@jupyter-widgets/controls",
            "_model_module_version": "1.5.0",
            "_model_name": "DescriptionStyleModel",
            "_view_count": null,
            "_view_module": "@jupyter-widgets/base",
            "_view_module_version": "1.2.0",
            "_view_name": "StyleView",
            "description_width": ""
          }
        },
        "d3059be6494540249aa7e534e804c31e": {
          "model_module": "@jupyter-widgets/controls",
          "model_name": "HBoxModel",
          "model_module_version": "1.5.0",
          "state": {
            "_dom_classes": [],
            "_model_module": "@jupyter-widgets/controls",
            "_model_module_version": "1.5.0",
            "_model_name": "HBoxModel",
            "_view_count": null,
            "_view_module": "@jupyter-widgets/controls",
            "_view_module_version": "1.5.0",
            "_view_name": "HBoxView",
            "box_style": "",
            "children": [
              "IPY_MODEL_144fca85ed4a492b84035108803ae470",
              "IPY_MODEL_15377394f08248c881acc99ae8493d90",
              "IPY_MODEL_b879ad8177244289beb982bc4352425c"
            ],
            "layout": "IPY_MODEL_8bd3d3edc7de4596b186069ae60f723d"
          }
        },
        "144fca85ed4a492b84035108803ae470": {
          "model_module": "@jupyter-widgets/controls",
          "model_name": "HTMLModel",
          "model_module_version": "1.5.0",
          "state": {
            "_dom_classes": [],
            "_model_module": "@jupyter-widgets/controls",
            "_model_module_version": "1.5.0",
            "_model_name": "HTMLModel",
            "_view_count": null,
            "_view_module": "@jupyter-widgets/controls",
            "_view_module_version": "1.5.0",
            "_view_name": "HTMLView",
            "description": "",
            "description_tooltip": null,
            "layout": "IPY_MODEL_137f8c203b9a41b3811e0ffbe32a0959",
            "placeholder": "​",
            "style": "IPY_MODEL_30f449b61d404a4ca6975137e0938340",
            "value": "Downloading (…)/main/tokenizer.json: 100%"
          }
        },
        "15377394f08248c881acc99ae8493d90": {
          "model_module": "@jupyter-widgets/controls",
          "model_name": "FloatProgressModel",
          "model_module_version": "1.5.0",
          "state": {
            "_dom_classes": [],
            "_model_module": "@jupyter-widgets/controls",
            "_model_module_version": "1.5.0",
            "_model_name": "FloatProgressModel",
            "_view_count": null,
            "_view_module": "@jupyter-widgets/controls",
            "_view_module_version": "1.5.0",
            "_view_name": "ProgressView",
            "bar_style": "success",
            "description": "",
            "description_tooltip": null,
            "layout": "IPY_MODEL_e216bdaaff3743d38eb30afe1be11613",
            "max": 466062,
            "min": 0,
            "orientation": "horizontal",
            "style": "IPY_MODEL_c2d9699e49be4974bf3704d4497d1324",
            "value": 466062
          }
        },
        "b879ad8177244289beb982bc4352425c": {
          "model_module": "@jupyter-widgets/controls",
          "model_name": "HTMLModel",
          "model_module_version": "1.5.0",
          "state": {
            "_dom_classes": [],
            "_model_module": "@jupyter-widgets/controls",
            "_model_module_version": "1.5.0",
            "_model_name": "HTMLModel",
            "_view_count": null,
            "_view_module": "@jupyter-widgets/controls",
            "_view_module_version": "1.5.0",
            "_view_name": "HTMLView",
            "description": "",
            "description_tooltip": null,
            "layout": "IPY_MODEL_439a2f6a9acd4611bbd0cde7134ee95c",
            "placeholder": "​",
            "style": "IPY_MODEL_f0fe31ba10744042aabcde87046f10b9",
            "value": " 466k/466k [00:00&lt;00:00, 6.80MB/s]"
          }
        },
        "8bd3d3edc7de4596b186069ae60f723d": {
          "model_module": "@jupyter-widgets/base",
          "model_name": "LayoutModel",
          "model_module_version": "1.2.0",
          "state": {
            "_model_module": "@jupyter-widgets/base",
            "_model_module_version": "1.2.0",
            "_model_name": "LayoutModel",
            "_view_count": null,
            "_view_module": "@jupyter-widgets/base",
            "_view_module_version": "1.2.0",
            "_view_name": "LayoutView",
            "align_content": null,
            "align_items": null,
            "align_self": null,
            "border": null,
            "bottom": null,
            "display": null,
            "flex": null,
            "flex_flow": null,
            "grid_area": null,
            "grid_auto_columns": null,
            "grid_auto_flow": null,
            "grid_auto_rows": null,
            "grid_column": null,
            "grid_gap": null,
            "grid_row": null,
            "grid_template_areas": null,
            "grid_template_columns": null,
            "grid_template_rows": null,
            "height": null,
            "justify_content": null,
            "justify_items": null,
            "left": null,
            "margin": null,
            "max_height": null,
            "max_width": null,
            "min_height": null,
            "min_width": null,
            "object_fit": null,
            "object_position": null,
            "order": null,
            "overflow": null,
            "overflow_x": null,
            "overflow_y": null,
            "padding": null,
            "right": null,
            "top": null,
            "visibility": null,
            "width": null
          }
        },
        "137f8c203b9a41b3811e0ffbe32a0959": {
          "model_module": "@jupyter-widgets/base",
          "model_name": "LayoutModel",
          "model_module_version": "1.2.0",
          "state": {
            "_model_module": "@jupyter-widgets/base",
            "_model_module_version": "1.2.0",
            "_model_name": "LayoutModel",
            "_view_count": null,
            "_view_module": "@jupyter-widgets/base",
            "_view_module_version": "1.2.0",
            "_view_name": "LayoutView",
            "align_content": null,
            "align_items": null,
            "align_self": null,
            "border": null,
            "bottom": null,
            "display": null,
            "flex": null,
            "flex_flow": null,
            "grid_area": null,
            "grid_auto_columns": null,
            "grid_auto_flow": null,
            "grid_auto_rows": null,
            "grid_column": null,
            "grid_gap": null,
            "grid_row": null,
            "grid_template_areas": null,
            "grid_template_columns": null,
            "grid_template_rows": null,
            "height": null,
            "justify_content": null,
            "justify_items": null,
            "left": null,
            "margin": null,
            "max_height": null,
            "max_width": null,
            "min_height": null,
            "min_width": null,
            "object_fit": null,
            "object_position": null,
            "order": null,
            "overflow": null,
            "overflow_x": null,
            "overflow_y": null,
            "padding": null,
            "right": null,
            "top": null,
            "visibility": null,
            "width": null
          }
        },
        "30f449b61d404a4ca6975137e0938340": {
          "model_module": "@jupyter-widgets/controls",
          "model_name": "DescriptionStyleModel",
          "model_module_version": "1.5.0",
          "state": {
            "_model_module": "@jupyter-widgets/controls",
            "_model_module_version": "1.5.0",
            "_model_name": "DescriptionStyleModel",
            "_view_count": null,
            "_view_module": "@jupyter-widgets/base",
            "_view_module_version": "1.2.0",
            "_view_name": "StyleView",
            "description_width": ""
          }
        },
        "e216bdaaff3743d38eb30afe1be11613": {
          "model_module": "@jupyter-widgets/base",
          "model_name": "LayoutModel",
          "model_module_version": "1.2.0",
          "state": {
            "_model_module": "@jupyter-widgets/base",
            "_model_module_version": "1.2.0",
            "_model_name": "LayoutModel",
            "_view_count": null,
            "_view_module": "@jupyter-widgets/base",
            "_view_module_version": "1.2.0",
            "_view_name": "LayoutView",
            "align_content": null,
            "align_items": null,
            "align_self": null,
            "border": null,
            "bottom": null,
            "display": null,
            "flex": null,
            "flex_flow": null,
            "grid_area": null,
            "grid_auto_columns": null,
            "grid_auto_flow": null,
            "grid_auto_rows": null,
            "grid_column": null,
            "grid_gap": null,
            "grid_row": null,
            "grid_template_areas": null,
            "grid_template_columns": null,
            "grid_template_rows": null,
            "height": null,
            "justify_content": null,
            "justify_items": null,
            "left": null,
            "margin": null,
            "max_height": null,
            "max_width": null,
            "min_height": null,
            "min_width": null,
            "object_fit": null,
            "object_position": null,
            "order": null,
            "overflow": null,
            "overflow_x": null,
            "overflow_y": null,
            "padding": null,
            "right": null,
            "top": null,
            "visibility": null,
            "width": null
          }
        },
        "c2d9699e49be4974bf3704d4497d1324": {
          "model_module": "@jupyter-widgets/controls",
          "model_name": "ProgressStyleModel",
          "model_module_version": "1.5.0",
          "state": {
            "_model_module": "@jupyter-widgets/controls",
            "_model_module_version": "1.5.0",
            "_model_name": "ProgressStyleModel",
            "_view_count": null,
            "_view_module": "@jupyter-widgets/base",
            "_view_module_version": "1.2.0",
            "_view_name": "StyleView",
            "bar_color": null,
            "description_width": ""
          }
        },
        "439a2f6a9acd4611bbd0cde7134ee95c": {
          "model_module": "@jupyter-widgets/base",
          "model_name": "LayoutModel",
          "model_module_version": "1.2.0",
          "state": {
            "_model_module": "@jupyter-widgets/base",
            "_model_module_version": "1.2.0",
            "_model_name": "LayoutModel",
            "_view_count": null,
            "_view_module": "@jupyter-widgets/base",
            "_view_module_version": "1.2.0",
            "_view_name": "LayoutView",
            "align_content": null,
            "align_items": null,
            "align_self": null,
            "border": null,
            "bottom": null,
            "display": null,
            "flex": null,
            "flex_flow": null,
            "grid_area": null,
            "grid_auto_columns": null,
            "grid_auto_flow": null,
            "grid_auto_rows": null,
            "grid_column": null,
            "grid_gap": null,
            "grid_row": null,
            "grid_template_areas": null,
            "grid_template_columns": null,
            "grid_template_rows": null,
            "height": null,
            "justify_content": null,
            "justify_items": null,
            "left": null,
            "margin": null,
            "max_height": null,
            "max_width": null,
            "min_height": null,
            "min_width": null,
            "object_fit": null,
            "object_position": null,
            "order": null,
            "overflow": null,
            "overflow_x": null,
            "overflow_y": null,
            "padding": null,
            "right": null,
            "top": null,
            "visibility": null,
            "width": null
          }
        },
        "f0fe31ba10744042aabcde87046f10b9": {
          "model_module": "@jupyter-widgets/controls",
          "model_name": "DescriptionStyleModel",
          "model_module_version": "1.5.0",
          "state": {
            "_model_module": "@jupyter-widgets/controls",
            "_model_module_version": "1.5.0",
            "_model_name": "DescriptionStyleModel",
            "_view_count": null,
            "_view_module": "@jupyter-widgets/base",
            "_view_module_version": "1.2.0",
            "_view_name": "StyleView",
            "description_width": ""
          }
        },
        "78dc3f451e4544908d8ce3d57158d0dc": {
          "model_module": "@jupyter-widgets/controls",
          "model_name": "HBoxModel",
          "model_module_version": "1.5.0",
          "state": {
            "_dom_classes": [],
            "_model_module": "@jupyter-widgets/controls",
            "_model_module_version": "1.5.0",
            "_model_name": "HBoxModel",
            "_view_count": null,
            "_view_module": "@jupyter-widgets/controls",
            "_view_module_version": "1.5.0",
            "_view_name": "HBoxView",
            "box_style": "",
            "children": [
              "IPY_MODEL_b486c84cfa4e4fc489e8de68982f4caf",
              "IPY_MODEL_fb6efeaa57774ba392a708228b910d08",
              "IPY_MODEL_5f96f7a7c40b48ceaebac516bffd2c84"
            ],
            "layout": "IPY_MODEL_544345cef23b4e00927a47e284dba92f"
          }
        },
        "b486c84cfa4e4fc489e8de68982f4caf": {
          "model_module": "@jupyter-widgets/controls",
          "model_name": "HTMLModel",
          "model_module_version": "1.5.0",
          "state": {
            "_dom_classes": [],
            "_model_module": "@jupyter-widgets/controls",
            "_model_module_version": "1.5.0",
            "_model_name": "HTMLModel",
            "_view_count": null,
            "_view_module": "@jupyter-widgets/controls",
            "_view_module_version": "1.5.0",
            "_view_name": "HTMLView",
            "description": "",
            "description_tooltip": null,
            "layout": "IPY_MODEL_42f16e1178a9474f8604a555b3e55f01",
            "placeholder": "​",
            "style": "IPY_MODEL_7084a027a421426aae9d402281264812",
            "value": "Downloading builder script: 100%"
          }
        },
        "fb6efeaa57774ba392a708228b910d08": {
          "model_module": "@jupyter-widgets/controls",
          "model_name": "FloatProgressModel",
          "model_module_version": "1.5.0",
          "state": {
            "_dom_classes": [],
            "_model_module": "@jupyter-widgets/controls",
            "_model_module_version": "1.5.0",
            "_model_name": "FloatProgressModel",
            "_view_count": null,
            "_view_module": "@jupyter-widgets/controls",
            "_view_module_version": "1.5.0",
            "_view_name": "ProgressView",
            "bar_style": "success",
            "description": "",
            "description_tooltip": null,
            "layout": "IPY_MODEL_42f1d9ab22a34b0788d8647c50b872fa",
            "max": 6288,
            "min": 0,
            "orientation": "horizontal",
            "style": "IPY_MODEL_f952e0f6976148a7aa7db1921c6f1c94",
            "value": 6288
          }
        },
        "5f96f7a7c40b48ceaebac516bffd2c84": {
          "model_module": "@jupyter-widgets/controls",
          "model_name": "HTMLModel",
          "model_module_version": "1.5.0",
          "state": {
            "_dom_classes": [],
            "_model_module": "@jupyter-widgets/controls",
            "_model_module_version": "1.5.0",
            "_model_name": "HTMLModel",
            "_view_count": null,
            "_view_module": "@jupyter-widgets/controls",
            "_view_module_version": "1.5.0",
            "_view_name": "HTMLView",
            "description": "",
            "description_tooltip": null,
            "layout": "IPY_MODEL_f2977ee643ba4b8882fe03cb04d1dced",
            "placeholder": "​",
            "style": "IPY_MODEL_625b357abddc49e793dc78f8288cc158",
            "value": " 6.29k/6.29k [00:00&lt;00:00, 356kB/s]"
          }
        },
        "544345cef23b4e00927a47e284dba92f": {
          "model_module": "@jupyter-widgets/base",
          "model_name": "LayoutModel",
          "model_module_version": "1.2.0",
          "state": {
            "_model_module": "@jupyter-widgets/base",
            "_model_module_version": "1.2.0",
            "_model_name": "LayoutModel",
            "_view_count": null,
            "_view_module": "@jupyter-widgets/base",
            "_view_module_version": "1.2.0",
            "_view_name": "LayoutView",
            "align_content": null,
            "align_items": null,
            "align_self": null,
            "border": null,
            "bottom": null,
            "display": null,
            "flex": null,
            "flex_flow": null,
            "grid_area": null,
            "grid_auto_columns": null,
            "grid_auto_flow": null,
            "grid_auto_rows": null,
            "grid_column": null,
            "grid_gap": null,
            "grid_row": null,
            "grid_template_areas": null,
            "grid_template_columns": null,
            "grid_template_rows": null,
            "height": null,
            "justify_content": null,
            "justify_items": null,
            "left": null,
            "margin": null,
            "max_height": null,
            "max_width": null,
            "min_height": null,
            "min_width": null,
            "object_fit": null,
            "object_position": null,
            "order": null,
            "overflow": null,
            "overflow_x": null,
            "overflow_y": null,
            "padding": null,
            "right": null,
            "top": null,
            "visibility": null,
            "width": null
          }
        },
        "42f16e1178a9474f8604a555b3e55f01": {
          "model_module": "@jupyter-widgets/base",
          "model_name": "LayoutModel",
          "model_module_version": "1.2.0",
          "state": {
            "_model_module": "@jupyter-widgets/base",
            "_model_module_version": "1.2.0",
            "_model_name": "LayoutModel",
            "_view_count": null,
            "_view_module": "@jupyter-widgets/base",
            "_view_module_version": "1.2.0",
            "_view_name": "LayoutView",
            "align_content": null,
            "align_items": null,
            "align_self": null,
            "border": null,
            "bottom": null,
            "display": null,
            "flex": null,
            "flex_flow": null,
            "grid_area": null,
            "grid_auto_columns": null,
            "grid_auto_flow": null,
            "grid_auto_rows": null,
            "grid_column": null,
            "grid_gap": null,
            "grid_row": null,
            "grid_template_areas": null,
            "grid_template_columns": null,
            "grid_template_rows": null,
            "height": null,
            "justify_content": null,
            "justify_items": null,
            "left": null,
            "margin": null,
            "max_height": null,
            "max_width": null,
            "min_height": null,
            "min_width": null,
            "object_fit": null,
            "object_position": null,
            "order": null,
            "overflow": null,
            "overflow_x": null,
            "overflow_y": null,
            "padding": null,
            "right": null,
            "top": null,
            "visibility": null,
            "width": null
          }
        },
        "7084a027a421426aae9d402281264812": {
          "model_module": "@jupyter-widgets/controls",
          "model_name": "DescriptionStyleModel",
          "model_module_version": "1.5.0",
          "state": {
            "_model_module": "@jupyter-widgets/controls",
            "_model_module_version": "1.5.0",
            "_model_name": "DescriptionStyleModel",
            "_view_count": null,
            "_view_module": "@jupyter-widgets/base",
            "_view_module_version": "1.2.0",
            "_view_name": "StyleView",
            "description_width": ""
          }
        },
        "42f1d9ab22a34b0788d8647c50b872fa": {
          "model_module": "@jupyter-widgets/base",
          "model_name": "LayoutModel",
          "model_module_version": "1.2.0",
          "state": {
            "_model_module": "@jupyter-widgets/base",
            "_model_module_version": "1.2.0",
            "_model_name": "LayoutModel",
            "_view_count": null,
            "_view_module": "@jupyter-widgets/base",
            "_view_module_version": "1.2.0",
            "_view_name": "LayoutView",
            "align_content": null,
            "align_items": null,
            "align_self": null,
            "border": null,
            "bottom": null,
            "display": null,
            "flex": null,
            "flex_flow": null,
            "grid_area": null,
            "grid_auto_columns": null,
            "grid_auto_flow": null,
            "grid_auto_rows": null,
            "grid_column": null,
            "grid_gap": null,
            "grid_row": null,
            "grid_template_areas": null,
            "grid_template_columns": null,
            "grid_template_rows": null,
            "height": null,
            "justify_content": null,
            "justify_items": null,
            "left": null,
            "margin": null,
            "max_height": null,
            "max_width": null,
            "min_height": null,
            "min_width": null,
            "object_fit": null,
            "object_position": null,
            "order": null,
            "overflow": null,
            "overflow_x": null,
            "overflow_y": null,
            "padding": null,
            "right": null,
            "top": null,
            "visibility": null,
            "width": null
          }
        },
        "f952e0f6976148a7aa7db1921c6f1c94": {
          "model_module": "@jupyter-widgets/controls",
          "model_name": "ProgressStyleModel",
          "model_module_version": "1.5.0",
          "state": {
            "_model_module": "@jupyter-widgets/controls",
            "_model_module_version": "1.5.0",
            "_model_name": "ProgressStyleModel",
            "_view_count": null,
            "_view_module": "@jupyter-widgets/base",
            "_view_module_version": "1.2.0",
            "_view_name": "StyleView",
            "bar_color": null,
            "description_width": ""
          }
        },
        "f2977ee643ba4b8882fe03cb04d1dced": {
          "model_module": "@jupyter-widgets/base",
          "model_name": "LayoutModel",
          "model_module_version": "1.2.0",
          "state": {
            "_model_module": "@jupyter-widgets/base",
            "_model_module_version": "1.2.0",
            "_model_name": "LayoutModel",
            "_view_count": null,
            "_view_module": "@jupyter-widgets/base",
            "_view_module_version": "1.2.0",
            "_view_name": "LayoutView",
            "align_content": null,
            "align_items": null,
            "align_self": null,
            "border": null,
            "bottom": null,
            "display": null,
            "flex": null,
            "flex_flow": null,
            "grid_area": null,
            "grid_auto_columns": null,
            "grid_auto_flow": null,
            "grid_auto_rows": null,
            "grid_column": null,
            "grid_gap": null,
            "grid_row": null,
            "grid_template_areas": null,
            "grid_template_columns": null,
            "grid_template_rows": null,
            "height": null,
            "justify_content": null,
            "justify_items": null,
            "left": null,
            "margin": null,
            "max_height": null,
            "max_width": null,
            "min_height": null,
            "min_width": null,
            "object_fit": null,
            "object_position": null,
            "order": null,
            "overflow": null,
            "overflow_x": null,
            "overflow_y": null,
            "padding": null,
            "right": null,
            "top": null,
            "visibility": null,
            "width": null
          }
        },
        "625b357abddc49e793dc78f8288cc158": {
          "model_module": "@jupyter-widgets/controls",
          "model_name": "DescriptionStyleModel",
          "model_module_version": "1.5.0",
          "state": {
            "_model_module": "@jupyter-widgets/controls",
            "_model_module_version": "1.5.0",
            "_model_name": "DescriptionStyleModel",
            "_view_count": null,
            "_view_module": "@jupyter-widgets/base",
            "_view_module_version": "1.2.0",
            "_view_name": "StyleView",
            "description_width": ""
          }
        },
        "47de92d7d3ca4ddc8f4d1544283bceb6": {
          "model_module": "@jupyter-widgets/controls",
          "model_name": "HBoxModel",
          "model_module_version": "1.5.0",
          "state": {
            "_dom_classes": [],
            "_model_module": "@jupyter-widgets/controls",
            "_model_module_version": "1.5.0",
            "_model_name": "HBoxModel",
            "_view_count": null,
            "_view_module": "@jupyter-widgets/controls",
            "_view_module_version": "1.5.0",
            "_view_name": "HBoxView",
            "box_style": "",
            "children": [
              "IPY_MODEL_13f9b15ad56b492b98edbf4be0f505c0",
              "IPY_MODEL_03a4a0d2641245a2809058ddf8721ff2",
              "IPY_MODEL_8b0467599a454c2baee9e201429d889e"
            ],
            "layout": "IPY_MODEL_f23eee1111974318900e6cffd79fb000"
          }
        },
        "13f9b15ad56b492b98edbf4be0f505c0": {
          "model_module": "@jupyter-widgets/controls",
          "model_name": "HTMLModel",
          "model_module_version": "1.5.0",
          "state": {
            "_dom_classes": [],
            "_model_module": "@jupyter-widgets/controls",
            "_model_module_version": "1.5.0",
            "_model_name": "HTMLModel",
            "_view_count": null,
            "_view_module": "@jupyter-widgets/controls",
            "_view_module_version": "1.5.0",
            "_view_name": "HTMLView",
            "description": "",
            "description_tooltip": null,
            "layout": "IPY_MODEL_55499e8e262945d8acde7927c965fd7f",
            "placeholder": "​",
            "style": "IPY_MODEL_e1b3b9f6830c4685bd5ffc1fb4f402be",
            "value": "Downloading metadata: 100%"
          }
        },
        "03a4a0d2641245a2809058ddf8721ff2": {
          "model_module": "@jupyter-widgets/controls",
          "model_name": "FloatProgressModel",
          "model_module_version": "1.5.0",
          "state": {
            "_dom_classes": [],
            "_model_module": "@jupyter-widgets/controls",
            "_model_module_version": "1.5.0",
            "_model_name": "FloatProgressModel",
            "_view_count": null,
            "_view_module": "@jupyter-widgets/controls",
            "_view_module_version": "1.5.0",
            "_view_name": "ProgressView",
            "bar_style": "success",
            "description": "",
            "description_tooltip": null,
            "layout": "IPY_MODEL_995933225dd64a73bb9a7f2446da064e",
            "max": 7765,
            "min": 0,
            "orientation": "horizontal",
            "style": "IPY_MODEL_4d5133e8deff4bbd8dd8fb661df09383",
            "value": 7765
          }
        },
        "8b0467599a454c2baee9e201429d889e": {
          "model_module": "@jupyter-widgets/controls",
          "model_name": "HTMLModel",
          "model_module_version": "1.5.0",
          "state": {
            "_dom_classes": [],
            "_model_module": "@jupyter-widgets/controls",
            "_model_module_version": "1.5.0",
            "_model_name": "HTMLModel",
            "_view_count": null,
            "_view_module": "@jupyter-widgets/controls",
            "_view_module_version": "1.5.0",
            "_view_name": "HTMLView",
            "description": "",
            "description_tooltip": null,
            "layout": "IPY_MODEL_6648e0a35a5d4c40b634b4bb9bf5ab90",
            "placeholder": "​",
            "style": "IPY_MODEL_fe3c49d7e00a4731941d1f2bba4a6692",
            "value": " 7.76k/7.76k [00:00&lt;00:00, 517kB/s]"
          }
        },
        "f23eee1111974318900e6cffd79fb000": {
          "model_module": "@jupyter-widgets/base",
          "model_name": "LayoutModel",
          "model_module_version": "1.2.0",
          "state": {
            "_model_module": "@jupyter-widgets/base",
            "_model_module_version": "1.2.0",
            "_model_name": "LayoutModel",
            "_view_count": null,
            "_view_module": "@jupyter-widgets/base",
            "_view_module_version": "1.2.0",
            "_view_name": "LayoutView",
            "align_content": null,
            "align_items": null,
            "align_self": null,
            "border": null,
            "bottom": null,
            "display": null,
            "flex": null,
            "flex_flow": null,
            "grid_area": null,
            "grid_auto_columns": null,
            "grid_auto_flow": null,
            "grid_auto_rows": null,
            "grid_column": null,
            "grid_gap": null,
            "grid_row": null,
            "grid_template_areas": null,
            "grid_template_columns": null,
            "grid_template_rows": null,
            "height": null,
            "justify_content": null,
            "justify_items": null,
            "left": null,
            "margin": null,
            "max_height": null,
            "max_width": null,
            "min_height": null,
            "min_width": null,
            "object_fit": null,
            "object_position": null,
            "order": null,
            "overflow": null,
            "overflow_x": null,
            "overflow_y": null,
            "padding": null,
            "right": null,
            "top": null,
            "visibility": null,
            "width": null
          }
        },
        "55499e8e262945d8acde7927c965fd7f": {
          "model_module": "@jupyter-widgets/base",
          "model_name": "LayoutModel",
          "model_module_version": "1.2.0",
          "state": {
            "_model_module": "@jupyter-widgets/base",
            "_model_module_version": "1.2.0",
            "_model_name": "LayoutModel",
            "_view_count": null,
            "_view_module": "@jupyter-widgets/base",
            "_view_module_version": "1.2.0",
            "_view_name": "LayoutView",
            "align_content": null,
            "align_items": null,
            "align_self": null,
            "border": null,
            "bottom": null,
            "display": null,
            "flex": null,
            "flex_flow": null,
            "grid_area": null,
            "grid_auto_columns": null,
            "grid_auto_flow": null,
            "grid_auto_rows": null,
            "grid_column": null,
            "grid_gap": null,
            "grid_row": null,
            "grid_template_areas": null,
            "grid_template_columns": null,
            "grid_template_rows": null,
            "height": null,
            "justify_content": null,
            "justify_items": null,
            "left": null,
            "margin": null,
            "max_height": null,
            "max_width": null,
            "min_height": null,
            "min_width": null,
            "object_fit": null,
            "object_position": null,
            "order": null,
            "overflow": null,
            "overflow_x": null,
            "overflow_y": null,
            "padding": null,
            "right": null,
            "top": null,
            "visibility": null,
            "width": null
          }
        },
        "e1b3b9f6830c4685bd5ffc1fb4f402be": {
          "model_module": "@jupyter-widgets/controls",
          "model_name": "DescriptionStyleModel",
          "model_module_version": "1.5.0",
          "state": {
            "_model_module": "@jupyter-widgets/controls",
            "_model_module_version": "1.5.0",
            "_model_name": "DescriptionStyleModel",
            "_view_count": null,
            "_view_module": "@jupyter-widgets/base",
            "_view_module_version": "1.2.0",
            "_view_name": "StyleView",
            "description_width": ""
          }
        },
        "995933225dd64a73bb9a7f2446da064e": {
          "model_module": "@jupyter-widgets/base",
          "model_name": "LayoutModel",
          "model_module_version": "1.2.0",
          "state": {
            "_model_module": "@jupyter-widgets/base",
            "_model_module_version": "1.2.0",
            "_model_name": "LayoutModel",
            "_view_count": null,
            "_view_module": "@jupyter-widgets/base",
            "_view_module_version": "1.2.0",
            "_view_name": "LayoutView",
            "align_content": null,
            "align_items": null,
            "align_self": null,
            "border": null,
            "bottom": null,
            "display": null,
            "flex": null,
            "flex_flow": null,
            "grid_area": null,
            "grid_auto_columns": null,
            "grid_auto_flow": null,
            "grid_auto_rows": null,
            "grid_column": null,
            "grid_gap": null,
            "grid_row": null,
            "grid_template_areas": null,
            "grid_template_columns": null,
            "grid_template_rows": null,
            "height": null,
            "justify_content": null,
            "justify_items": null,
            "left": null,
            "margin": null,
            "max_height": null,
            "max_width": null,
            "min_height": null,
            "min_width": null,
            "object_fit": null,
            "object_position": null,
            "order": null,
            "overflow": null,
            "overflow_x": null,
            "overflow_y": null,
            "padding": null,
            "right": null,
            "top": null,
            "visibility": null,
            "width": null
          }
        },
        "4d5133e8deff4bbd8dd8fb661df09383": {
          "model_module": "@jupyter-widgets/controls",
          "model_name": "ProgressStyleModel",
          "model_module_version": "1.5.0",
          "state": {
            "_model_module": "@jupyter-widgets/controls",
            "_model_module_version": "1.5.0",
            "_model_name": "ProgressStyleModel",
            "_view_count": null,
            "_view_module": "@jupyter-widgets/base",
            "_view_module_version": "1.2.0",
            "_view_name": "StyleView",
            "bar_color": null,
            "description_width": ""
          }
        },
        "6648e0a35a5d4c40b634b4bb9bf5ab90": {
          "model_module": "@jupyter-widgets/base",
          "model_name": "LayoutModel",
          "model_module_version": "1.2.0",
          "state": {
            "_model_module": "@jupyter-widgets/base",
            "_model_module_version": "1.2.0",
            "_model_name": "LayoutModel",
            "_view_count": null,
            "_view_module": "@jupyter-widgets/base",
            "_view_module_version": "1.2.0",
            "_view_name": "LayoutView",
            "align_content": null,
            "align_items": null,
            "align_self": null,
            "border": null,
            "bottom": null,
            "display": null,
            "flex": null,
            "flex_flow": null,
            "grid_area": null,
            "grid_auto_columns": null,
            "grid_auto_flow": null,
            "grid_auto_rows": null,
            "grid_column": null,
            "grid_gap": null,
            "grid_row": null,
            "grid_template_areas": null,
            "grid_template_columns": null,
            "grid_template_rows": null,
            "height": null,
            "justify_content": null,
            "justify_items": null,
            "left": null,
            "margin": null,
            "max_height": null,
            "max_width": null,
            "min_height": null,
            "min_width": null,
            "object_fit": null,
            "object_position": null,
            "order": null,
            "overflow": null,
            "overflow_x": null,
            "overflow_y": null,
            "padding": null,
            "right": null,
            "top": null,
            "visibility": null,
            "width": null
          }
        },
        "fe3c49d7e00a4731941d1f2bba4a6692": {
          "model_module": "@jupyter-widgets/controls",
          "model_name": "DescriptionStyleModel",
          "model_module_version": "1.5.0",
          "state": {
            "_model_module": "@jupyter-widgets/controls",
            "_model_module_version": "1.5.0",
            "_model_name": "DescriptionStyleModel",
            "_view_count": null,
            "_view_module": "@jupyter-widgets/base",
            "_view_module_version": "1.2.0",
            "_view_name": "StyleView",
            "description_width": ""
          }
        },
        "e2aa028d4e7049d290acf6c764aff83d": {
          "model_module": "@jupyter-widgets/controls",
          "model_name": "HBoxModel",
          "model_module_version": "1.5.0",
          "state": {
            "_dom_classes": [],
            "_model_module": "@jupyter-widgets/controls",
            "_model_module_version": "1.5.0",
            "_model_name": "HBoxModel",
            "_view_count": null,
            "_view_module": "@jupyter-widgets/controls",
            "_view_module_version": "1.5.0",
            "_view_name": "HBoxView",
            "box_style": "",
            "children": [
              "IPY_MODEL_5386418dc67b4d61859838078b0f5541",
              "IPY_MODEL_a377eda456df44e7902fb553bda41fd7",
              "IPY_MODEL_54ce6b2f792d4f52beae70e74a47fedb"
            ],
            "layout": "IPY_MODEL_fe397e9b34ff4e7bab30c35ba54d1b99"
          }
        },
        "5386418dc67b4d61859838078b0f5541": {
          "model_module": "@jupyter-widgets/controls",
          "model_name": "HTMLModel",
          "model_module_version": "1.5.0",
          "state": {
            "_dom_classes": [],
            "_model_module": "@jupyter-widgets/controls",
            "_model_module_version": "1.5.0",
            "_model_name": "HTMLModel",
            "_view_count": null,
            "_view_module": "@jupyter-widgets/controls",
            "_view_module_version": "1.5.0",
            "_view_name": "HTMLView",
            "description": "",
            "description_tooltip": null,
            "layout": "IPY_MODEL_b9d143e1cb7b44aa91c53d592b7c86bb",
            "placeholder": "​",
            "style": "IPY_MODEL_8b35666394344e1aa499b37dfc503cac",
            "value": "Downloading readme: 100%"
          }
        },
        "a377eda456df44e7902fb553bda41fd7": {
          "model_module": "@jupyter-widgets/controls",
          "model_name": "FloatProgressModel",
          "model_module_version": "1.5.0",
          "state": {
            "_dom_classes": [],
            "_model_module": "@jupyter-widgets/controls",
            "_model_module_version": "1.5.0",
            "_model_name": "FloatProgressModel",
            "_view_count": null,
            "_view_module": "@jupyter-widgets/controls",
            "_view_module_version": "1.5.0",
            "_view_name": "ProgressView",
            "bar_style": "success",
            "description": "",
            "description_tooltip": null,
            "layout": "IPY_MODEL_ccc2b3a1ea794eb58ca51186afb6a6c7",
            "max": 10566,
            "min": 0,
            "orientation": "horizontal",
            "style": "IPY_MODEL_3754c49e13b745d48c89142ff38d422d",
            "value": 10566
          }
        },
        "54ce6b2f792d4f52beae70e74a47fedb": {
          "model_module": "@jupyter-widgets/controls",
          "model_name": "HTMLModel",
          "model_module_version": "1.5.0",
          "state": {
            "_dom_classes": [],
            "_model_module": "@jupyter-widgets/controls",
            "_model_module_version": "1.5.0",
            "_model_name": "HTMLModel",
            "_view_count": null,
            "_view_module": "@jupyter-widgets/controls",
            "_view_module_version": "1.5.0",
            "_view_name": "HTMLView",
            "description": "",
            "description_tooltip": null,
            "layout": "IPY_MODEL_be2fbba2e55c4f23ac0d553a3f78a992",
            "placeholder": "​",
            "style": "IPY_MODEL_cf67320a02f24961984d2d73640ea652",
            "value": " 10.6k/10.6k [00:00&lt;00:00, 551kB/s]"
          }
        },
        "fe397e9b34ff4e7bab30c35ba54d1b99": {
          "model_module": "@jupyter-widgets/base",
          "model_name": "LayoutModel",
          "model_module_version": "1.2.0",
          "state": {
            "_model_module": "@jupyter-widgets/base",
            "_model_module_version": "1.2.0",
            "_model_name": "LayoutModel",
            "_view_count": null,
            "_view_module": "@jupyter-widgets/base",
            "_view_module_version": "1.2.0",
            "_view_name": "LayoutView",
            "align_content": null,
            "align_items": null,
            "align_self": null,
            "border": null,
            "bottom": null,
            "display": null,
            "flex": null,
            "flex_flow": null,
            "grid_area": null,
            "grid_auto_columns": null,
            "grid_auto_flow": null,
            "grid_auto_rows": null,
            "grid_column": null,
            "grid_gap": null,
            "grid_row": null,
            "grid_template_areas": null,
            "grid_template_columns": null,
            "grid_template_rows": null,
            "height": null,
            "justify_content": null,
            "justify_items": null,
            "left": null,
            "margin": null,
            "max_height": null,
            "max_width": null,
            "min_height": null,
            "min_width": null,
            "object_fit": null,
            "object_position": null,
            "order": null,
            "overflow": null,
            "overflow_x": null,
            "overflow_y": null,
            "padding": null,
            "right": null,
            "top": null,
            "visibility": null,
            "width": null
          }
        },
        "b9d143e1cb7b44aa91c53d592b7c86bb": {
          "model_module": "@jupyter-widgets/base",
          "model_name": "LayoutModel",
          "model_module_version": "1.2.0",
          "state": {
            "_model_module": "@jupyter-widgets/base",
            "_model_module_version": "1.2.0",
            "_model_name": "LayoutModel",
            "_view_count": null,
            "_view_module": "@jupyter-widgets/base",
            "_view_module_version": "1.2.0",
            "_view_name": "LayoutView",
            "align_content": null,
            "align_items": null,
            "align_self": null,
            "border": null,
            "bottom": null,
            "display": null,
            "flex": null,
            "flex_flow": null,
            "grid_area": null,
            "grid_auto_columns": null,
            "grid_auto_flow": null,
            "grid_auto_rows": null,
            "grid_column": null,
            "grid_gap": null,
            "grid_row": null,
            "grid_template_areas": null,
            "grid_template_columns": null,
            "grid_template_rows": null,
            "height": null,
            "justify_content": null,
            "justify_items": null,
            "left": null,
            "margin": null,
            "max_height": null,
            "max_width": null,
            "min_height": null,
            "min_width": null,
            "object_fit": null,
            "object_position": null,
            "order": null,
            "overflow": null,
            "overflow_x": null,
            "overflow_y": null,
            "padding": null,
            "right": null,
            "top": null,
            "visibility": null,
            "width": null
          }
        },
        "8b35666394344e1aa499b37dfc503cac": {
          "model_module": "@jupyter-widgets/controls",
          "model_name": "DescriptionStyleModel",
          "model_module_version": "1.5.0",
          "state": {
            "_model_module": "@jupyter-widgets/controls",
            "_model_module_version": "1.5.0",
            "_model_name": "DescriptionStyleModel",
            "_view_count": null,
            "_view_module": "@jupyter-widgets/base",
            "_view_module_version": "1.2.0",
            "_view_name": "StyleView",
            "description_width": ""
          }
        },
        "ccc2b3a1ea794eb58ca51186afb6a6c7": {
          "model_module": "@jupyter-widgets/base",
          "model_name": "LayoutModel",
          "model_module_version": "1.2.0",
          "state": {
            "_model_module": "@jupyter-widgets/base",
            "_model_module_version": "1.2.0",
            "_model_name": "LayoutModel",
            "_view_count": null,
            "_view_module": "@jupyter-widgets/base",
            "_view_module_version": "1.2.0",
            "_view_name": "LayoutView",
            "align_content": null,
            "align_items": null,
            "align_self": null,
            "border": null,
            "bottom": null,
            "display": null,
            "flex": null,
            "flex_flow": null,
            "grid_area": null,
            "grid_auto_columns": null,
            "grid_auto_flow": null,
            "grid_auto_rows": null,
            "grid_column": null,
            "grid_gap": null,
            "grid_row": null,
            "grid_template_areas": null,
            "grid_template_columns": null,
            "grid_template_rows": null,
            "height": null,
            "justify_content": null,
            "justify_items": null,
            "left": null,
            "margin": null,
            "max_height": null,
            "max_width": null,
            "min_height": null,
            "min_width": null,
            "object_fit": null,
            "object_position": null,
            "order": null,
            "overflow": null,
            "overflow_x": null,
            "overflow_y": null,
            "padding": null,
            "right": null,
            "top": null,
            "visibility": null,
            "width": null
          }
        },
        "3754c49e13b745d48c89142ff38d422d": {
          "model_module": "@jupyter-widgets/controls",
          "model_name": "ProgressStyleModel",
          "model_module_version": "1.5.0",
          "state": {
            "_model_module": "@jupyter-widgets/controls",
            "_model_module_version": "1.5.0",
            "_model_name": "ProgressStyleModel",
            "_view_count": null,
            "_view_module": "@jupyter-widgets/base",
            "_view_module_version": "1.2.0",
            "_view_name": "StyleView",
            "bar_color": null,
            "description_width": ""
          }
        },
        "be2fbba2e55c4f23ac0d553a3f78a992": {
          "model_module": "@jupyter-widgets/base",
          "model_name": "LayoutModel",
          "model_module_version": "1.2.0",
          "state": {
            "_model_module": "@jupyter-widgets/base",
            "_model_module_version": "1.2.0",
            "_model_name": "LayoutModel",
            "_view_count": null,
            "_view_module": "@jupyter-widgets/base",
            "_view_module_version": "1.2.0",
            "_view_name": "LayoutView",
            "align_content": null,
            "align_items": null,
            "align_self": null,
            "border": null,
            "bottom": null,
            "display": null,
            "flex": null,
            "flex_flow": null,
            "grid_area": null,
            "grid_auto_columns": null,
            "grid_auto_flow": null,
            "grid_auto_rows": null,
            "grid_column": null,
            "grid_gap": null,
            "grid_row": null,
            "grid_template_areas": null,
            "grid_template_columns": null,
            "grid_template_rows": null,
            "height": null,
            "justify_content": null,
            "justify_items": null,
            "left": null,
            "margin": null,
            "max_height": null,
            "max_width": null,
            "min_height": null,
            "min_width": null,
            "object_fit": null,
            "object_position": null,
            "order": null,
            "overflow": null,
            "overflow_x": null,
            "overflow_y": null,
            "padding": null,
            "right": null,
            "top": null,
            "visibility": null,
            "width": null
          }
        },
        "cf67320a02f24961984d2d73640ea652": {
          "model_module": "@jupyter-widgets/controls",
          "model_name": "DescriptionStyleModel",
          "model_module_version": "1.5.0",
          "state": {
            "_model_module": "@jupyter-widgets/controls",
            "_model_module_version": "1.5.0",
            "_model_name": "DescriptionStyleModel",
            "_view_count": null,
            "_view_module": "@jupyter-widgets/base",
            "_view_module_version": "1.2.0",
            "_view_name": "StyleView",
            "description_width": ""
          }
        },
        "55bb959dc060498eb8e4819a10e012de": {
          "model_module": "@jupyter-widgets/controls",
          "model_name": "HBoxModel",
          "model_module_version": "1.5.0",
          "state": {
            "_dom_classes": [],
            "_model_module": "@jupyter-widgets/controls",
            "_model_module_version": "1.5.0",
            "_model_name": "HBoxModel",
            "_view_count": null,
            "_view_module": "@jupyter-widgets/controls",
            "_view_module_version": "1.5.0",
            "_view_name": "HBoxView",
            "box_style": "",
            "children": [
              "IPY_MODEL_b2bc25eb905c41ba9f443539c6a7c836",
              "IPY_MODEL_30e533ecd7b24ed69d8a4f465eee05ad",
              "IPY_MODEL_71a6b3243d534cae919e9f42764bf5de"
            ],
            "layout": "IPY_MODEL_4dda5a4a180d483ebed777a54f960f73"
          }
        },
        "b2bc25eb905c41ba9f443539c6a7c836": {
          "model_module": "@jupyter-widgets/controls",
          "model_name": "HTMLModel",
          "model_module_version": "1.5.0",
          "state": {
            "_dom_classes": [],
            "_model_module": "@jupyter-widgets/controls",
            "_model_module_version": "1.5.0",
            "_model_name": "HTMLModel",
            "_view_count": null,
            "_view_module": "@jupyter-widgets/controls",
            "_view_module_version": "1.5.0",
            "_view_name": "HTMLView",
            "description": "",
            "description_tooltip": null,
            "layout": "IPY_MODEL_3d16be52062b41c88c8c7d9ce41a6689",
            "placeholder": "​",
            "style": "IPY_MODEL_da156a20c6204d6f8acb53afd871c4f3",
            "value": "Downloading data files: 100%"
          }
        },
        "30e533ecd7b24ed69d8a4f465eee05ad": {
          "model_module": "@jupyter-widgets/controls",
          "model_name": "FloatProgressModel",
          "model_module_version": "1.5.0",
          "state": {
            "_dom_classes": [],
            "_model_module": "@jupyter-widgets/controls",
            "_model_module_version": "1.5.0",
            "_model_name": "FloatProgressModel",
            "_view_count": null,
            "_view_module": "@jupyter-widgets/controls",
            "_view_module_version": "1.5.0",
            "_view_name": "ProgressView",
            "bar_style": "success",
            "description": "",
            "description_tooltip": null,
            "layout": "IPY_MODEL_84e7ef6efb6f44509adc34f6fac8bab4",
            "max": 1,
            "min": 0,
            "orientation": "horizontal",
            "style": "IPY_MODEL_0d4851a4b8324a558ef2bff3243f7c4b",
            "value": 1
          }
        },
        "71a6b3243d534cae919e9f42764bf5de": {
          "model_module": "@jupyter-widgets/controls",
          "model_name": "HTMLModel",
          "model_module_version": "1.5.0",
          "state": {
            "_dom_classes": [],
            "_model_module": "@jupyter-widgets/controls",
            "_model_module_version": "1.5.0",
            "_model_name": "HTMLModel",
            "_view_count": null,
            "_view_module": "@jupyter-widgets/controls",
            "_view_module_version": "1.5.0",
            "_view_name": "HTMLView",
            "description": "",
            "description_tooltip": null,
            "layout": "IPY_MODEL_4730e56c00844d4da8f6bdbf887d93b2",
            "placeholder": "​",
            "style": "IPY_MODEL_5e3ac71d0b1d4880aeb381754a5da378",
            "value": " 1/1 [00:00&lt;00:00,  1.59it/s]"
          }
        },
        "4dda5a4a180d483ebed777a54f960f73": {
          "model_module": "@jupyter-widgets/base",
          "model_name": "LayoutModel",
          "model_module_version": "1.2.0",
          "state": {
            "_model_module": "@jupyter-widgets/base",
            "_model_module_version": "1.2.0",
            "_model_name": "LayoutModel",
            "_view_count": null,
            "_view_module": "@jupyter-widgets/base",
            "_view_module_version": "1.2.0",
            "_view_name": "LayoutView",
            "align_content": null,
            "align_items": null,
            "align_self": null,
            "border": null,
            "bottom": null,
            "display": null,
            "flex": null,
            "flex_flow": null,
            "grid_area": null,
            "grid_auto_columns": null,
            "grid_auto_flow": null,
            "grid_auto_rows": null,
            "grid_column": null,
            "grid_gap": null,
            "grid_row": null,
            "grid_template_areas": null,
            "grid_template_columns": null,
            "grid_template_rows": null,
            "height": null,
            "justify_content": null,
            "justify_items": null,
            "left": null,
            "margin": null,
            "max_height": null,
            "max_width": null,
            "min_height": null,
            "min_width": null,
            "object_fit": null,
            "object_position": null,
            "order": null,
            "overflow": null,
            "overflow_x": null,
            "overflow_y": null,
            "padding": null,
            "right": null,
            "top": null,
            "visibility": null,
            "width": null
          }
        },
        "3d16be52062b41c88c8c7d9ce41a6689": {
          "model_module": "@jupyter-widgets/base",
          "model_name": "LayoutModel",
          "model_module_version": "1.2.0",
          "state": {
            "_model_module": "@jupyter-widgets/base",
            "_model_module_version": "1.2.0",
            "_model_name": "LayoutModel",
            "_view_count": null,
            "_view_module": "@jupyter-widgets/base",
            "_view_module_version": "1.2.0",
            "_view_name": "LayoutView",
            "align_content": null,
            "align_items": null,
            "align_self": null,
            "border": null,
            "bottom": null,
            "display": null,
            "flex": null,
            "flex_flow": null,
            "grid_area": null,
            "grid_auto_columns": null,
            "grid_auto_flow": null,
            "grid_auto_rows": null,
            "grid_column": null,
            "grid_gap": null,
            "grid_row": null,
            "grid_template_areas": null,
            "grid_template_columns": null,
            "grid_template_rows": null,
            "height": null,
            "justify_content": null,
            "justify_items": null,
            "left": null,
            "margin": null,
            "max_height": null,
            "max_width": null,
            "min_height": null,
            "min_width": null,
            "object_fit": null,
            "object_position": null,
            "order": null,
            "overflow": null,
            "overflow_x": null,
            "overflow_y": null,
            "padding": null,
            "right": null,
            "top": null,
            "visibility": null,
            "width": null
          }
        },
        "da156a20c6204d6f8acb53afd871c4f3": {
          "model_module": "@jupyter-widgets/controls",
          "model_name": "DescriptionStyleModel",
          "model_module_version": "1.5.0",
          "state": {
            "_model_module": "@jupyter-widgets/controls",
            "_model_module_version": "1.5.0",
            "_model_name": "DescriptionStyleModel",
            "_view_count": null,
            "_view_module": "@jupyter-widgets/base",
            "_view_module_version": "1.2.0",
            "_view_name": "StyleView",
            "description_width": ""
          }
        },
        "84e7ef6efb6f44509adc34f6fac8bab4": {
          "model_module": "@jupyter-widgets/base",
          "model_name": "LayoutModel",
          "model_module_version": "1.2.0",
          "state": {
            "_model_module": "@jupyter-widgets/base",
            "_model_module_version": "1.2.0",
            "_model_name": "LayoutModel",
            "_view_count": null,
            "_view_module": "@jupyter-widgets/base",
            "_view_module_version": "1.2.0",
            "_view_name": "LayoutView",
            "align_content": null,
            "align_items": null,
            "align_self": null,
            "border": null,
            "bottom": null,
            "display": null,
            "flex": null,
            "flex_flow": null,
            "grid_area": null,
            "grid_auto_columns": null,
            "grid_auto_flow": null,
            "grid_auto_rows": null,
            "grid_column": null,
            "grid_gap": null,
            "grid_row": null,
            "grid_template_areas": null,
            "grid_template_columns": null,
            "grid_template_rows": null,
            "height": null,
            "justify_content": null,
            "justify_items": null,
            "left": null,
            "margin": null,
            "max_height": null,
            "max_width": null,
            "min_height": null,
            "min_width": null,
            "object_fit": null,
            "object_position": null,
            "order": null,
            "overflow": null,
            "overflow_x": null,
            "overflow_y": null,
            "padding": null,
            "right": null,
            "top": null,
            "visibility": null,
            "width": null
          }
        },
        "0d4851a4b8324a558ef2bff3243f7c4b": {
          "model_module": "@jupyter-widgets/controls",
          "model_name": "ProgressStyleModel",
          "model_module_version": "1.5.0",
          "state": {
            "_model_module": "@jupyter-widgets/controls",
            "_model_module_version": "1.5.0",
            "_model_name": "ProgressStyleModel",
            "_view_count": null,
            "_view_module": "@jupyter-widgets/base",
            "_view_module_version": "1.2.0",
            "_view_name": "StyleView",
            "bar_color": null,
            "description_width": ""
          }
        },
        "4730e56c00844d4da8f6bdbf887d93b2": {
          "model_module": "@jupyter-widgets/base",
          "model_name": "LayoutModel",
          "model_module_version": "1.2.0",
          "state": {
            "_model_module": "@jupyter-widgets/base",
            "_model_module_version": "1.2.0",
            "_model_name": "LayoutModel",
            "_view_count": null,
            "_view_module": "@jupyter-widgets/base",
            "_view_module_version": "1.2.0",
            "_view_name": "LayoutView",
            "align_content": null,
            "align_items": null,
            "align_self": null,
            "border": null,
            "bottom": null,
            "display": null,
            "flex": null,
            "flex_flow": null,
            "grid_area": null,
            "grid_auto_columns": null,
            "grid_auto_flow": null,
            "grid_auto_rows": null,
            "grid_column": null,
            "grid_gap": null,
            "grid_row": null,
            "grid_template_areas": null,
            "grid_template_columns": null,
            "grid_template_rows": null,
            "height": null,
            "justify_content": null,
            "justify_items": null,
            "left": null,
            "margin": null,
            "max_height": null,
            "max_width": null,
            "min_height": null,
            "min_width": null,
            "object_fit": null,
            "object_position": null,
            "order": null,
            "overflow": null,
            "overflow_x": null,
            "overflow_y": null,
            "padding": null,
            "right": null,
            "top": null,
            "visibility": null,
            "width": null
          }
        },
        "5e3ac71d0b1d4880aeb381754a5da378": {
          "model_module": "@jupyter-widgets/controls",
          "model_name": "DescriptionStyleModel",
          "model_module_version": "1.5.0",
          "state": {
            "_model_module": "@jupyter-widgets/controls",
            "_model_module_version": "1.5.0",
            "_model_name": "DescriptionStyleModel",
            "_view_count": null,
            "_view_module": "@jupyter-widgets/base",
            "_view_module_version": "1.2.0",
            "_view_name": "StyleView",
            "description_width": ""
          }
        },
        "0f71792e1e044ddca454bed52f7e26a3": {
          "model_module": "@jupyter-widgets/controls",
          "model_name": "HBoxModel",
          "model_module_version": "1.5.0",
          "state": {
            "_dom_classes": [],
            "_model_module": "@jupyter-widgets/controls",
            "_model_module_version": "1.5.0",
            "_model_name": "HBoxModel",
            "_view_count": null,
            "_view_module": "@jupyter-widgets/controls",
            "_view_module_version": "1.5.0",
            "_view_name": "HBoxView",
            "box_style": "",
            "children": [
              "IPY_MODEL_a60d63e07a864ceba08f8358ca1c62d7",
              "IPY_MODEL_94d3c5f271ad4eefb28ba4f4d3eca608",
              "IPY_MODEL_6233ea7d1b474fe0a39560683f0128bc"
            ],
            "layout": "IPY_MODEL_c24a9e5bc70745b8a868b49b890f5fe0"
          }
        },
        "a60d63e07a864ceba08f8358ca1c62d7": {
          "model_module": "@jupyter-widgets/controls",
          "model_name": "HTMLModel",
          "model_module_version": "1.5.0",
          "state": {
            "_dom_classes": [],
            "_model_module": "@jupyter-widgets/controls",
            "_model_module_version": "1.5.0",
            "_model_name": "HTMLModel",
            "_view_count": null,
            "_view_module": "@jupyter-widgets/controls",
            "_view_module_version": "1.5.0",
            "_view_name": "HTMLView",
            "description": "",
            "description_tooltip": null,
            "layout": "IPY_MODEL_85c34e167b2d4cc5bb18bafc6f077dc8",
            "placeholder": "​",
            "style": "IPY_MODEL_150d19524a874dd19fc52cb5728e7229",
            "value": "Downloading data: 100%"
          }
        },
        "94d3c5f271ad4eefb28ba4f4d3eca608": {
          "model_module": "@jupyter-widgets/controls",
          "model_name": "FloatProgressModel",
          "model_module_version": "1.5.0",
          "state": {
            "_dom_classes": [],
            "_model_module": "@jupyter-widgets/controls",
            "_model_module_version": "1.5.0",
            "_model_name": "FloatProgressModel",
            "_view_count": null,
            "_view_module": "@jupyter-widgets/controls",
            "_view_module_version": "1.5.0",
            "_view_name": "ProgressView",
            "bar_style": "success",
            "description": "",
            "description_tooltip": null,
            "layout": "IPY_MODEL_cc632670b147466ab5e5f617053afba8",
            "max": 5975590,
            "min": 0,
            "orientation": "horizontal",
            "style": "IPY_MODEL_2040f3ae3b004198afa19f6c501ff1ce",
            "value": 5975590
          }
        },
        "6233ea7d1b474fe0a39560683f0128bc": {
          "model_module": "@jupyter-widgets/controls",
          "model_name": "HTMLModel",
          "model_module_version": "1.5.0",
          "state": {
            "_dom_classes": [],
            "_model_module": "@jupyter-widgets/controls",
            "_model_module_version": "1.5.0",
            "_model_name": "HTMLModel",
            "_view_count": null,
            "_view_module": "@jupyter-widgets/controls",
            "_view_module_version": "1.5.0",
            "_view_name": "HTMLView",
            "description": "",
            "description_tooltip": null,
            "layout": "IPY_MODEL_2c948fa9c3fb4def800df8a6df0c10b2",
            "placeholder": "​",
            "style": "IPY_MODEL_5132f850554a40779b3cee71d105891c",
            "value": " 5.98M/5.98M [00:00&lt;00:00, 5.07MB/s]"
          }
        },
        "c24a9e5bc70745b8a868b49b890f5fe0": {
          "model_module": "@jupyter-widgets/base",
          "model_name": "LayoutModel",
          "model_module_version": "1.2.0",
          "state": {
            "_model_module": "@jupyter-widgets/base",
            "_model_module_version": "1.2.0",
            "_model_name": "LayoutModel",
            "_view_count": null,
            "_view_module": "@jupyter-widgets/base",
            "_view_module_version": "1.2.0",
            "_view_name": "LayoutView",
            "align_content": null,
            "align_items": null,
            "align_self": null,
            "border": null,
            "bottom": null,
            "display": null,
            "flex": null,
            "flex_flow": null,
            "grid_area": null,
            "grid_auto_columns": null,
            "grid_auto_flow": null,
            "grid_auto_rows": null,
            "grid_column": null,
            "grid_gap": null,
            "grid_row": null,
            "grid_template_areas": null,
            "grid_template_columns": null,
            "grid_template_rows": null,
            "height": null,
            "justify_content": null,
            "justify_items": null,
            "left": null,
            "margin": null,
            "max_height": null,
            "max_width": null,
            "min_height": null,
            "min_width": null,
            "object_fit": null,
            "object_position": null,
            "order": null,
            "overflow": null,
            "overflow_x": null,
            "overflow_y": null,
            "padding": null,
            "right": null,
            "top": null,
            "visibility": null,
            "width": null
          }
        },
        "85c34e167b2d4cc5bb18bafc6f077dc8": {
          "model_module": "@jupyter-widgets/base",
          "model_name": "LayoutModel",
          "model_module_version": "1.2.0",
          "state": {
            "_model_module": "@jupyter-widgets/base",
            "_model_module_version": "1.2.0",
            "_model_name": "LayoutModel",
            "_view_count": null,
            "_view_module": "@jupyter-widgets/base",
            "_view_module_version": "1.2.0",
            "_view_name": "LayoutView",
            "align_content": null,
            "align_items": null,
            "align_self": null,
            "border": null,
            "bottom": null,
            "display": null,
            "flex": null,
            "flex_flow": null,
            "grid_area": null,
            "grid_auto_columns": null,
            "grid_auto_flow": null,
            "grid_auto_rows": null,
            "grid_column": null,
            "grid_gap": null,
            "grid_row": null,
            "grid_template_areas": null,
            "grid_template_columns": null,
            "grid_template_rows": null,
            "height": null,
            "justify_content": null,
            "justify_items": null,
            "left": null,
            "margin": null,
            "max_height": null,
            "max_width": null,
            "min_height": null,
            "min_width": null,
            "object_fit": null,
            "object_position": null,
            "order": null,
            "overflow": null,
            "overflow_x": null,
            "overflow_y": null,
            "padding": null,
            "right": null,
            "top": null,
            "visibility": null,
            "width": null
          }
        },
        "150d19524a874dd19fc52cb5728e7229": {
          "model_module": "@jupyter-widgets/controls",
          "model_name": "DescriptionStyleModel",
          "model_module_version": "1.5.0",
          "state": {
            "_model_module": "@jupyter-widgets/controls",
            "_model_module_version": "1.5.0",
            "_model_name": "DescriptionStyleModel",
            "_view_count": null,
            "_view_module": "@jupyter-widgets/base",
            "_view_module_version": "1.2.0",
            "_view_name": "StyleView",
            "description_width": ""
          }
        },
        "cc632670b147466ab5e5f617053afba8": {
          "model_module": "@jupyter-widgets/base",
          "model_name": "LayoutModel",
          "model_module_version": "1.2.0",
          "state": {
            "_model_module": "@jupyter-widgets/base",
            "_model_module_version": "1.2.0",
            "_model_name": "LayoutModel",
            "_view_count": null,
            "_view_module": "@jupyter-widgets/base",
            "_view_module_version": "1.2.0",
            "_view_name": "LayoutView",
            "align_content": null,
            "align_items": null,
            "align_self": null,
            "border": null,
            "bottom": null,
            "display": null,
            "flex": null,
            "flex_flow": null,
            "grid_area": null,
            "grid_auto_columns": null,
            "grid_auto_flow": null,
            "grid_auto_rows": null,
            "grid_column": null,
            "grid_gap": null,
            "grid_row": null,
            "grid_template_areas": null,
            "grid_template_columns": null,
            "grid_template_rows": null,
            "height": null,
            "justify_content": null,
            "justify_items": null,
            "left": null,
            "margin": null,
            "max_height": null,
            "max_width": null,
            "min_height": null,
            "min_width": null,
            "object_fit": null,
            "object_position": null,
            "order": null,
            "overflow": null,
            "overflow_x": null,
            "overflow_y": null,
            "padding": null,
            "right": null,
            "top": null,
            "visibility": null,
            "width": null
          }
        },
        "2040f3ae3b004198afa19f6c501ff1ce": {
          "model_module": "@jupyter-widgets/controls",
          "model_name": "ProgressStyleModel",
          "model_module_version": "1.5.0",
          "state": {
            "_model_module": "@jupyter-widgets/controls",
            "_model_module_version": "1.5.0",
            "_model_name": "ProgressStyleModel",
            "_view_count": null,
            "_view_module": "@jupyter-widgets/base",
            "_view_module_version": "1.2.0",
            "_view_name": "StyleView",
            "bar_color": null,
            "description_width": ""
          }
        },
        "2c948fa9c3fb4def800df8a6df0c10b2": {
          "model_module": "@jupyter-widgets/base",
          "model_name": "LayoutModel",
          "model_module_version": "1.2.0",
          "state": {
            "_model_module": "@jupyter-widgets/base",
            "_model_module_version": "1.2.0",
            "_model_name": "LayoutModel",
            "_view_count": null,
            "_view_module": "@jupyter-widgets/base",
            "_view_module_version": "1.2.0",
            "_view_name": "LayoutView",
            "align_content": null,
            "align_items": null,
            "align_self": null,
            "border": null,
            "bottom": null,
            "display": null,
            "flex": null,
            "flex_flow": null,
            "grid_area": null,
            "grid_auto_columns": null,
            "grid_auto_flow": null,
            "grid_auto_rows": null,
            "grid_column": null,
            "grid_gap": null,
            "grid_row": null,
            "grid_template_areas": null,
            "grid_template_columns": null,
            "grid_template_rows": null,
            "height": null,
            "justify_content": null,
            "justify_items": null,
            "left": null,
            "margin": null,
            "max_height": null,
            "max_width": null,
            "min_height": null,
            "min_width": null,
            "object_fit": null,
            "object_position": null,
            "order": null,
            "overflow": null,
            "overflow_x": null,
            "overflow_y": null,
            "padding": null,
            "right": null,
            "top": null,
            "visibility": null,
            "width": null
          }
        },
        "5132f850554a40779b3cee71d105891c": {
          "model_module": "@jupyter-widgets/controls",
          "model_name": "DescriptionStyleModel",
          "model_module_version": "1.5.0",
          "state": {
            "_model_module": "@jupyter-widgets/controls",
            "_model_module_version": "1.5.0",
            "_model_name": "DescriptionStyleModel",
            "_view_count": null,
            "_view_module": "@jupyter-widgets/base",
            "_view_module_version": "1.2.0",
            "_view_name": "StyleView",
            "description_width": ""
          }
        },
        "21cc275e314742efa77257ede7381f69": {
          "model_module": "@jupyter-widgets/controls",
          "model_name": "HBoxModel",
          "model_module_version": "1.5.0",
          "state": {
            "_dom_classes": [],
            "_model_module": "@jupyter-widgets/controls",
            "_model_module_version": "1.5.0",
            "_model_name": "HBoxModel",
            "_view_count": null,
            "_view_module": "@jupyter-widgets/controls",
            "_view_module_version": "1.5.0",
            "_view_name": "HBoxView",
            "box_style": "",
            "children": [
              "IPY_MODEL_82ef69dd477649f2abeec7f2f71318a6",
              "IPY_MODEL_67aaa4ec6e164ff0b2be3ae3568848be",
              "IPY_MODEL_79265024d3e2459f8ca383ec08482b8a"
            ],
            "layout": "IPY_MODEL_19b2811b49b04e5fb45aa2ad440ed0f2"
          }
        },
        "82ef69dd477649f2abeec7f2f71318a6": {
          "model_module": "@jupyter-widgets/controls",
          "model_name": "HTMLModel",
          "model_module_version": "1.5.0",
          "state": {
            "_dom_classes": [],
            "_model_module": "@jupyter-widgets/controls",
            "_model_module_version": "1.5.0",
            "_model_name": "HTMLModel",
            "_view_count": null,
            "_view_module": "@jupyter-widgets/controls",
            "_view_module_version": "1.5.0",
            "_view_name": "HTMLView",
            "description": "",
            "description_tooltip": null,
            "layout": "IPY_MODEL_6bcef623e8c24a1b83d5b3e795b675c2",
            "placeholder": "​",
            "style": "IPY_MODEL_5b49e9b9b7df44cba0a700c026b7276c",
            "value": "Extracting data files: 100%"
          }
        },
        "67aaa4ec6e164ff0b2be3ae3568848be": {
          "model_module": "@jupyter-widgets/controls",
          "model_name": "FloatProgressModel",
          "model_module_version": "1.5.0",
          "state": {
            "_dom_classes": [],
            "_model_module": "@jupyter-widgets/controls",
            "_model_module_version": "1.5.0",
            "_model_name": "FloatProgressModel",
            "_view_count": null,
            "_view_module": "@jupyter-widgets/controls",
            "_view_module_version": "1.5.0",
            "_view_name": "ProgressView",
            "bar_style": "success",
            "description": "",
            "description_tooltip": null,
            "layout": "IPY_MODEL_d2cf0857602c4c63a8a43c9c440a4992",
            "max": 1,
            "min": 0,
            "orientation": "horizontal",
            "style": "IPY_MODEL_dc366ba4d9934cd9b0575907005fb03a",
            "value": 1
          }
        },
        "79265024d3e2459f8ca383ec08482b8a": {
          "model_module": "@jupyter-widgets/controls",
          "model_name": "HTMLModel",
          "model_module_version": "1.5.0",
          "state": {
            "_dom_classes": [],
            "_model_module": "@jupyter-widgets/controls",
            "_model_module_version": "1.5.0",
            "_model_name": "HTMLModel",
            "_view_count": null,
            "_view_module": "@jupyter-widgets/controls",
            "_view_module_version": "1.5.0",
            "_view_name": "HTMLView",
            "description": "",
            "description_tooltip": null,
            "layout": "IPY_MODEL_78edec350e984902890e4372f8f96359",
            "placeholder": "​",
            "style": "IPY_MODEL_3e9804a875984ff3b7f0890be4ba1a32",
            "value": " 1/1 [00:00&lt;00:00,  5.68it/s]"
          }
        },
        "19b2811b49b04e5fb45aa2ad440ed0f2": {
          "model_module": "@jupyter-widgets/base",
          "model_name": "LayoutModel",
          "model_module_version": "1.2.0",
          "state": {
            "_model_module": "@jupyter-widgets/base",
            "_model_module_version": "1.2.0",
            "_model_name": "LayoutModel",
            "_view_count": null,
            "_view_module": "@jupyter-widgets/base",
            "_view_module_version": "1.2.0",
            "_view_name": "LayoutView",
            "align_content": null,
            "align_items": null,
            "align_self": null,
            "border": null,
            "bottom": null,
            "display": null,
            "flex": null,
            "flex_flow": null,
            "grid_area": null,
            "grid_auto_columns": null,
            "grid_auto_flow": null,
            "grid_auto_rows": null,
            "grid_column": null,
            "grid_gap": null,
            "grid_row": null,
            "grid_template_areas": null,
            "grid_template_columns": null,
            "grid_template_rows": null,
            "height": null,
            "justify_content": null,
            "justify_items": null,
            "left": null,
            "margin": null,
            "max_height": null,
            "max_width": null,
            "min_height": null,
            "min_width": null,
            "object_fit": null,
            "object_position": null,
            "order": null,
            "overflow": null,
            "overflow_x": null,
            "overflow_y": null,
            "padding": null,
            "right": null,
            "top": null,
            "visibility": null,
            "width": null
          }
        },
        "6bcef623e8c24a1b83d5b3e795b675c2": {
          "model_module": "@jupyter-widgets/base",
          "model_name": "LayoutModel",
          "model_module_version": "1.2.0",
          "state": {
            "_model_module": "@jupyter-widgets/base",
            "_model_module_version": "1.2.0",
            "_model_name": "LayoutModel",
            "_view_count": null,
            "_view_module": "@jupyter-widgets/base",
            "_view_module_version": "1.2.0",
            "_view_name": "LayoutView",
            "align_content": null,
            "align_items": null,
            "align_self": null,
            "border": null,
            "bottom": null,
            "display": null,
            "flex": null,
            "flex_flow": null,
            "grid_area": null,
            "grid_auto_columns": null,
            "grid_auto_flow": null,
            "grid_auto_rows": null,
            "grid_column": null,
            "grid_gap": null,
            "grid_row": null,
            "grid_template_areas": null,
            "grid_template_columns": null,
            "grid_template_rows": null,
            "height": null,
            "justify_content": null,
            "justify_items": null,
            "left": null,
            "margin": null,
            "max_height": null,
            "max_width": null,
            "min_height": null,
            "min_width": null,
            "object_fit": null,
            "object_position": null,
            "order": null,
            "overflow": null,
            "overflow_x": null,
            "overflow_y": null,
            "padding": null,
            "right": null,
            "top": null,
            "visibility": null,
            "width": null
          }
        },
        "5b49e9b9b7df44cba0a700c026b7276c": {
          "model_module": "@jupyter-widgets/controls",
          "model_name": "DescriptionStyleModel",
          "model_module_version": "1.5.0",
          "state": {
            "_model_module": "@jupyter-widgets/controls",
            "_model_module_version": "1.5.0",
            "_model_name": "DescriptionStyleModel",
            "_view_count": null,
            "_view_module": "@jupyter-widgets/base",
            "_view_module_version": "1.2.0",
            "_view_name": "StyleView",
            "description_width": ""
          }
        },
        "d2cf0857602c4c63a8a43c9c440a4992": {
          "model_module": "@jupyter-widgets/base",
          "model_name": "LayoutModel",
          "model_module_version": "1.2.0",
          "state": {
            "_model_module": "@jupyter-widgets/base",
            "_model_module_version": "1.2.0",
            "_model_name": "LayoutModel",
            "_view_count": null,
            "_view_module": "@jupyter-widgets/base",
            "_view_module_version": "1.2.0",
            "_view_name": "LayoutView",
            "align_content": null,
            "align_items": null,
            "align_self": null,
            "border": null,
            "bottom": null,
            "display": null,
            "flex": null,
            "flex_flow": null,
            "grid_area": null,
            "grid_auto_columns": null,
            "grid_auto_flow": null,
            "grid_auto_rows": null,
            "grid_column": null,
            "grid_gap": null,
            "grid_row": null,
            "grid_template_areas": null,
            "grid_template_columns": null,
            "grid_template_rows": null,
            "height": null,
            "justify_content": null,
            "justify_items": null,
            "left": null,
            "margin": null,
            "max_height": null,
            "max_width": null,
            "min_height": null,
            "min_width": null,
            "object_fit": null,
            "object_position": null,
            "order": null,
            "overflow": null,
            "overflow_x": null,
            "overflow_y": null,
            "padding": null,
            "right": null,
            "top": null,
            "visibility": null,
            "width": null
          }
        },
        "dc366ba4d9934cd9b0575907005fb03a": {
          "model_module": "@jupyter-widgets/controls",
          "model_name": "ProgressStyleModel",
          "model_module_version": "1.5.0",
          "state": {
            "_model_module": "@jupyter-widgets/controls",
            "_model_module_version": "1.5.0",
            "_model_name": "ProgressStyleModel",
            "_view_count": null,
            "_view_module": "@jupyter-widgets/base",
            "_view_module_version": "1.2.0",
            "_view_name": "StyleView",
            "bar_color": null,
            "description_width": ""
          }
        },
        "78edec350e984902890e4372f8f96359": {
          "model_module": "@jupyter-widgets/base",
          "model_name": "LayoutModel",
          "model_module_version": "1.2.0",
          "state": {
            "_model_module": "@jupyter-widgets/base",
            "_model_module_version": "1.2.0",
            "_model_name": "LayoutModel",
            "_view_count": null,
            "_view_module": "@jupyter-widgets/base",
            "_view_module_version": "1.2.0",
            "_view_name": "LayoutView",
            "align_content": null,
            "align_items": null,
            "align_self": null,
            "border": null,
            "bottom": null,
            "display": null,
            "flex": null,
            "flex_flow": null,
            "grid_area": null,
            "grid_auto_columns": null,
            "grid_auto_flow": null,
            "grid_auto_rows": null,
            "grid_column": null,
            "grid_gap": null,
            "grid_row": null,
            "grid_template_areas": null,
            "grid_template_columns": null,
            "grid_template_rows": null,
            "height": null,
            "justify_content": null,
            "justify_items": null,
            "left": null,
            "margin": null,
            "max_height": null,
            "max_width": null,
            "min_height": null,
            "min_width": null,
            "object_fit": null,
            "object_position": null,
            "order": null,
            "overflow": null,
            "overflow_x": null,
            "overflow_y": null,
            "padding": null,
            "right": null,
            "top": null,
            "visibility": null,
            "width": null
          }
        },
        "3e9804a875984ff3b7f0890be4ba1a32": {
          "model_module": "@jupyter-widgets/controls",
          "model_name": "DescriptionStyleModel",
          "model_module_version": "1.5.0",
          "state": {
            "_model_module": "@jupyter-widgets/controls",
            "_model_module_version": "1.5.0",
            "_model_name": "DescriptionStyleModel",
            "_view_count": null,
            "_view_module": "@jupyter-widgets/base",
            "_view_module_version": "1.2.0",
            "_view_name": "StyleView",
            "description_width": ""
          }
        },
        "abdc8668b7d242cfb17d5008c1572d3a": {
          "model_module": "@jupyter-widgets/controls",
          "model_name": "HBoxModel",
          "model_module_version": "1.5.0",
          "state": {
            "_dom_classes": [],
            "_model_module": "@jupyter-widgets/controls",
            "_model_module_version": "1.5.0",
            "_model_name": "HBoxModel",
            "_view_count": null,
            "_view_module": "@jupyter-widgets/controls",
            "_view_module_version": "1.5.0",
            "_view_name": "HBoxView",
            "box_style": "",
            "children": [
              "IPY_MODEL_181de2456d59408c84d7452aab4d8604",
              "IPY_MODEL_a806d9ba3064489b858871c30ffa2492",
              "IPY_MODEL_ea908c2a88df488aa17a2a3ff98cd689"
            ],
            "layout": "IPY_MODEL_7c5d6cc5497345ca9422d0948dba6d13"
          }
        },
        "181de2456d59408c84d7452aab4d8604": {
          "model_module": "@jupyter-widgets/controls",
          "model_name": "HTMLModel",
          "model_module_version": "1.5.0",
          "state": {
            "_dom_classes": [],
            "_model_module": "@jupyter-widgets/controls",
            "_model_module_version": "1.5.0",
            "_model_name": "HTMLModel",
            "_view_count": null,
            "_view_module": "@jupyter-widgets/controls",
            "_view_module_version": "1.5.0",
            "_view_name": "HTMLView",
            "description": "",
            "description_tooltip": null,
            "layout": "IPY_MODEL_7705a71fff0a431483c8443e0670ff2b",
            "placeholder": "​",
            "style": "IPY_MODEL_0657580bf42642b9932e4af90cef4ccb",
            "value": "Generating train split:  93%"
          }
        },
        "a806d9ba3064489b858871c30ffa2492": {
          "model_module": "@jupyter-widgets/controls",
          "model_name": "FloatProgressModel",
          "model_module_version": "1.5.0",
          "state": {
            "_dom_classes": [],
            "_model_module": "@jupyter-widgets/controls",
            "_model_module_version": "1.5.0",
            "_model_name": "FloatProgressModel",
            "_view_count": null,
            "_view_module": "@jupyter-widgets/controls",
            "_view_module_version": "1.5.0",
            "_view_name": "ProgressView",
            "bar_style": "",
            "description": "",
            "description_tooltip": null,
            "layout": "IPY_MODEL_565cc961d54f42219ef5986b4ba74ab1",
            "max": 6838,
            "min": 0,
            "orientation": "horizontal",
            "style": "IPY_MODEL_0061129ec27547d7a25daac8193db8b7",
            "value": 6838
          }
        },
        "ea908c2a88df488aa17a2a3ff98cd689": {
          "model_module": "@jupyter-widgets/controls",
          "model_name": "HTMLModel",
          "model_module_version": "1.5.0",
          "state": {
            "_dom_classes": [],
            "_model_module": "@jupyter-widgets/controls",
            "_model_module_version": "1.5.0",
            "_model_name": "HTMLModel",
            "_view_count": null,
            "_view_module": "@jupyter-widgets/controls",
            "_view_module_version": "1.5.0",
            "_view_name": "HTMLView",
            "description": "",
            "description_tooltip": null,
            "layout": "IPY_MODEL_b4674e8cc47545459cdef41a59c3b36a",
            "placeholder": "​",
            "style": "IPY_MODEL_35f7ac2b20c3418eb52d10c3eb1ce6ea",
            "value": " 6388/6838 [00:00&lt;00:00, 9965.91 examples/s]"
          }
        },
        "7c5d6cc5497345ca9422d0948dba6d13": {
          "model_module": "@jupyter-widgets/base",
          "model_name": "LayoutModel",
          "model_module_version": "1.2.0",
          "state": {
            "_model_module": "@jupyter-widgets/base",
            "_model_module_version": "1.2.0",
            "_model_name": "LayoutModel",
            "_view_count": null,
            "_view_module": "@jupyter-widgets/base",
            "_view_module_version": "1.2.0",
            "_view_name": "LayoutView",
            "align_content": null,
            "align_items": null,
            "align_self": null,
            "border": null,
            "bottom": null,
            "display": null,
            "flex": null,
            "flex_flow": null,
            "grid_area": null,
            "grid_auto_columns": null,
            "grid_auto_flow": null,
            "grid_auto_rows": null,
            "grid_column": null,
            "grid_gap": null,
            "grid_row": null,
            "grid_template_areas": null,
            "grid_template_columns": null,
            "grid_template_rows": null,
            "height": null,
            "justify_content": null,
            "justify_items": null,
            "left": null,
            "margin": null,
            "max_height": null,
            "max_width": null,
            "min_height": null,
            "min_width": null,
            "object_fit": null,
            "object_position": null,
            "order": null,
            "overflow": null,
            "overflow_x": null,
            "overflow_y": null,
            "padding": null,
            "right": null,
            "top": null,
            "visibility": "hidden",
            "width": null
          }
        },
        "7705a71fff0a431483c8443e0670ff2b": {
          "model_module": "@jupyter-widgets/base",
          "model_name": "LayoutModel",
          "model_module_version": "1.2.0",
          "state": {
            "_model_module": "@jupyter-widgets/base",
            "_model_module_version": "1.2.0",
            "_model_name": "LayoutModel",
            "_view_count": null,
            "_view_module": "@jupyter-widgets/base",
            "_view_module_version": "1.2.0",
            "_view_name": "LayoutView",
            "align_content": null,
            "align_items": null,
            "align_self": null,
            "border": null,
            "bottom": null,
            "display": null,
            "flex": null,
            "flex_flow": null,
            "grid_area": null,
            "grid_auto_columns": null,
            "grid_auto_flow": null,
            "grid_auto_rows": null,
            "grid_column": null,
            "grid_gap": null,
            "grid_row": null,
            "grid_template_areas": null,
            "grid_template_columns": null,
            "grid_template_rows": null,
            "height": null,
            "justify_content": null,
            "justify_items": null,
            "left": null,
            "margin": null,
            "max_height": null,
            "max_width": null,
            "min_height": null,
            "min_width": null,
            "object_fit": null,
            "object_position": null,
            "order": null,
            "overflow": null,
            "overflow_x": null,
            "overflow_y": null,
            "padding": null,
            "right": null,
            "top": null,
            "visibility": null,
            "width": null
          }
        },
        "0657580bf42642b9932e4af90cef4ccb": {
          "model_module": "@jupyter-widgets/controls",
          "model_name": "DescriptionStyleModel",
          "model_module_version": "1.5.0",
          "state": {
            "_model_module": "@jupyter-widgets/controls",
            "_model_module_version": "1.5.0",
            "_model_name": "DescriptionStyleModel",
            "_view_count": null,
            "_view_module": "@jupyter-widgets/base",
            "_view_module_version": "1.2.0",
            "_view_name": "StyleView",
            "description_width": ""
          }
        },
        "565cc961d54f42219ef5986b4ba74ab1": {
          "model_module": "@jupyter-widgets/base",
          "model_name": "LayoutModel",
          "model_module_version": "1.2.0",
          "state": {
            "_model_module": "@jupyter-widgets/base",
            "_model_module_version": "1.2.0",
            "_model_name": "LayoutModel",
            "_view_count": null,
            "_view_module": "@jupyter-widgets/base",
            "_view_module_version": "1.2.0",
            "_view_name": "LayoutView",
            "align_content": null,
            "align_items": null,
            "align_self": null,
            "border": null,
            "bottom": null,
            "display": null,
            "flex": null,
            "flex_flow": null,
            "grid_area": null,
            "grid_auto_columns": null,
            "grid_auto_flow": null,
            "grid_auto_rows": null,
            "grid_column": null,
            "grid_gap": null,
            "grid_row": null,
            "grid_template_areas": null,
            "grid_template_columns": null,
            "grid_template_rows": null,
            "height": null,
            "justify_content": null,
            "justify_items": null,
            "left": null,
            "margin": null,
            "max_height": null,
            "max_width": null,
            "min_height": null,
            "min_width": null,
            "object_fit": null,
            "object_position": null,
            "order": null,
            "overflow": null,
            "overflow_x": null,
            "overflow_y": null,
            "padding": null,
            "right": null,
            "top": null,
            "visibility": null,
            "width": null
          }
        },
        "0061129ec27547d7a25daac8193db8b7": {
          "model_module": "@jupyter-widgets/controls",
          "model_name": "ProgressStyleModel",
          "model_module_version": "1.5.0",
          "state": {
            "_model_module": "@jupyter-widgets/controls",
            "_model_module_version": "1.5.0",
            "_model_name": "ProgressStyleModel",
            "_view_count": null,
            "_view_module": "@jupyter-widgets/base",
            "_view_module_version": "1.2.0",
            "_view_name": "StyleView",
            "bar_color": null,
            "description_width": ""
          }
        },
        "b4674e8cc47545459cdef41a59c3b36a": {
          "model_module": "@jupyter-widgets/base",
          "model_name": "LayoutModel",
          "model_module_version": "1.2.0",
          "state": {
            "_model_module": "@jupyter-widgets/base",
            "_model_module_version": "1.2.0",
            "_model_name": "LayoutModel",
            "_view_count": null,
            "_view_module": "@jupyter-widgets/base",
            "_view_module_version": "1.2.0",
            "_view_name": "LayoutView",
            "align_content": null,
            "align_items": null,
            "align_self": null,
            "border": null,
            "bottom": null,
            "display": null,
            "flex": null,
            "flex_flow": null,
            "grid_area": null,
            "grid_auto_columns": null,
            "grid_auto_flow": null,
            "grid_auto_rows": null,
            "grid_column": null,
            "grid_gap": null,
            "grid_row": null,
            "grid_template_areas": null,
            "grid_template_columns": null,
            "grid_template_rows": null,
            "height": null,
            "justify_content": null,
            "justify_items": null,
            "left": null,
            "margin": null,
            "max_height": null,
            "max_width": null,
            "min_height": null,
            "min_width": null,
            "object_fit": null,
            "object_position": null,
            "order": null,
            "overflow": null,
            "overflow_x": null,
            "overflow_y": null,
            "padding": null,
            "right": null,
            "top": null,
            "visibility": null,
            "width": null
          }
        },
        "35f7ac2b20c3418eb52d10c3eb1ce6ea": {
          "model_module": "@jupyter-widgets/controls",
          "model_name": "DescriptionStyleModel",
          "model_module_version": "1.5.0",
          "state": {
            "_model_module": "@jupyter-widgets/controls",
            "_model_module_version": "1.5.0",
            "_model_name": "DescriptionStyleModel",
            "_view_count": null,
            "_view_module": "@jupyter-widgets/base",
            "_view_module_version": "1.2.0",
            "_view_name": "StyleView",
            "description_width": ""
          }
        },
        "61e2bdcc34c14b209bb3cc1fd707adee": {
          "model_module": "@jupyter-widgets/controls",
          "model_name": "HBoxModel",
          "model_module_version": "1.5.0",
          "state": {
            "_dom_classes": [],
            "_model_module": "@jupyter-widgets/controls",
            "_model_module_version": "1.5.0",
            "_model_name": "HBoxModel",
            "_view_count": null,
            "_view_module": "@jupyter-widgets/controls",
            "_view_module_version": "1.5.0",
            "_view_name": "HBoxView",
            "box_style": "",
            "children": [
              "IPY_MODEL_99d4208cbfcf4c0d828ac9ffbba97a95",
              "IPY_MODEL_ac840c82ed1f42b885e7d5d0cc000d61",
              "IPY_MODEL_629d8d8752c4457fa7ae12e6bf281e1d"
            ],
            "layout": "IPY_MODEL_63e9f03db8d94baeb53d0bb1fa114f0d"
          }
        },
        "99d4208cbfcf4c0d828ac9ffbba97a95": {
          "model_module": "@jupyter-widgets/controls",
          "model_name": "HTMLModel",
          "model_module_version": "1.5.0",
          "state": {
            "_dom_classes": [],
            "_model_module": "@jupyter-widgets/controls",
            "_model_module_version": "1.5.0",
            "_model_name": "HTMLModel",
            "_view_count": null,
            "_view_module": "@jupyter-widgets/controls",
            "_view_module_version": "1.5.0",
            "_view_name": "HTMLView",
            "description": "",
            "description_tooltip": null,
            "layout": "IPY_MODEL_069d1c2442ba4f90ab6a5064508a8063",
            "placeholder": "​",
            "style": "IPY_MODEL_5693f05a86514954a78af450fbe3245a",
            "value": "Generating test split:  93%"
          }
        },
        "ac840c82ed1f42b885e7d5d0cc000d61": {
          "model_module": "@jupyter-widgets/controls",
          "model_name": "FloatProgressModel",
          "model_module_version": "1.5.0",
          "state": {
            "_dom_classes": [],
            "_model_module": "@jupyter-widgets/controls",
            "_model_module_version": "1.5.0",
            "_model_name": "FloatProgressModel",
            "_view_count": null,
            "_view_module": "@jupyter-widgets/controls",
            "_view_module_version": "1.5.0",
            "_view_name": "ProgressView",
            "bar_style": "",
            "description": "",
            "description_tooltip": null,
            "layout": "IPY_MODEL_d7e4b44f5db542dab02bdd9848c04637",
            "max": 3259,
            "min": 0,
            "orientation": "horizontal",
            "style": "IPY_MODEL_12307330069e46fd86a37d7b6d1fc892",
            "value": 3259
          }
        },
        "629d8d8752c4457fa7ae12e6bf281e1d": {
          "model_module": "@jupyter-widgets/controls",
          "model_name": "HTMLModel",
          "model_module_version": "1.5.0",
          "state": {
            "_dom_classes": [],
            "_model_module": "@jupyter-widgets/controls",
            "_model_module_version": "1.5.0",
            "_model_name": "HTMLModel",
            "_view_count": null,
            "_view_module": "@jupyter-widgets/controls",
            "_view_module_version": "1.5.0",
            "_view_name": "HTMLView",
            "description": "",
            "description_tooltip": null,
            "layout": "IPY_MODEL_c7a54923f8d84ca08ec9b1e0df8d1973",
            "placeholder": "​",
            "style": "IPY_MODEL_a0380932920d4ccca8b9bbb58eafe288",
            "value": " 3041/3259 [00:00&lt;00:00, 9533.17 examples/s]"
          }
        },
        "63e9f03db8d94baeb53d0bb1fa114f0d": {
          "model_module": "@jupyter-widgets/base",
          "model_name": "LayoutModel",
          "model_module_version": "1.2.0",
          "state": {
            "_model_module": "@jupyter-widgets/base",
            "_model_module_version": "1.2.0",
            "_model_name": "LayoutModel",
            "_view_count": null,
            "_view_module": "@jupyter-widgets/base",
            "_view_module_version": "1.2.0",
            "_view_name": "LayoutView",
            "align_content": null,
            "align_items": null,
            "align_self": null,
            "border": null,
            "bottom": null,
            "display": null,
            "flex": null,
            "flex_flow": null,
            "grid_area": null,
            "grid_auto_columns": null,
            "grid_auto_flow": null,
            "grid_auto_rows": null,
            "grid_column": null,
            "grid_gap": null,
            "grid_row": null,
            "grid_template_areas": null,
            "grid_template_columns": null,
            "grid_template_rows": null,
            "height": null,
            "justify_content": null,
            "justify_items": null,
            "left": null,
            "margin": null,
            "max_height": null,
            "max_width": null,
            "min_height": null,
            "min_width": null,
            "object_fit": null,
            "object_position": null,
            "order": null,
            "overflow": null,
            "overflow_x": null,
            "overflow_y": null,
            "padding": null,
            "right": null,
            "top": null,
            "visibility": "hidden",
            "width": null
          }
        },
        "069d1c2442ba4f90ab6a5064508a8063": {
          "model_module": "@jupyter-widgets/base",
          "model_name": "LayoutModel",
          "model_module_version": "1.2.0",
          "state": {
            "_model_module": "@jupyter-widgets/base",
            "_model_module_version": "1.2.0",
            "_model_name": "LayoutModel",
            "_view_count": null,
            "_view_module": "@jupyter-widgets/base",
            "_view_module_version": "1.2.0",
            "_view_name": "LayoutView",
            "align_content": null,
            "align_items": null,
            "align_self": null,
            "border": null,
            "bottom": null,
            "display": null,
            "flex": null,
            "flex_flow": null,
            "grid_area": null,
            "grid_auto_columns": null,
            "grid_auto_flow": null,
            "grid_auto_rows": null,
            "grid_column": null,
            "grid_gap": null,
            "grid_row": null,
            "grid_template_areas": null,
            "grid_template_columns": null,
            "grid_template_rows": null,
            "height": null,
            "justify_content": null,
            "justify_items": null,
            "left": null,
            "margin": null,
            "max_height": null,
            "max_width": null,
            "min_height": null,
            "min_width": null,
            "object_fit": null,
            "object_position": null,
            "order": null,
            "overflow": null,
            "overflow_x": null,
            "overflow_y": null,
            "padding": null,
            "right": null,
            "top": null,
            "visibility": null,
            "width": null
          }
        },
        "5693f05a86514954a78af450fbe3245a": {
          "model_module": "@jupyter-widgets/controls",
          "model_name": "DescriptionStyleModel",
          "model_module_version": "1.5.0",
          "state": {
            "_model_module": "@jupyter-widgets/controls",
            "_model_module_version": "1.5.0",
            "_model_name": "DescriptionStyleModel",
            "_view_count": null,
            "_view_module": "@jupyter-widgets/base",
            "_view_module_version": "1.2.0",
            "_view_name": "StyleView",
            "description_width": ""
          }
        },
        "d7e4b44f5db542dab02bdd9848c04637": {
          "model_module": "@jupyter-widgets/base",
          "model_name": "LayoutModel",
          "model_module_version": "1.2.0",
          "state": {
            "_model_module": "@jupyter-widgets/base",
            "_model_module_version": "1.2.0",
            "_model_name": "LayoutModel",
            "_view_count": null,
            "_view_module": "@jupyter-widgets/base",
            "_view_module_version": "1.2.0",
            "_view_name": "LayoutView",
            "align_content": null,
            "align_items": null,
            "align_self": null,
            "border": null,
            "bottom": null,
            "display": null,
            "flex": null,
            "flex_flow": null,
            "grid_area": null,
            "grid_auto_columns": null,
            "grid_auto_flow": null,
            "grid_auto_rows": null,
            "grid_column": null,
            "grid_gap": null,
            "grid_row": null,
            "grid_template_areas": null,
            "grid_template_columns": null,
            "grid_template_rows": null,
            "height": null,
            "justify_content": null,
            "justify_items": null,
            "left": null,
            "margin": null,
            "max_height": null,
            "max_width": null,
            "min_height": null,
            "min_width": null,
            "object_fit": null,
            "object_position": null,
            "order": null,
            "overflow": null,
            "overflow_x": null,
            "overflow_y": null,
            "padding": null,
            "right": null,
            "top": null,
            "visibility": null,
            "width": null
          }
        },
        "12307330069e46fd86a37d7b6d1fc892": {
          "model_module": "@jupyter-widgets/controls",
          "model_name": "ProgressStyleModel",
          "model_module_version": "1.5.0",
          "state": {
            "_model_module": "@jupyter-widgets/controls",
            "_model_module_version": "1.5.0",
            "_model_name": "ProgressStyleModel",
            "_view_count": null,
            "_view_module": "@jupyter-widgets/base",
            "_view_module_version": "1.2.0",
            "_view_name": "StyleView",
            "bar_color": null,
            "description_width": ""
          }
        },
        "c7a54923f8d84ca08ec9b1e0df8d1973": {
          "model_module": "@jupyter-widgets/base",
          "model_name": "LayoutModel",
          "model_module_version": "1.2.0",
          "state": {
            "_model_module": "@jupyter-widgets/base",
            "_model_module_version": "1.2.0",
            "_model_name": "LayoutModel",
            "_view_count": null,
            "_view_module": "@jupyter-widgets/base",
            "_view_module_version": "1.2.0",
            "_view_name": "LayoutView",
            "align_content": null,
            "align_items": null,
            "align_self": null,
            "border": null,
            "bottom": null,
            "display": null,
            "flex": null,
            "flex_flow": null,
            "grid_area": null,
            "grid_auto_columns": null,
            "grid_auto_flow": null,
            "grid_auto_rows": null,
            "grid_column": null,
            "grid_gap": null,
            "grid_row": null,
            "grid_template_areas": null,
            "grid_template_columns": null,
            "grid_template_rows": null,
            "height": null,
            "justify_content": null,
            "justify_items": null,
            "left": null,
            "margin": null,
            "max_height": null,
            "max_width": null,
            "min_height": null,
            "min_width": null,
            "object_fit": null,
            "object_position": null,
            "order": null,
            "overflow": null,
            "overflow_x": null,
            "overflow_y": null,
            "padding": null,
            "right": null,
            "top": null,
            "visibility": null,
            "width": null
          }
        },
        "a0380932920d4ccca8b9bbb58eafe288": {
          "model_module": "@jupyter-widgets/controls",
          "model_name": "DescriptionStyleModel",
          "model_module_version": "1.5.0",
          "state": {
            "_model_module": "@jupyter-widgets/controls",
            "_model_module_version": "1.5.0",
            "_model_name": "DescriptionStyleModel",
            "_view_count": null,
            "_view_module": "@jupyter-widgets/base",
            "_view_module_version": "1.2.0",
            "_view_name": "StyleView",
            "description_width": ""
          }
        },
        "b4b25afe27ec4ee2afcc66bf16d64d73": {
          "model_module": "@jupyter-widgets/controls",
          "model_name": "HBoxModel",
          "model_module_version": "1.5.0",
          "state": {
            "_dom_classes": [],
            "_model_module": "@jupyter-widgets/controls",
            "_model_module_version": "1.5.0",
            "_model_name": "HBoxModel",
            "_view_count": null,
            "_view_module": "@jupyter-widgets/controls",
            "_view_module_version": "1.5.0",
            "_view_name": "HBoxView",
            "box_style": "",
            "children": [
              "IPY_MODEL_b95e6a88be134441b0593a967dd04b49",
              "IPY_MODEL_256929562ef24782a027182b3805a20b",
              "IPY_MODEL_b746ab50e4b34203a03e8d3002d83d37"
            ],
            "layout": "IPY_MODEL_878e2a79c6b54cc4bf75aa3646f3231b"
          }
        },
        "b95e6a88be134441b0593a967dd04b49": {
          "model_module": "@jupyter-widgets/controls",
          "model_name": "HTMLModel",
          "model_module_version": "1.5.0",
          "state": {
            "_dom_classes": [],
            "_model_module": "@jupyter-widgets/controls",
            "_model_module_version": "1.5.0",
            "_model_name": "HTMLModel",
            "_view_count": null,
            "_view_module": "@jupyter-widgets/controls",
            "_view_module_version": "1.5.0",
            "_view_name": "HTMLView",
            "description": "",
            "description_tooltip": null,
            "layout": "IPY_MODEL_35e3364134a14335b97320f9e8bc2833",
            "placeholder": "​",
            "style": "IPY_MODEL_0b82f2441b714fb99b785529f04dc142",
            "value": "Generating validation split: 100%"
          }
        },
        "256929562ef24782a027182b3805a20b": {
          "model_module": "@jupyter-widgets/controls",
          "model_name": "FloatProgressModel",
          "model_module_version": "1.5.0",
          "state": {
            "_dom_classes": [],
            "_model_module": "@jupyter-widgets/controls",
            "_model_module_version": "1.5.0",
            "_model_name": "FloatProgressModel",
            "_view_count": null,
            "_view_module": "@jupyter-widgets/controls",
            "_view_module_version": "1.5.0",
            "_view_name": "ProgressView",
            "bar_style": "",
            "description": "",
            "description_tooltip": null,
            "layout": "IPY_MODEL_c0bbf6d5b06847b7b49aba5973ce48fb",
            "max": 886,
            "min": 0,
            "orientation": "horizontal",
            "style": "IPY_MODEL_ad4a0b88fa7543efb7e592cf5bd4fd76",
            "value": 886
          }
        },
        "b746ab50e4b34203a03e8d3002d83d37": {
          "model_module": "@jupyter-widgets/controls",
          "model_name": "HTMLModel",
          "model_module_version": "1.5.0",
          "state": {
            "_dom_classes": [],
            "_model_module": "@jupyter-widgets/controls",
            "_model_module_version": "1.5.0",
            "_model_name": "HTMLModel",
            "_view_count": null,
            "_view_module": "@jupyter-widgets/controls",
            "_view_module_version": "1.5.0",
            "_view_name": "HTMLView",
            "description": "",
            "description_tooltip": null,
            "layout": "IPY_MODEL_1f58e55ba82d4af392128eccb158a450",
            "placeholder": "​",
            "style": "IPY_MODEL_94edaab582c94073be5dcfbe23f8dc88",
            "value": " 886/886 [00:00&lt;00:00, 8386.34 examples/s]"
          }
        },
        "878e2a79c6b54cc4bf75aa3646f3231b": {
          "model_module": "@jupyter-widgets/base",
          "model_name": "LayoutModel",
          "model_module_version": "1.2.0",
          "state": {
            "_model_module": "@jupyter-widgets/base",
            "_model_module_version": "1.2.0",
            "_model_name": "LayoutModel",
            "_view_count": null,
            "_view_module": "@jupyter-widgets/base",
            "_view_module_version": "1.2.0",
            "_view_name": "LayoutView",
            "align_content": null,
            "align_items": null,
            "align_self": null,
            "border": null,
            "bottom": null,
            "display": null,
            "flex": null,
            "flex_flow": null,
            "grid_area": null,
            "grid_auto_columns": null,
            "grid_auto_flow": null,
            "grid_auto_rows": null,
            "grid_column": null,
            "grid_gap": null,
            "grid_row": null,
            "grid_template_areas": null,
            "grid_template_columns": null,
            "grid_template_rows": null,
            "height": null,
            "justify_content": null,
            "justify_items": null,
            "left": null,
            "margin": null,
            "max_height": null,
            "max_width": null,
            "min_height": null,
            "min_width": null,
            "object_fit": null,
            "object_position": null,
            "order": null,
            "overflow": null,
            "overflow_x": null,
            "overflow_y": null,
            "padding": null,
            "right": null,
            "top": null,
            "visibility": "hidden",
            "width": null
          }
        },
        "35e3364134a14335b97320f9e8bc2833": {
          "model_module": "@jupyter-widgets/base",
          "model_name": "LayoutModel",
          "model_module_version": "1.2.0",
          "state": {
            "_model_module": "@jupyter-widgets/base",
            "_model_module_version": "1.2.0",
            "_model_name": "LayoutModel",
            "_view_count": null,
            "_view_module": "@jupyter-widgets/base",
            "_view_module_version": "1.2.0",
            "_view_name": "LayoutView",
            "align_content": null,
            "align_items": null,
            "align_self": null,
            "border": null,
            "bottom": null,
            "display": null,
            "flex": null,
            "flex_flow": null,
            "grid_area": null,
            "grid_auto_columns": null,
            "grid_auto_flow": null,
            "grid_auto_rows": null,
            "grid_column": null,
            "grid_gap": null,
            "grid_row": null,
            "grid_template_areas": null,
            "grid_template_columns": null,
            "grid_template_rows": null,
            "height": null,
            "justify_content": null,
            "justify_items": null,
            "left": null,
            "margin": null,
            "max_height": null,
            "max_width": null,
            "min_height": null,
            "min_width": null,
            "object_fit": null,
            "object_position": null,
            "order": null,
            "overflow": null,
            "overflow_x": null,
            "overflow_y": null,
            "padding": null,
            "right": null,
            "top": null,
            "visibility": null,
            "width": null
          }
        },
        "0b82f2441b714fb99b785529f04dc142": {
          "model_module": "@jupyter-widgets/controls",
          "model_name": "DescriptionStyleModel",
          "model_module_version": "1.5.0",
          "state": {
            "_model_module": "@jupyter-widgets/controls",
            "_model_module_version": "1.5.0",
            "_model_name": "DescriptionStyleModel",
            "_view_count": null,
            "_view_module": "@jupyter-widgets/base",
            "_view_module_version": "1.2.0",
            "_view_name": "StyleView",
            "description_width": ""
          }
        },
        "c0bbf6d5b06847b7b49aba5973ce48fb": {
          "model_module": "@jupyter-widgets/base",
          "model_name": "LayoutModel",
          "model_module_version": "1.2.0",
          "state": {
            "_model_module": "@jupyter-widgets/base",
            "_model_module_version": "1.2.0",
            "_model_name": "LayoutModel",
            "_view_count": null,
            "_view_module": "@jupyter-widgets/base",
            "_view_module_version": "1.2.0",
            "_view_name": "LayoutView",
            "align_content": null,
            "align_items": null,
            "align_self": null,
            "border": null,
            "bottom": null,
            "display": null,
            "flex": null,
            "flex_flow": null,
            "grid_area": null,
            "grid_auto_columns": null,
            "grid_auto_flow": null,
            "grid_auto_rows": null,
            "grid_column": null,
            "grid_gap": null,
            "grid_row": null,
            "grid_template_areas": null,
            "grid_template_columns": null,
            "grid_template_rows": null,
            "height": null,
            "justify_content": null,
            "justify_items": null,
            "left": null,
            "margin": null,
            "max_height": null,
            "max_width": null,
            "min_height": null,
            "min_width": null,
            "object_fit": null,
            "object_position": null,
            "order": null,
            "overflow": null,
            "overflow_x": null,
            "overflow_y": null,
            "padding": null,
            "right": null,
            "top": null,
            "visibility": null,
            "width": null
          }
        },
        "ad4a0b88fa7543efb7e592cf5bd4fd76": {
          "model_module": "@jupyter-widgets/controls",
          "model_name": "ProgressStyleModel",
          "model_module_version": "1.5.0",
          "state": {
            "_model_module": "@jupyter-widgets/controls",
            "_model_module_version": "1.5.0",
            "_model_name": "ProgressStyleModel",
            "_view_count": null,
            "_view_module": "@jupyter-widgets/base",
            "_view_module_version": "1.2.0",
            "_view_name": "StyleView",
            "bar_color": null,
            "description_width": ""
          }
        },
        "1f58e55ba82d4af392128eccb158a450": {
          "model_module": "@jupyter-widgets/base",
          "model_name": "LayoutModel",
          "model_module_version": "1.2.0",
          "state": {
            "_model_module": "@jupyter-widgets/base",
            "_model_module_version": "1.2.0",
            "_model_name": "LayoutModel",
            "_view_count": null,
            "_view_module": "@jupyter-widgets/base",
            "_view_module_version": "1.2.0",
            "_view_name": "LayoutView",
            "align_content": null,
            "align_items": null,
            "align_self": null,
            "border": null,
            "bottom": null,
            "display": null,
            "flex": null,
            "flex_flow": null,
            "grid_area": null,
            "grid_auto_columns": null,
            "grid_auto_flow": null,
            "grid_auto_rows": null,
            "grid_column": null,
            "grid_gap": null,
            "grid_row": null,
            "grid_template_areas": null,
            "grid_template_columns": null,
            "grid_template_rows": null,
            "height": null,
            "justify_content": null,
            "justify_items": null,
            "left": null,
            "margin": null,
            "max_height": null,
            "max_width": null,
            "min_height": null,
            "min_width": null,
            "object_fit": null,
            "object_position": null,
            "order": null,
            "overflow": null,
            "overflow_x": null,
            "overflow_y": null,
            "padding": null,
            "right": null,
            "top": null,
            "visibility": null,
            "width": null
          }
        },
        "94edaab582c94073be5dcfbe23f8dc88": {
          "model_module": "@jupyter-widgets/controls",
          "model_name": "DescriptionStyleModel",
          "model_module_version": "1.5.0",
          "state": {
            "_model_module": "@jupyter-widgets/controls",
            "_model_module_version": "1.5.0",
            "_model_name": "DescriptionStyleModel",
            "_view_count": null,
            "_view_module": "@jupyter-widgets/base",
            "_view_module_version": "1.2.0",
            "_view_name": "StyleView",
            "description_width": ""
          }
        }
      }
    },
    "accelerator": "GPU",
    "gpuClass": "standard"
  },
  "nbformat": 4,
  "nbformat_minor": 0
}